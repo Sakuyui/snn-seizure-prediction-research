{
 "cells": [
  {
   "cell_type": "code",
   "execution_count": 8,
   "metadata": {},
   "outputs": [],
   "source": [
    "from rp_segmentation_module import *"
   ]
  },
  {
   "cell_type": "code",
   "execution_count": null,
   "metadata": {},
   "outputs": [],
   "source": [
    "import pyprep\n",
    "import numpy as np\n",
    "import mne\n",
    "import os, sys\n",
    "from datetime import datetime\n",
    "\n",
    "sys.path.append(\"../data/dataset\")\n",
    "sys.path.append(\"..//microstate_lib/code\")"
   ]
  },
  {
   "cell_type": "code",
   "execution_count": 8,
   "metadata": {},
   "outputs": [
    {
     "ename": "NameError",
     "evalue": "name 'EEGDatasetFacade' is not defined",
     "output_type": "error",
     "traceback": [
      "\u001b[1;31m---------------------------------------------------------------------------\u001b[0m",
      "\u001b[1;31mNameError\u001b[0m                                 Traceback (most recent call last)",
      "Cell \u001b[1;32mIn[8], line 2\u001b[0m\n\u001b[0;32m      1\u001b[0m dataset_base_path \u001b[38;5;241m=\u001b[39m \u001b[38;5;124m\"\u001b[39m\u001b[38;5;124m../data\u001b[39m\u001b[38;5;124m\"\u001b[39m\n\u001b[1;32m----> 2\u001b[0m dataset_facade \u001b[38;5;241m=\u001b[39m \u001b[43mEEGDatasetFacade\u001b[49m(dataset_base_path\u001b[38;5;241m=\u001b[39mdataset_base_path)\n\u001b[0;32m      3\u001b[0m dataset \u001b[38;5;241m=\u001b[39m dataset_facade(\u001b[38;5;124m\"\u001b[39m\u001b[38;5;124mepileptic_eeg_dataset\u001b[39m\u001b[38;5;124m\"\u001b[39m)\n",
      "\u001b[1;31mNameError\u001b[0m: name 'EEGDatasetFacade' is not defined"
     ]
    }
   ],
   "source": [
    "\n",
    "\n",
    "\n",
    "dataset_base_path = \"../data\"\n",
    "dataset_facade = EEGDatasetFacade(dataset_base_path=dataset_base_path)\n",
    "dataset = dataset_facade(\"epileptic_eeg_dataset\")"
   ]
  },
  {
   "cell_type": "code",
   "execution_count": null,
   "metadata": {},
   "outputs": [],
   "source": []
  }
 ],
 "metadata": {
  "kernelspec": {
   "display_name": "sakuyui39",
   "language": "python",
   "name": "python3"
  },
  "language_info": {
   "codemirror_mode": {
    "name": "ipython",
    "version": 3
   },
   "file_extension": ".py",
   "mimetype": "text/x-python",
   "name": "python",
   "nbconvert_exporter": "python",
   "pygments_lexer": "ipython3",
   "version": "3.9.0"
  }
 },
 "nbformat": 4,
 "nbformat_minor": 2
}
