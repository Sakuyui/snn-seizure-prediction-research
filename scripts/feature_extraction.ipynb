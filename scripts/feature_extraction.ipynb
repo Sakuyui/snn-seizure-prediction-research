{
 "cells": [
  {
   "cell_type": "code",
   "execution_count": 1,
   "metadata": {},
   "outputs": [],
   "source": [
    "freq = 500\n",
    "decision_time_delay = freq * 10\n",
    "\n",
    "# sliding_window\n",
    "class FeatureRecorder():\n",
    "    def __init__(self) -> None:\n",
    "        self.logs = []\n",
    "        self.records = {}\n",
    "        self.length = 0\n",
    "    \n",
    "    def begin_recording(self, recorder_config,  remain_content=True, remain_record_objective=True):\n",
    "        if not remain_record_objective:\n",
    "            feature_recorder.clear_all()\n",
    "        elif not remain_content:\n",
    "            feature_recorder.clear_all_content()\n",
    "        \n",
    "        self.logs.append([self.length, -1])\n",
    "    \n",
    "    def end_recording(self):\n",
    "        self.logs[-1][1] = self.length - 1\n",
    "            \n",
    "    def record_at_t(self, time, window):\n",
    "        pass\n",
    "    \n",
    "    def clear_all_content(self):\n",
    "        return\n",
    "    def clear_all():\n",
    "        return\n",
    "    \n",
    "class RecordConfiguration():\n",
    "    def __init__(self) -> None:\n",
    "        self.record_objectives = {\n",
    "        }\n",
    "    def add_record_object(self, name, func):\n",
    "        self.record_objectives[name] = func\n",
    "\n",
    "class FeatureExtractor():\n",
    "    def __init__(self, freq, decision_time_delay):\n",
    "        self.freq = freq\n",
    "        self.decision_time_delay = decision_time_delay\n",
    "        \n",
    "    def setup_recorder(self,  feature_recorder, recorder_configuration, remain_content=False, remain_record_objective=False):\n",
    "        if not remain_record_objective:\n",
    "            feature_recorder.clear_all()\n",
    "            \n",
    "        elif not remain_content:\n",
    "            feature_recorder.clear_all_content()\n",
    "        \n",
    "        for config_key in recorder_configuration:\n",
    "            feature_recorder.add_record_object(config_key, recorder_configuration[config_key])\n",
    "    \n",
    "    def do_extraction(self, signal, recorder):\n",
    "        current_time = 0\n",
    "        feature_recorder = FeatureRecorder()\n",
    "        def window_views(signal, time_delay):\n",
    "            T = signal.shape[0]\n",
    "            for t in range(0, T):\n",
    "                yield signal[max(0, t - time_delay): t, :]\n",
    "        \n",
    "        feature_recorder.begin_recording(recorder)\n",
    "            \n",
    "            \n",
    "        for window in window_views(signal, self.freq * self.decision_time_delay):\n",
    "            feature_recorder.record_at_t(current_time, window)\n",
    "            current_time += 1\n",
    "            \n",
    "        feature_recorder.end_recording()\n",
    "        return feature_recorder"
   ]
  },
  {
   "cell_type": "code",
   "execution_count": 2,
   "metadata": {},
   "outputs": [],
   "source": [
    "import numpy as np\n",
    "import os, sys"
   ]
  },
  {
   "cell_type": "code",
   "execution_count": 3,
   "metadata": {},
   "outputs": [],
   "source": [
    "sys.path.append(\"../data/dataset\")\n",
    "sys.path.append(\"..//microstate_lib/code\")\n",
    "from dataset import *"
   ]
  },
  {
   "cell_type": "code",
   "execution_count": 4,
   "metadata": {},
   "outputs": [],
   "source": [
    "dataset_facade = EEGDatasetFacade(dataset_base_path=\"../data\")"
   ]
  },
  {
   "cell_type": "code",
   "execution_count": 5,
   "metadata": {},
   "outputs": [],
   "source": [
    "dataset = dataset_facade(\"ethz-ieeg\")"
   ]
  },
  {
   "cell_type": "code",
   "execution_count": 6,
   "metadata": {},
   "outputs": [
    {
     "ename": "ValueError",
     "evalue": "Unsupported file type (). Consider using a dedicated reader function for more options.",
     "output_type": "error",
     "traceback": [
      "\u001b[0;31m---------------------------------------------------------------------------\u001b[0m",
      "\u001b[0;31mValueError\u001b[0m                                Traceback (most recent call last)",
      "Cell \u001b[0;32mIn[6], line 1\u001b[0m\n\u001b[0;32m----> 1\u001b[0m data \u001b[38;5;241m=\u001b[39m \u001b[43mdataset\u001b[49m\u001b[38;5;241;43m.\u001b[39;49m\u001b[43mget_mne_data\u001b[49m\u001b[43m(\u001b[49m\u001b[43m[\u001b[49m\u001b[38;5;124;43m'\u001b[39;49m\u001b[38;5;124;43mlong\u001b[39;49m\u001b[38;5;124;43m'\u001b[39;49m\u001b[43m,\u001b[49m\u001b[43m \u001b[49m\u001b[38;5;241;43m1\u001b[39;49m\u001b[43m,\u001b[49m\u001b[43m \u001b[49m\u001b[38;5;241;43m1\u001b[39;49m\u001b[43m]\u001b[49m\u001b[43m)\u001b[49m\n",
      "File \u001b[0;32m~/research/snn-seizure-prediction-research/data/iEEG/ethz_ieeg/dataset.py:15\u001b[0m, in \u001b[0;36mETHZIEEG.get_mne_data\u001b[0;34m(self, index)\u001b[0m\n\u001b[1;32m     13\u001b[0m hour_id \u001b[38;5;241m=\u001b[39m index[\u001b[38;5;241m2\u001b[39m]\n\u001b[1;32m     14\u001b[0m filepath \u001b[38;5;241m=\u001b[39m os\u001b[38;5;241m.\u001b[39mpath\u001b[38;5;241m.\u001b[39mjoin(\u001b[38;5;28mself\u001b[39m\u001b[38;5;241m.\u001b[39mbase_path, \u001b[38;5;124mf\u001b[39m\u001b[38;5;124m\"\u001b[39m\u001b[38;5;132;01m{\u001b[39;00mrecord_type\u001b[38;5;132;01m}\u001b[39;00m\u001b[38;5;124m-term\u001b[39m\u001b[38;5;124m\"\u001b[39m, \u001b[38;5;124m\"\u001b[39m\u001b[38;5;124mID\u001b[39m\u001b[38;5;132;01m%02d\u001b[39;00m\u001b[38;5;124m\"\u001b[39m \u001b[38;5;241m%\u001b[39m record_id, \u001b[38;5;124m\"\u001b[39m\u001b[38;5;124mID\u001b[39m\u001b[38;5;132;01m%02d\u001b[39;00m\u001b[38;5;124m_\u001b[39m\u001b[38;5;132;01m%d\u001b[39;00m\u001b[38;5;124mh\u001b[39m\u001b[38;5;124m\"\u001b[39m \u001b[38;5;241m%\u001b[39m (record_id, hour_id))\n\u001b[0;32m---> 15\u001b[0m \u001b[38;5;28;01mreturn\u001b[39;00m \u001b[43mmne\u001b[49m\u001b[38;5;241;43m.\u001b[39;49m\u001b[43mio\u001b[49m\u001b[38;5;241;43m.\u001b[39;49m\u001b[43mread_raw\u001b[49m\u001b[43m(\u001b[49m\u001b[43mfilepath\u001b[49m\u001b[43m)\u001b[49m\n",
      "File \u001b[0;32m~/anaconda3/envs/py39/lib/python3.9/site-packages/mne/io/_read_raw.py:153\u001b[0m, in \u001b[0;36mread_raw\u001b[0;34m(fname, preload, verbose, **kwargs)\u001b[0m\n\u001b[1;32m    151\u001b[0m readers \u001b[38;5;241m=\u001b[39m _get_readers()\n\u001b[1;32m    152\u001b[0m \u001b[38;5;28;01mif\u001b[39;00m ext \u001b[38;5;129;01mnot\u001b[39;00m \u001b[38;5;129;01min\u001b[39;00m readers:\n\u001b[0;32m--> 153\u001b[0m     \u001b[43m_read_unsupported\u001b[49m\u001b[43m(\u001b[49m\u001b[43mfname\u001b[49m\u001b[43m)\u001b[49m\n\u001b[1;32m    154\u001b[0m these_readers \u001b[38;5;241m=\u001b[39m \u001b[38;5;28mlist\u001b[39m(readers[ext]\u001b[38;5;241m.\u001b[39mvalues())\n\u001b[1;32m    155\u001b[0m \u001b[38;5;28;01mfor\u001b[39;00m reader \u001b[38;5;129;01min\u001b[39;00m these_readers:\n",
      "File \u001b[0;32m~/anaconda3/envs/py39/lib/python3.9/site-packages/mne/io/_read_raw.py:22\u001b[0m, in \u001b[0;36m_read_unsupported\u001b[0;34m(fname, **kwargs)\u001b[0m\n\u001b[1;32m     20\u001b[0m     msg \u001b[38;5;241m+\u001b[39m\u001b[38;5;241m=\u001b[39m \u001b[38;5;124mf\u001b[39m\u001b[38;5;124m\"\u001b[39m\u001b[38;5;124m Try reading a \u001b[39m\u001b[38;5;132;01m{\u001b[39;00msuggest\u001b[38;5;132;01m}\u001b[39;00m\u001b[38;5;124m file instead.\u001b[39m\u001b[38;5;124m\"\u001b[39m\n\u001b[1;32m     21\u001b[0m msg \u001b[38;5;241m+\u001b[39m\u001b[38;5;241m=\u001b[39m \u001b[38;5;124m\"\u001b[39m\u001b[38;5;124m Consider using a dedicated reader function for more options.\u001b[39m\u001b[38;5;124m\"\u001b[39m\n\u001b[0;32m---> 22\u001b[0m \u001b[38;5;28;01mraise\u001b[39;00m \u001b[38;5;167;01mValueError\u001b[39;00m(msg)\n",
      "\u001b[0;31mValueError\u001b[0m: Unsupported file type (). Consider using a dedicated reader function for more options."
     ]
    }
   ],
   "source": [
    "data = dataset.get_mne_data(['long', 1, 1])"
   ]
  },
  {
   "cell_type": "code",
   "execution_count": 7,
   "metadata": {},
   "outputs": [],
   "source": []
  }
 ],
 "metadata": {
  "kernelspec": {
   "display_name": "py39",
   "language": "python",
   "name": "python3"
  },
  "language_info": {
   "codemirror_mode": {
    "name": "ipython",
    "version": 3
   },
   "file_extension": ".py",
   "mimetype": "text/x-python",
   "name": "python",
   "nbconvert_exporter": "python",
   "pygments_lexer": "ipython3",
   "version": "3.9.18"
  }
 },
 "nbformat": 4,
 "nbformat_minor": 2
}
