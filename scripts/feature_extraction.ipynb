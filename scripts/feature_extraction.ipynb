{
 "cells": [
  {
   "cell_type": "code",
   "execution_count": 3,
   "metadata": {},
   "outputs": [],
   "source": [
    "import pandas as pd\n",
    "\n",
    "class FeatureRecorder():\n",
    "    def __init__(self, recorder_config) -> None:\n",
    "        self.logs = []\n",
    "        self.records = {}\n",
    "        self.length = 0\n",
    "        self.config = recorder_config\n",
    "        for config_item in recorder_config:\n",
    "            self.records[config_item] = []\n",
    "\n",
    "    def begin_recording(self,  remain_content=True, remain_record_objective=True):\n",
    "        if not remain_record_objective:\n",
    "            self.clear_all()\n",
    "        elif not remain_content:\n",
    "            self.clear_all_content()\n",
    "        self.logs.append([self.length, -1])\n",
    "        \n",
    "    \n",
    "    def end_recording(self):\n",
    "        self.logs[-1][1] = self.length - 1\n",
    "            \n",
    "    def record_at_t(self, window, time = -1):\n",
    "        record_name = 0\n",
    "        for record_name in self.records:\n",
    "            item = self.config[record_name]\n",
    "            if not item['enabled']:\n",
    "                val = None\n",
    "            else:\n",
    "                func = item['func']\n",
    "                val = func(window)\n",
    "            if time < 0 or time >= self.length:\n",
    "                self.records[record_name].append(val)\n",
    "            else:\n",
    "                self.records[record_name][time] = val\n",
    "        self.length += 1\n",
    "            \n",
    "    def append_record(self, window = -1):\n",
    "        self.record_at_t(window, -1)\n",
    "        \n",
    "    def clear_all_content(self):\n",
    "        return\n",
    "    \n",
    "    def clear_all():\n",
    "        return\n",
    "    def get_dataframe(self):\n",
    "        return pd.DataFrame(self.records)\n",
    "    \n",
    "        \n",
    "    \n",
    "class RecordConfiguration():\n",
    "    def __init__(self) -> None:\n",
    "        self.record_objectives = {\n",
    "        }\n",
    "    def add_record_object(self, name, func):\n",
    "        self.record_objectives[name] = {'enabled': True, 'func': func}\n",
    "\n",
    "    def enable_record_item(self, name):\n",
    "        if name not in self.record_objectives:\n",
    "            return\n",
    "        self.record_objectives[name]['enabled'] = True\n",
    "        \n",
    "    def __iter__(self):\n",
    "        return self.record_objectives.__iter__()\n",
    "    \n",
    "    def __getitem__(self, key):\n",
    "        return self.record_objectives[key]\n",
    "        \n",
    "class FeatureExtractor():\n",
    "    def __init__(self, freq, decision_time_delay):\n",
    "        self.freq = freq\n",
    "        self.decision_time_delay = decision_time_delay\n",
    "        \n",
    "    \n",
    "    def do_extraction(self, signal, feature_recorder, append_record_mode = True, time_limit = -1):\n",
    "        current_time = 0\n",
    "        def window_views(signal, time_delay):\n",
    "            T = signal.shape[0]\n",
    "            for t in range(0, T):\n",
    "                yield signal[max(0, t - time_delay): t + 1, :]\n",
    "        \n",
    "        if append_record_mode:\n",
    "            feature_recorder.begin_recording(True, True)\n",
    "        else:\n",
    "            feature_recorder.begin_recording(False, True)\n",
    "\n",
    "            \n",
    "            \n",
    "        for window in window_views(signal, int(self.freq * self.decision_time_delay)):\n",
    "            if append_record_mode:\n",
    "                feature_recorder.append_record(window)\n",
    "            else:\n",
    "                feature_recorder.record_at_t(window, current_time)\n",
    "            current_time += 1\n",
    "            if time_limit >= 0 and current_time >= time_limit:\n",
    "                break\n",
    "            \n",
    "        feature_recorder.end_recording()\n",
    "        return feature_recorder"
   ]
  },
  {
   "cell_type": "code",
   "execution_count": 4,
   "metadata": {},
   "outputs": [],
   "source": [
    "import numpy as np\n",
    "import os, sys"
   ]
  },
  {
   "cell_type": "code",
   "execution_count": 5,
   "metadata": {},
   "outputs": [],
   "source": [
    "sys.path.append(\"../data/dataset\")\n",
    "sys.path.append(\"..//microstate_lib/code\")\n",
    "from dataset import *"
   ]
  },
  {
   "cell_type": "code",
   "execution_count": 6,
   "metadata": {},
   "outputs": [],
   "source": [
    "dataset_facade = EEGDatasetFacade(dataset_base_path=\"../data\")"
   ]
  },
  {
   "cell_type": "code",
   "execution_count": 7,
   "metadata": {},
   "outputs": [],
   "source": [
    "dataset = dataset_facade(\"ethz-ieeg\")"
   ]
  },
  {
   "cell_type": "code",
   "execution_count": 8,
   "metadata": {},
   "outputs": [
    {
     "name": "stdout",
     "output_type": "stream",
     "text": [
      "Creating RawArray with float64 data, n_channels=88, n_times=1843200\n",
      "    Range : 0 ... 1843199 =      0.000 ...  3599.998 secs\n",
      "Ready.\n"
     ]
    }
   ],
   "source": [
    "data = dataset.get_mne_data(['long', 1, 118])"
   ]
  },
  {
   "cell_type": "code",
   "execution_count": 9,
   "metadata": {},
   "outputs": [],
   "source": [
    "freq = data.info['sfreq']\n",
    "feature_extractor = FeatureExtractor(freq, int(10))"
   ]
  },
  {
   "cell_type": "code",
   "execution_count": 10,
   "metadata": {},
   "outputs": [],
   "source": [
    "import scipy\n",
    "config = RecordConfiguration()\n",
    "n_channels = 88\n",
    "def flatten_remove_diag(x):\n",
    "    x_no_diag = np.ndarray.flatten(x)\n",
    "    x_no_diag = np.delete(x_no_diag, range(0, len(x_no_diag), len(x) + 1), 0)\n",
    "    x_no_diag = x_no_diag.reshape(len(x), len(x) - 1)\n",
    "    return x_no_diag.ravel()\n",
    "\n",
    "def calculate_auto_corr(signal, lag):\n",
    "    corr = 0\n",
    "    for t in range(lag, signal.shape[0]):\n",
    "        corr += np.multiply(signal[t - lag, :], signal[t, :])\n",
    "    return corr\n",
    "\n",
    "def distribution_entropy(win):\n",
    "    mut_inf = mutual_information(win)\n",
    "    return np.sum([p_ij * np.log(p_ij) for p_ij in mut_inf / np.sum(mut_inf)])\n",
    "\n",
    "def network_entropy(win):\n",
    "    mutual_information_2d = -0.5 * (1 - (np.corrcoef(win.T, np.roll(win.T, -time_step_lag)))**2)\n",
    "    np.fill_diagonal(mutual_information_2d, 0)\n",
    "    s = np.repeat(np.sum(mutual_information_2d, axis = 0), win.shape[1] - 1)\n",
    "    return flatten_remove_diag(mutual_information_2d) / s\n",
    "    \n",
    "def mutual_information(win):\n",
    "    mutual_information = flatten_remove_diag(-0.5 * (1 - (np.corrcoef(win.T, np.roll(win.T, -time_step_lag)))**2))\n",
    "    return mutual_information\n",
    "\n",
    "config.add_record_object(\"electrode_sd\", lambda win: np.std(win, axis = 0))\n",
    "config.add_record_object('electrode_corr', lambda win: [[0]] * (n_channels * (n_channels - 1) // 2) if win.shape[0] < 2 else np.corrcoef(win.T)[np.triu_indices(n_channels, k = 1)])\n",
    "config.add_record_object(\"autocorrelate\", lambda win: calculate_auto_corr(win, 50))\n",
    "\n",
    "time_step_lag = 15\n",
    "config.add_record_object(\"mutual_information\", lambda win: mutual_information(win))\n",
    "config.add_record_object(\"distribution_entropy\", lambda win: distribution_entropy(win))\n",
    "config.add_record_object(\"network_entropy\", lambda win: network_entropy(win))\n",
    "\n",
    "recorder = FeatureRecorder(config)"
   ]
  },
  {
   "cell_type": "code",
   "execution_count": null,
   "metadata": {},
   "outputs": [],
   "source": []
  },
  {
   "cell_type": "code",
   "execution_count": 13,
   "metadata": {},
   "outputs": [],
   "source": [
    "recorder = feature_extractor.do_extraction(data.get_data().T, recorder, time_limit=100)"
   ]
  },
  {
   "cell_type": "code",
   "execution_count": 14,
   "metadata": {},
   "outputs": [],
   "source": [
    "def build_visuality_graph(signal):\n",
    "    n_graphs = signal.shape[1]\n",
    "    T = signal.shape[0]    "
   ]
  },
  {
   "cell_type": "code",
   "execution_count": 22,
   "metadata": {},
   "outputs": [
    {
     "data": {
      "text/plain": [
       "array([2, 3, 4, 6, 7, 8])"
      ]
     },
     "execution_count": 22,
     "metadata": {},
     "output_type": "execute_result"
    }
   ],
   "source": [
    "remove_diag(np.array([[1,2 ,3 ], [4, 5,6 ], [7, 8, 9]])).ravel()"
   ]
  },
  {
   "cell_type": "code",
   "execution_count": null,
   "metadata": {},
   "outputs": [],
   "source": []
  },
  {
   "cell_type": "code",
   "execution_count": null,
   "metadata": {},
   "outputs": [],
   "source": []
  }
 ],
 "metadata": {
  "kernelspec": {
   "display_name": "py39",
   "language": "python",
   "name": "python3"
  },
  "language_info": {
   "codemirror_mode": {
    "name": "ipython",
    "version": 3
   },
   "file_extension": ".py",
   "mimetype": "text/x-python",
   "name": "python",
   "nbconvert_exporter": "python",
   "pygments_lexer": "ipython3",
   "version": "3.9.0"
  }
 },
 "nbformat": 4,
 "nbformat_minor": 2
}
