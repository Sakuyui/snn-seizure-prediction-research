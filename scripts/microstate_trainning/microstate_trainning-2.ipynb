{
 "cells": [
  {
   "cell_type": "code",
   "execution_count": 1,
   "metadata": {},
   "outputs": [],
   "source": [
    "import numpy as np\n",
    "import os, sys"
   ]
  },
  {
   "cell_type": "code",
   "execution_count": 2,
   "metadata": {},
   "outputs": [],
   "source": [
    "sys.path.append(\"../data/dataset\")\n",
    "sys.path.append(\"..//microstate_lib/code\")\n",
    "from dataset import *"
   ]
  },
  {
   "cell_type": "code",
   "execution_count": 3,
   "metadata": {},
   "outputs": [],
   "source": [
    "dataset_facade = EEGDatasetFacade(dataset_base_path=\"../data\")"
   ]
  },
  {
   "cell_type": "code",
   "execution_count": 4,
   "metadata": {},
   "outputs": [],
   "source": [
    "dataset = dataset_facade(\"epileptic_eeg_dataset\")"
   ]
  },
  {
   "cell_type": "code",
   "execution_count": 5,
   "metadata": {},
   "outputs": [
    {
     "name": "stdout",
     "output_type": "stream",
     "text": [
      "Extracting EDF parameters from c:\\Users\\Micro\\Desktop\\MainResearchProjects\\snn-seizure-prediction-research\\data\\sEEG\\epileptic_eeg_dataset\\Raw_EDF_Files\\p10_Record1.edf...\n",
      "EDF file detected\n",
      "Setting channel info structure...\n",
      "Creating raw.info structure...\n"
     ]
    }
   ],
   "source": [
    "data = dataset.get_mne_data([10, 1])"
   ]
  },
  {
   "cell_type": "code",
   "execution_count": 6,
   "metadata": {},
   "outputs": [],
   "source": [
    "import eeg_recording"
   ]
  },
  {
   "cell_type": "code",
   "execution_count": 7,
   "metadata": {},
   "outputs": [
    {
     "name": "stdout",
     "output_type": "stream",
     "text": [
      "NOTE: pick_types() is a legacy function. New code should use inst.pick(...).\n"
     ]
    }
   ],
   "source": [
    "recording = eeg_recording.SingleSubjectRecording(\"0\", data)"
   ]
  },
  {
   "cell_type": "code",
   "execution_count": 8,
   "metadata": {},
   "outputs": [],
   "source": [
    "recording.run_latent_kmeans(n_states = 4, use_gfp = True, n_inits = 100)"
   ]
  },
  {
   "cell_type": "code",
   "execution_count": null,
   "metadata": {},
   "outputs": [
    {
     "data": {
      "text/plain": [
       "np.float64(0.8760361571308962)"
      ]
     },
     "execution_count": 17,
     "metadata": {},
     "output_type": "execute_result"
    }
   ],
   "source": [
    "recording.gev_tot"
   ]
  },
  {
   "cell_type": "code",
   "execution_count": null,
   "metadata": {},
   "outputs": [
    {
     "name": "stdout",
     "output_type": "stream",
     "text": [
      "Reading 0 ... 5401499  =      0.000 ... 10802.998 secs...\n",
      "EEG channel type selected for re-referencing\n",
      "Applying average reference.\n",
      "Applying a custom ('EEG',) reference.\n"
     ]
    },
    {
     "data": {
      "text/html": [
       "<details open>\n",
       "    <summary><strong>General</strong></summary>\n",
       "    <table class=\"table table-hover table-striped table-sm table-responsive small\">\n",
       "        <tr>\n",
       "            <th>Measurement date</th>\n",
       "            \n",
       "            <td>July 09, 2015  05:36:39 GMT</td>\n",
       "            \n",
       "        </tr>\n",
       "        <tr>\n",
       "            <th>Experimenter</th>\n",
       "            \n",
       "            <td>Unknown</td>\n",
       "            \n",
       "        </tr>\n",
       "        <tr>\n",
       "            <th>Participant</th>\n",
       "            \n",
       "            \n",
       "            <td>1785-15</td>\n",
       "            \n",
       "            \n",
       "        </tr>\n",
       "    </table>\n",
       "    </details>\n",
       "    <details open>\n",
       "        <summary><strong>Channels</strong></summary>\n",
       "        <table class=\"table table-hover table-striped table-sm table-responsive small\">\n",
       "            <tr>\n",
       "                <th>Digitized points</th>\n",
       "                \n",
       "                <td>Not available</td>\n",
       "                \n",
       "            </tr>\n",
       "            <tr>\n",
       "                <th>Good channels</th>\n",
       "                <td>19 EEG</td>\n",
       "            </tr>\n",
       "            <tr>\n",
       "                <th>Bad channels</th>\n",
       "                <td>None</td>\n",
       "            </tr>\n",
       "            <tr>\n",
       "                <th>EOG channels</th>\n",
       "                <td>Not available</td>\n",
       "            </tr>\n",
       "            <tr>\n",
       "                <th>ECG channels</th>\n",
       "                <td>Not available</td>\n",
       "            </tr>\n",
       "        </table>\n",
       "        </details>\n",
       "        <details open>\n",
       "            <summary><strong>Data</strong></summary>\n",
       "            <table class=\"table table-hover table-striped table-sm table-responsive small\">\n",
       "                \n",
       "                <tr>\n",
       "                    <th>Sampling frequency</th>\n",
       "                    <td>500.00 Hz</td>\n",
       "                </tr>\n",
       "                \n",
       "                \n",
       "                <tr>\n",
       "                    <th>Highpass</th>\n",
       "                    <td>1.00 Hz</td>\n",
       "                </tr>\n",
       "                \n",
       "                \n",
       "                <tr>\n",
       "                    <th>Lowpass</th>\n",
       "                    <td>70.00 Hz</td>\n",
       "                </tr>\n",
       "                \n",
       "                \n",
       "                \n",
       "                <tr>\n",
       "                    <th>Filenames</th>\n",
       "                    <td>p10_Record1.edf</td>\n",
       "                </tr>\n",
       "                \n",
       "                \n",
       "                <tr>\n",
       "                    <th>Duration</th>\n",
       "                    <td>03:00:03 (HH:MM:SS)</td>\n",
       "                </tr>\n",
       "                \n",
       "            </table>\n",
       "            </details>"
      ],
      "text/plain": [
       "<RawEDF | p10_Record1.edf, 19 x 5401500 (10803.0 s), ~783.0 MB, data loaded>"
      ]
     },
     "execution_count": 18,
     "metadata": {},
     "output_type": "execute_result"
    }
   ],
   "source": [
    "data.load_data()\n",
    "data.set_eeg_reference('average')"
   ]
  },
  {
   "cell_type": "code",
   "execution_count": null,
   "metadata": {},
   "outputs": [],
   "source": [
    "import asrpy\n",
    "asr = asrpy.ASR(sfreq=data.info[\"sfreq\"], cutoff=30)"
   ]
  },
  {
   "cell_type": "code",
   "execution_count": null,
   "metadata": {},
   "outputs": [],
   "source": [
    "asr.fit(data)"
   ]
  },
  {
   "cell_type": "code",
   "execution_count": null,
   "metadata": {},
   "outputs": [],
   "source": [
    "data = asr.transform(data)"
   ]
  },
  {
   "cell_type": "code",
   "execution_count": null,
   "metadata": {},
   "outputs": [
    {
     "name": "stdout",
     "output_type": "stream",
     "text": [
      "EEG channel type selected for re-referencing\n",
      "Applying average reference.\n",
      "Applying a custom ('EEG',) reference.\n"
     ]
    },
    {
     "data": {
      "text/html": [
       "<details open>\n",
       "    <summary><strong>General</strong></summary>\n",
       "    <table class=\"table table-hover table-striped table-sm table-responsive small\">\n",
       "        <tr>\n",
       "            <th>Measurement date</th>\n",
       "            \n",
       "            <td>July 09, 2015  05:36:39 GMT</td>\n",
       "            \n",
       "        </tr>\n",
       "        <tr>\n",
       "            <th>Experimenter</th>\n",
       "            \n",
       "            <td>Unknown</td>\n",
       "            \n",
       "        </tr>\n",
       "        <tr>\n",
       "            <th>Participant</th>\n",
       "            \n",
       "            \n",
       "            <td>1785-15</td>\n",
       "            \n",
       "            \n",
       "        </tr>\n",
       "    </table>\n",
       "    </details>\n",
       "    <details open>\n",
       "        <summary><strong>Channels</strong></summary>\n",
       "        <table class=\"table table-hover table-striped table-sm table-responsive small\">\n",
       "            <tr>\n",
       "                <th>Digitized points</th>\n",
       "                \n",
       "                <td>Not available</td>\n",
       "                \n",
       "            </tr>\n",
       "            <tr>\n",
       "                <th>Good channels</th>\n",
       "                <td>19 EEG</td>\n",
       "            </tr>\n",
       "            <tr>\n",
       "                <th>Bad channels</th>\n",
       "                <td>None</td>\n",
       "            </tr>\n",
       "            <tr>\n",
       "                <th>EOG channels</th>\n",
       "                <td>Not available</td>\n",
       "            </tr>\n",
       "            <tr>\n",
       "                <th>ECG channels</th>\n",
       "                <td>Not available</td>\n",
       "            </tr>\n",
       "        </table>\n",
       "        </details>\n",
       "        <details open>\n",
       "            <summary><strong>Data</strong></summary>\n",
       "            <table class=\"table table-hover table-striped table-sm table-responsive small\">\n",
       "                \n",
       "                <tr>\n",
       "                    <th>Sampling frequency</th>\n",
       "                    <td>500.00 Hz</td>\n",
       "                </tr>\n",
       "                \n",
       "                \n",
       "                <tr>\n",
       "                    <th>Highpass</th>\n",
       "                    <td>1.00 Hz</td>\n",
       "                </tr>\n",
       "                \n",
       "                \n",
       "                <tr>\n",
       "                    <th>Lowpass</th>\n",
       "                    <td>70.00 Hz</td>\n",
       "                </tr>\n",
       "                \n",
       "                \n",
       "                \n",
       "                <tr>\n",
       "                    <th>Filenames</th>\n",
       "                    <td>p10_Record1.edf</td>\n",
       "                </tr>\n",
       "                \n",
       "                \n",
       "                <tr>\n",
       "                    <th>Duration</th>\n",
       "                    <td>03:00:03 (HH:MM:SS)</td>\n",
       "                </tr>\n",
       "                \n",
       "            </table>\n",
       "            </details>"
      ],
      "text/plain": [
       "<RawEDF | p10_Record1.edf, 19 x 5401500 (10803.0 s), ~783.0 MB, data loaded>"
      ]
     },
     "execution_count": 28,
     "metadata": {},
     "output_type": "execute_result"
    }
   ],
   "source": [
    "data.set_eeg_reference('average')"
   ]
  },
  {
   "cell_type": "code",
   "execution_count": 29,
   "metadata": {},
   "outputs": [],
   "source": [
    "recording.run_latent_kmeans(n_states = 4, use_gfp = True, n_inits = 100)"
   ]
  },
  {
   "cell_type": "code",
   "execution_count": 33,
   "metadata": {},
   "outputs": [
    {
     "data": {
      "text/plain": [
       "np.float64(0.8946838971900718)"
      ]
     },
     "execution_count": 33,
     "metadata": {},
     "output_type": "execute_result"
    }
   ],
   "source": [
    "recording.gev_tot"
   ]
  },
  {
   "cell_type": "code",
   "execution_count": null,
   "metadata": {},
   "outputs": [],
   "source": []
  },
  {
   "cell_type": "code",
   "execution_count": 1,
   "metadata": {},
   "outputs": [],
   "source": [
    "import pyprep\n",
    "import numpy as np\n",
    "import mne\n",
    "import os, sys\n",
    "from datetime import datetime\n",
    "\n",
    "\n",
    "sys.path.append(\"../data/dataset\")\n",
    "sys.path.append(\"..//microstate_lib/code\")\n",
    "from dataset import *\n",
    "import eeg_recording\n",
    "import asrpy"
   ]
  },
  {
   "cell_type": "code",
   "execution_count": 2,
   "metadata": {},
   "outputs": [],
   "source": [
    "\n",
    "\n",
    "\n",
    "dataset_base_path = \"../data\"\n",
    "dataset_facade = EEGDatasetFacade(dataset_base_path=dataset_base_path)\n",
    "dataset = dataset_facade(\"epileptic_eeg_dataset\")\n"
   ]
  },
  {
   "cell_type": "code",
   "execution_count": 3,
   "metadata": {},
   "outputs": [],
   "source": [
    "\n",
    "record_indexes = {\n",
    "    # '10': [[10, 1], [10, 2]], \n",
    "    '11': [[11, 1], [11, 2], [11, 3], [11, 4]], \n",
    "    '12': [[12, 1], [12, 2], [12, 3]],\n",
    "    '13': [[13, 1], [13, 2], [13, 3], [13, 4]], \n",
    "    '14': [[14, 1], [14, 2], [14, 3]],\n",
    "    '15': [[15, 1], [15, 2], [15, 3], [15, 4]]\n",
    "}"
   ]
  },
  {
   "cell_type": "code",
   "execution_count": 4,
   "metadata": {},
   "outputs": [],
   "source": [
    "\n",
    "\n",
    "\n",
    "microstate_search_range = (4, 16)\n",
    "n_iters = 100\n",
    "stop_delta_threshold = 0.025\n",
    "store_4_microstates = True\n",
    "save_preprocessed_data = True\n",
    "\n",
    "store_base_path = dataset.base_path\n",
    "cut_off = 30\n",
    "\n",
    "global start_time\n",
    "global end_time\n",
    "start_time = -1\n",
    "end_time = -1\n",
    "save_segmentation = True\n",
    "\n",
    "def begin_timing():\n",
    "    global start_time\n",
    "    start_time = datetime.now()\n",
    "def end_timing():\n",
    "    global end_time\n",
    "    end_time = datetime.now()\n",
    "    \n",
    "def report_execution_time(event = \"\"):\n",
    "    end_timing()\n",
    "    print('[%s] Time Consumption: {}'.format(event, end_time - start_time))\n",
    "\n",
    "\n",
    "def store(maps, segmentation, gev, preprocessing_desc, person_id):\n",
    "    n_states = maps.shape[0]\n",
    "    save_map_file_name = f\"[{preprocessing_desc}]person_{person_id}_states{n_states}_gev_{gev}.npy\"\n",
    "\n",
    "    np.save(os.path.join(store_base_path, save_map_file_name), maps)\n",
    "    if save_segmentation:\n",
    "        save_segmentation_file_name = f\"[seg-{preprocessing_desc}]person_{person_id}_states{n_states}_gev_{gev}.npy\"\n",
    "        np.save(os.path.join(store_base_path, save_segmentation_file_name), segmentation)\n",
    "\n",
    "load_preprocessing = set(['10'])\n",
    "    "
   ]
  },
  {
   "cell_type": "code",
   "execution_count": 8,
   "metadata": {},
   "outputs": [
    {
     "name": "stdout",
     "output_type": "stream",
     "text": [
      "Train microstates for person 11\n",
      "Extracting EDF parameters from /home/huang/research/snn-seizure-prediction-research/data/sEEG/epileptic_eeg_dataset/Raw_EDF_Files/p11_Record1.edf...\n",
      "EDF file detected\n",
      "Setting channel info structure...\n",
      "Creating raw.info structure...\n",
      "Extracting EDF parameters from /home/huang/research/snn-seizure-prediction-research/data/sEEG/epileptic_eeg_dataset/Raw_EDF_Files/p11_Record2.edf...\n",
      "EDF file detected\n",
      "Setting channel info structure...\n",
      "Creating raw.info structure...\n"
     ]
    },
    {
     "name": "stderr",
     "output_type": "stream",
     "text": [
      "../data/./sEEG/epileptic_eeg_dataset/dataset.py:14: RuntimeWarning: Channels contain different highpass filters. Highest filter setting will be stored.\n",
      "  return mne.io.read_raw(filepath)\n",
      "../data/./sEEG/epileptic_eeg_dataset/dataset.py:14: RuntimeWarning: Channels contain different lowpass filters. Lowest filter setting will be stored.\n",
      "  return mne.io.read_raw(filepath)\n",
      "../data/./sEEG/epileptic_eeg_dataset/dataset.py:14: RuntimeWarning: Omitted 3 annotation(s) that were outside data range.\n",
      "  return mne.io.read_raw(filepath)\n",
      "../data/./sEEG/epileptic_eeg_dataset/dataset.py:14: RuntimeWarning: Channels contain different highpass filters. Highest filter setting will be stored.\n",
      "  return mne.io.read_raw(filepath)\n",
      "../data/./sEEG/epileptic_eeg_dataset/dataset.py:14: RuntimeWarning: Channels contain different lowpass filters. Lowest filter setting will be stored.\n",
      "  return mne.io.read_raw(filepath)\n"
     ]
    },
    {
     "name": "stdout",
     "output_type": "stream",
     "text": [
      "{'EEG Fp2-Ref': 'Fp2', 'EEG Fp1-Ref': 'Fp1', 'EEG F8-Ref': 'F8', 'EEG F4-Ref': 'F4', 'EEG Fz-Ref': 'Fz', 'EEG F3-Ref': 'F3', 'EEG F7-Ref': 'F7', 'EEG A2-Ref': 'A2', 'EEG T4-Ref': 'T4', 'EEG C4-Ref': 'C4', 'EEG Cz-Ref': 'Cz', 'EEG C3-Ref': 'C3', 'EEG T3-Ref': 'T3', 'EEG A1-Ref': 'A1', 'EEG T6-Ref': 'T6', 'EEG P4-Ref': 'P4', 'EEG Pz-Ref': 'Pz', 'EEG P3-Ref': 'P3', 'EEG T5-Ref': 'T5', 'EEG O2-Ref': 'O2', 'EEG O1-Ref': 'O1', 'ECG EKG': 'ECG EKG', 'Manual': 'Manual'}\n",
      "[Preprocessing 0: PREP]\n",
      "Reading 0 ... 8893999  =      0.000 ... 17787.998 secs...\n",
      "NOTE: pick_channels() is a legacy function. New code should use inst.pick(...).\n",
      "NOTE: pick_types() is a legacy function. New code should use inst.pick(...).\n",
      "Setting up high-pass filter at 1 Hz\n",
      "\n",
      "FIR filter parameters\n",
      "---------------------\n",
      "Designing a one-pass, zero-phase, non-causal highpass filter:\n",
      "- Windowed time-domain design (firwin) method\n",
      "- Hamming window with 0.0194 passband ripple and 53 dB stopband attenuation\n",
      "- Lower passband edge: 1.00\n",
      "- Lower transition bandwidth: 1.00 Hz (-6 dB cutoff frequency: 0.50 Hz)\n",
      "- Filter length: 1651 samples (3.302 s)\n",
      "\n"
     ]
    },
    {
     "name": "stderr",
     "output_type": "stream",
     "text": [
      "[Parallel(n_jobs=1)]: Done  17 tasks      | elapsed:    3.0s\n"
     ]
    },
    {
     "name": "stdout",
     "output_type": "stream",
     "text": [
      "NOTE: pick_types() is a legacy function. New code should use inst.pick(...).\n",
      "Setting up high-pass filter at 1 Hz\n",
      "\n",
      "FIR filter parameters\n",
      "---------------------\n",
      "Designing a one-pass, zero-phase, non-causal highpass filter:\n",
      "- Windowed time-domain design (firwin) method\n",
      "- Hamming window with 0.0194 passband ripple and 53 dB stopband attenuation\n",
      "- Lower passband edge: 1.00\n",
      "- Lower transition bandwidth: 1.00 Hz (-6 dB cutoff frequency: 0.50 Hz)\n",
      "- Filter length: 1651 samples (3.302 s)\n",
      "\n"
     ]
    },
    {
     "name": "stderr",
     "output_type": "stream",
     "text": [
      "[Parallel(n_jobs=1)]: Done  17 tasks      | elapsed:    3.0s\n"
     ]
    },
    {
     "name": "stdout",
     "output_type": "stream",
     "text": [
      "NOTE: pick_types() is a legacy function. New code should use inst.pick(...).\n"
     ]
    }
   ],
   "source": [
    "from pyprep.prep_pipeline import PrepPipeline\n",
    "\n",
    "prep_params = {\n",
    "    \"ref_chs\": \"eeg\",\n",
    "    \"reref_chs\": \"eeg\",\n",
    "    \"line_freqs\": [],\n",
    "}\n",
    "\n",
    "montage_kind = \"standard_1020\"\n",
    "montage = mne.channels.make_standard_montage(montage_kind)\n",
    "\n",
    "for person_index in record_indexes:\n",
    "    print(f\"Train microstates for person {person_index}\")\n",
    "    record_index_list = record_indexes[person_index]\n",
    "    \n",
    "    pre_gev_tot = 0\n",
    "    if person_index not in load_preprocessing:\n",
    "        data_count = len(record_index_list)\n",
    "        ast_results = []\n",
    "        for slice_begin in range(0, data_count, 2):\n",
    "            data = dataset.get_merge_mne_data(record_index_list[slice_begin: slice_begin + 2])\n",
    "            print({ch_name: ch_name.replace(\"EEG \", \"\").replace(\"-Ref\", \"\") for ch_name in data.ch_names})\n",
    "\n",
    "            data.rename_channels({ch_name: ch_name.replace(\"EEG \", \"\").replace(\"-Ref\", \"\") for ch_name in data.ch_names})\n",
    "            data.drop_channels(['ECG EKG', 'Manual'], on_missing='warning')\n",
    "            #! --- preprocessing ---\n",
    "            print(f\"[Preprocessing 0: PREP]\")\n",
    "            prep = PrepPipeline(data, prep_params, montage)\n",
    "            prep.fit()\n",
    "\n",
    "            print(f\"[Preprocessing 1: {slice_begin // 2 + 1}/{int(np.ceil(data_count / 2))}]... ASR, cutoff = {cut_off}\")\n",
    "            asr = asrpy.ASR(sfreq=data.info[\"sfreq\"], cutoff=cut_off)\n",
    "            data.load_data()\n",
    "            asr.fit(data)\n",
    "            data = asr.transform(data)\n",
    "            ast_results.append(data)\n",
    "        data = mne.concatenate_raws(ast_results)\n",
    "        del ast_results\n",
    "        print(\"[Preprocessing 2]... reference to average\")\n",
    "        data = data.set_eeg_reference('average')\n",
    "        if save_preprocessed_data:\n",
    "            mne.export.export_raw(os.path.join(store_base_path, f'[preprocessed]person{person_index}.edf'), data)\n",
    "    else:\n",
    "        print(f\"Load preprocessed data...\")\n",
    "        data = mne.io.read_raw(os.path.join(store_base_path, f'[preprocessed]person{person_index}.edf'))\n",
    "    break\n",
    "    recording = eeg_recording.SingleSubjectRecording(\"0\", data)\n",
    "\n",
    "    #! --- microstate training\n",
    "    print(f\"Begin training microstates. Result will save in '{store_base_path}'\")\n",
    "    print(f\" -- Search Microstate Amount from {microstate_search_range[0]} to {microstate_search_range[1]}\")\n",
    "\n",
    "    for n_states in range(microstate_search_range[0], microstate_search_range[1]):\n",
    "        print(f\"Begin Training {n_states} microstates\")\n",
    "        recording.run_latent_kmeans(n_states = n_states, use_gfp = True, n_inits = n_iters)\n",
    "        current_gev_tot = recording.gev_tot\n",
    "        delta = current_gev_tot - pre_gev_tot\n",
    "        if delta < stop_delta_threshold:\n",
    "            break\n",
    "        if n_states == 4 and store_4_microstates:\n",
    "            store(recording.latent_maps, recording.latent_segmentation, recording.gev_tot, \"[avg+asr]\", person_index)\n",
    "        pre_gev_tot = current_gev_tot\n",
    "    store(recording.latent_maps, recording.latent_segmentation, recording.gev_tot, \"[avg+asr]\", person_index)\n",
    "    break"
   ]
  },
  {
   "cell_type": "code",
   "execution_count": null,
   "metadata": {},
   "outputs": [],
   "source": []
  },
  {
   "cell_type": "code",
   "execution_count": null,
   "metadata": {},
   "outputs": [],
   "source": []
  }
 ],
 "metadata": {
  "kernelspec": {
   "display_name": "py39",
   "language": "python",
   "name": "python3"
  },
  "language_info": {
   "codemirror_mode": {
    "name": "ipython",
    "version": 3
   },
   "file_extension": ".py",
   "mimetype": "text/x-python",
   "name": "python",
   "nbconvert_exporter": "python",
   "pygments_lexer": "ipython3",
   "version": "3.9.0"
  }
 },
 "nbformat": 4,
 "nbformat_minor": 2
}
