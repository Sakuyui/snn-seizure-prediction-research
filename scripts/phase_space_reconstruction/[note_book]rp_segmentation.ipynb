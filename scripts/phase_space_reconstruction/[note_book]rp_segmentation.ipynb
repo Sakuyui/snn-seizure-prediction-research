{
 "cells": [
  {
   "cell_type": "code",
   "execution_count": 1,
   "metadata": {},
   "outputs": [],
   "source": [
    "from rp_segmentation import InfinitePhaseSpaceReonstructionBasedSegmentGenerator, FiniteTimeDelaySegmentGenerator, FiniteTimeDelayEEGSegmentGenerator"
   ]
  },
  {
   "cell_type": "code",
   "execution_count": 2,
   "metadata": {},
   "outputs": [],
   "source": [
    "import pyprep\n",
    "import numpy as np\n",
    "import mne\n",
    "import os, sys\n",
    "from datetime import datetime\n",
    "\n",
    "sys.path.append(\"../data/dataset\")\n",
    "sys.path.append(\"..//microstate_lib/code\")"
   ]
  },
  {
   "cell_type": "code",
   "execution_count": 3,
   "metadata": {},
   "outputs": [],
   "source": [
    "from dataset import *\n",
    "\n",
    "dataset_base_path = \"../data\"\n",
    "dataset_facade = EEGDatasetFacade(dataset_base_path=dataset_base_path)\n",
    "dataset = dataset_facade(\"epileptic_eeg_dataset\")"
   ]
  },
  {
   "cell_type": "code",
   "execution_count": 4,
   "metadata": {},
   "outputs": [],
   "source": [
    "microstate_maps = np.load(\"../data/sEEG/epileptic_eeg_dataset/[[prep-asr]]person_10_states5_gev_0.854478493274428.npy\")\n",
    "microstate_sequence = np.load(\"../data/sEEG/epileptic_eeg_dataset/[seg-[prep-asr]]person_10_states5_gev_0.854478493274428.npy\")"
   ]
  },
  {
   "cell_type": "code",
   "execution_count": 5,
   "metadata": {},
   "outputs": [],
   "source": [
    "def to_segment_sequence(microstate_sequence):\n",
    "    pre_state = -1\n",
    "    segment_sequence = []\n",
    "    for i in range(len(microstate_sequence)):\n",
    "        state = microstate_sequence[i]\n",
    "        if pre_state < 0:\n",
    "            pre_state = state\n",
    "        elif microstate_sequence[i] != pre_state:\n",
    "            segment_sequence.append(pre_state)\n",
    "            pre_state = state\n",
    "    return np.array(segment_sequence)\n"
   ]
  },
  {
   "cell_type": "code",
   "execution_count": 6,
   "metadata": {},
   "outputs": [
    {
     "name": "stdout",
     "output_type": "stream",
     "text": [
      "../data/./sEEG/epileptic_eeg_dataset/Raw_EDF_Files/p10_Record1.edf\n",
      "Extracting EDF parameters from /home/huang/research/snn-seizure-prediction-research/data/sEEG/epileptic_eeg_dataset/Raw_EDF_Files/p10_Record1.edf...\n",
      "EDF file detected\n",
      "Setting channel info structure...\n",
      "Creating raw.info structure...\n",
      "../data/./sEEG/epileptic_eeg_dataset/Raw_EDF_Files/p10_Record2.edf\n",
      "Extracting EDF parameters from /home/huang/research/snn-seizure-prediction-research/data/sEEG/epileptic_eeg_dataset/Raw_EDF_Files/p10_Record2.edf...\n",
      "EDF file detected\n",
      "Setting channel info structure...\n",
      "Creating raw.info structure...\n"
     ]
    }
   ],
   "source": [
    "data = dataset.get_merge_numpy_data([[10, 1], [10, 2]]).T"
   ]
  },
  {
   "cell_type": "code",
   "execution_count": 7,
   "metadata": {},
   "outputs": [
    {
     "data": {
      "text/plain": [
       "(10801000, 19)"
      ]
     },
     "execution_count": 7,
     "metadata": {},
     "output_type": "execute_result"
    }
   ],
   "source": [
    "data.shape"
   ]
  },
  {
   "cell_type": "code",
   "execution_count": 8,
   "metadata": {},
   "outputs": [],
   "source": [
    "segment_generator = FiniteTimeDelayEEGSegmentGenerator(data=data, time_delay=5)"
   ]
  },
  {
   "cell_type": "code",
   "execution_count": null,
   "metadata": {},
   "outputs": [],
   "source": []
  },
  {
   "cell_type": "code",
   "execution_count": 9,
   "metadata": {},
   "outputs": [],
   "source": [
    "microstate_segments = to_segment_sequence(microstate_sequence)"
   ]
  },
  {
   "cell_type": "code",
   "execution_count": 12,
   "metadata": {},
   "outputs": [],
   "source": [
    "segment_generator = FiniteTimeDelaySegmentGenerator(data=microstate_segments, time_delay=5, n_states=5)\n"
   ]
  },
  {
   "cell_type": "code",
   "execution_count": null,
   "metadata": {},
   "outputs": [],
   "source": []
  },
  {
   "cell_type": "code",
   "execution_count": 13,
   "metadata": {},
   "outputs": [
    {
     "name": "stderr",
     "output_type": "stream",
     "text": [
      "  0%|          | 17/584281 [00:00<57:47, 168.50it/s]"
     ]
    },
    {
     "name": "stdout",
     "output_type": "stream",
     "text": [
      "dist=0.0 at coordination 5, 8\n",
      "dist=0.0 at coordination 6, 9\n",
      "dist=0.0 at coordination 7, 10\n",
      "dist=0.0 at coordination 8, 11\n",
      "dist=0.0 at coordination 9, 12\n",
      "dist=0.0 at coordination 10, 76\n",
      "dist=0.0 at coordination 11, 49\n",
      "dist=0.0 at coordination 12, 50\n",
      "dist=0.0 at coordination 13, 43\n",
      "dist=0.0 at coordination 14, 59\n",
      "dist=0.0 at coordination 15, 60\n",
      "dist=0.0 at coordination 16, 19\n",
      "dist=0.0 at coordination 17, 120\n",
      "dist=0.0 at coordination 18, 35\n",
      "dist=0.0 at coordination 19, 36\n",
      "dist=0.0 at coordination 20, 368\n",
      "dist=0.0 at coordination 21, 2810\n",
      "dist=0.0 at coordination 22, 3023\n",
      "dist=0.0 at coordination 23, 2355\n"
     ]
    },
    {
     "name": "stderr",
     "output_type": "stream",
     "text": [
      "  0%|          | 70/584281 [00:00<1:11:26, 136.29it/s]"
     ]
    },
    {
     "name": "stdout",
     "output_type": "stream",
     "text": [
      "dist=0.0 at coordination 24, 617\n",
      "dist=0.0 at coordination 25, 506\n",
      "dist=0.0 at coordination 26, 147\n",
      "dist=0.0 at coordination 27, 527\n",
      "dist=0.0 at coordination 28, 84\n",
      "dist=0.0 at coordination 29, 896\n",
      "dist=0.0 at coordination 30, 412\n",
      "dist=0.0 at coordination 31, 145\n",
      "dist=0.0 at coordination 32, 248\n",
      "dist=0.0 at coordination 33, 110\n",
      "dist=0.0 at coordination 34, 111\n",
      "dist=0.0 at coordination 35, 112\n",
      "dist=0.0 at coordination 36, 61\n",
      "dist=0.0 at coordination 37, 62\n",
      "dist=0.0 at coordination 38, 127\n",
      "dist=0.0 at coordination 39, 128\n",
      "dist=0.0 at coordination 40, 108\n",
      "dist=0.0 at coordination 41, 295\n",
      "dist=0.0 at coordination 42, 75\n",
      "dist=0.0 at coordination 43, 51\n",
      "dist=0.0 at coordination 44, 453\n",
      "dist=0.0 at coordination 45, 190\n",
      "dist=0.0 at coordination 46, 191\n",
      "dist=0.0 at coordination 47, 1184\n",
      "dist=0.0 at coordination 48, 138\n",
      "dist=0.0 at coordination 49, 77\n",
      "dist=0.0 at coordination 50, 90\n",
      "dist=0.0 at coordination 51, 116\n",
      "dist=0.0 at coordination 52, 87\n",
      "dist=0.0 at coordination 53, 88\n",
      "dist=0.0 at coordination 54, 859\n",
      "dist=0.0 at coordination 55, 421\n",
      "dist=0.0 at coordination 56, 422\n",
      "dist=0.0 at coordination 57, 137\n",
      "dist=0.0 at coordination 58, 1029\n",
      "dist=0.0 at coordination 59, 117\n",
      "dist=0.0 at coordination 60, 65\n",
      "dist=0.0 at coordination 61, 119\n",
      "dist=0.0 at coordination 62, 126\n",
      "dist=0.0 at coordination 63, 188\n",
      "dist=0.0 at coordination 64, 575\n",
      "dist=0.0 at coordination 65, 118\n",
      "dist=0.0 at coordination 66, 113\n",
      "dist=0.0 at coordination 67, 74\n",
      "dist=0.0 at coordination 68, 202\n",
      "dist=0.0 at coordination 69, 2605\n",
      "dist=0.0 at coordination 70, 82\n",
      "dist=0.0 at coordination 71, 83\n",
      "dist=0.0 at coordination 72, 291\n",
      "dist=0.0 at coordination 73, 157\n",
      "dist=0.0 at coordination 74, 114\n"
     ]
    },
    {
     "name": "stderr",
     "output_type": "stream",
     "text": [
      "  0%|          | 85/584281 [00:00<1:22:48, 117.58it/s]"
     ]
    },
    {
     "name": "stdout",
     "output_type": "stream",
     "text": [
      "dist=0.0 at coordination 75, 115\n",
      "dist=0.0 at coordination 76, 91\n",
      "dist=0.0 at coordination 77, 139\n",
      "dist=0.0 at coordination 78, 103\n",
      "dist=0.0 at coordination 79, 104\n",
      "dist=0.0 at coordination 80, 411\n",
      "dist=0.0 at coordination 81, 789\n",
      "dist=0.0 at coordination 82, 1108\n",
      "dist=0.0 at coordination 83, 1109\n",
      "dist=0.0 at coordination 84, 895\n",
      "dist=0.0 at coordination 85, 1593\n",
      "dist=0.0 at coordination 86, 452\n",
      "dist=0.0 at coordination 87, 226\n",
      "dist=0.0 at coordination 88, 227\n",
      "dist=0.0 at coordination 89, 321\n",
      "dist=0.0 at coordination 90, 140\n",
      "dist=0.0 at coordination 91, 141\n",
      "dist=0.0 at coordination 92, 107\n",
      "dist=0.0 at coordination 93, 129\n",
      "dist=0.0 at coordination 94, 286\n",
      "dist=0.0 at coordination 95, 287\n",
      "dist=0.0 at coordination 96, 648\n",
      "dist=0.0 at coordination 97, 8639\n",
      "dist=0.0 at coordination 98, 33644\n",
      "dist=0.0 at coordination 99, 30591\n"
     ]
    },
    {
     "name": "stderr",
     "output_type": "stream",
     "text": [
      "  0%|          | 131/584281 [00:02<4:06:15, 39.54it/s]"
     ]
    },
    {
     "name": "stdout",
     "output_type": "stream",
     "text": [
      "dist=0.0 at coordination 100, 10508\n",
      "dist=0.0 at coordination 101, 176\n",
      "dist=0.0 at coordination 102, 150\n",
      "dist=0.0 at coordination 103, 143\n",
      "dist=0.0 at coordination 104, 203\n",
      "dist=0.0 at coordination 105, 204\n",
      "dist=0.0 at coordination 106, 205\n",
      "dist=0.0 at coordination 107, 161\n",
      "dist=0.0 at coordination 108, 181\n",
      "dist=0.0 at coordination 109, 182\n",
      "dist=0.0 at coordination 110, 183\n",
      "dist=0.0 at coordination 111, 130\n",
      "dist=0.0 at coordination 112, 121\n",
      "dist=0.0 at coordination 113, 171\n",
      "dist=0.0 at coordination 114, 158\n",
      "dist=0.0 at coordination 115, 159\n",
      "dist=0.0 at coordination 116, 208\n",
      "dist=0.0 at coordination 117, 209\n",
      "dist=0.0 at coordination 118, 167\n",
      "dist=0.0 at coordination 119, 122\n",
      "dist=0.0 at coordination 120, 123\n",
      "dist=0.0 at coordination 121, 124\n",
      "dist=0.0 at coordination 122, 125\n",
      "dist=0.0 at coordination 123, 133\n",
      "dist=0.0 at coordination 124, 131\n",
      "dist=0.0 at coordination 125, 132\n",
      "dist=0.0 at coordination 126, 187\n",
      "dist=0.0 at coordination 127, 251\n",
      "dist=0.0 at coordination 128, 252\n",
      "dist=0.0 at coordination 129, 233\n",
      "dist=0.0 at coordination 130, 184\n",
      "dist=0.0 at coordination 131, 170\n",
      "dist=0.0 at coordination 132, 168\n",
      "dist=0.0 at coordination 133, 169\n",
      "dist=0.0 at coordination 134, 1193\n",
      "dist=0.0 at coordination 135, 1794\n",
      "dist=0.0 at coordination 136, 1783\n",
      "dist=0.0 at coordination 137, 423\n",
      "dist=0.0 at coordination 138, 424\n",
      "dist=0.0 at coordination 139, 142\n",
      "dist=0.0 at coordination 140, 178\n",
      "dist=0.0 at coordination 141, 160\n",
      "dist=0.0 at coordination 142, 206\n",
      "dist=0.0 at coordination 143, 151\n",
      "dist=0.0 at coordination 144, 152\n",
      "dist=0.0 at coordination 145, 436\n",
      "dist=0.0 at coordination 146, 1370\n"
     ]
    },
    {
     "name": "stderr",
     "output_type": "stream",
     "text": [
      "  0%|          | 163/584281 [00:03<2:52:19, 56.49it/s]"
     ]
    },
    {
     "name": "stdout",
     "output_type": "stream",
     "text": [
      "dist=0.0 at coordination 147, 1371\n",
      "dist=0.0 at coordination 148, 642\n",
      "dist=0.0 at coordination 149, 643\n",
      "dist=0.0 at coordination 150, 177\n",
      "dist=0.0 at coordination 151, 268\n",
      "dist=0.0 at coordination 152, 363\n",
      "dist=0.0 at coordination 153, 474\n",
      "dist=0.0 at coordination 154, 984\n",
      "dist=0.0 at coordination 155, 1084\n",
      "dist=0.0 at coordination 156, 708\n",
      "dist=0.0 at coordination 157, 292\n",
      "dist=0.0 at coordination 158, 215\n",
      "dist=0.0 at coordination 159, 216\n",
      "dist=0.0 at coordination 160, 179\n",
      "dist=0.0 at coordination 161, 180\n",
      "dist=0.0 at coordination 162, 253\n",
      "dist=0.0 at coordination 163, 841\n",
      "dist=0.0 at coordination 164, 985\n",
      "dist=0.0 at coordination 165, 568\n",
      "dist=0.0 at coordination 166, 500\n",
      "dist=0.0 at coordination 167, 210\n",
      "dist=0.0 at coordination 168, 186\n",
      "dist=0.0 at coordination 169, 212\n",
      "dist=0.0 at coordination 170, 185\n",
      "dist=0.0 at coordination 171, 214\n",
      "dist=0.0 at coordination 172, 1094\n",
      "dist=0.0 at coordination 173, 2383\n",
      "dist=0.0 at coordination 174, 821\n",
      "dist=0.0 at coordination 175, 822\n"
     ]
    },
    {
     "name": "stderr",
     "output_type": "stream",
     "text": [
      "  0%|          | 177/584281 [00:03<3:18:52, 48.95it/s]"
     ]
    },
    {
     "name": "stdout",
     "output_type": "stream",
     "text": [
      "dist=0.0 at coordination 176, 12768\n",
      "dist=0.0 at coordination 177, 274\n",
      "dist=0.0 at coordination 178, 207\n",
      "dist=0.0 at coordination 179, 217\n",
      "dist=0.0 at coordination 180, 218\n",
      "dist=0.0 at coordination 181, 219\n",
      "dist=0.0 at coordination 182, 220\n",
      "dist=0.0 at coordination 183, 249\n",
      "dist=0.0 at coordination 184, 234\n",
      "dist=0.0 at coordination 185, 213\n",
      "dist=0.0 at coordination 186, 211\n",
      "dist=0.0 at coordination 187, 375\n",
      "dist=0.0 at coordination 188, 318\n",
      "dist=0.0 at coordination 189, 377\n",
      "dist=0.0 at coordination 190, 713\n",
      "dist=0.0 at coordination 191, 927\n",
      "dist=0.0 at coordination 192, 195\n",
      "dist=0.0 at coordination 193, 8637\n"
     ]
    },
    {
     "name": "stderr",
     "output_type": "stream",
     "text": [
      "  0%|          | 189/584281 [00:03<3:15:32, 49.78it/s]"
     ]
    },
    {
     "name": "stdout",
     "output_type": "stream",
     "text": [
      "dist=0.0 at coordination 194, 341\n",
      "dist=0.0 at coordination 195, 8892\n",
      "dist=0.0 at coordination 196, 5343\n",
      "dist=0.0 at coordination 197, 7275\n",
      "dist=0.0 at coordination 198, 1026\n"
     ]
    },
    {
     "name": "stderr",
     "output_type": "stream",
     "text": [
      "  0%|          | 218/584281 [00:04<3:45:58, 43.08it/s]"
     ]
    },
    {
     "name": "stdout",
     "output_type": "stream",
     "text": [
      "dist=0.0 at coordination 199, 7340\n",
      "dist=0.0 at coordination 200, 1650\n",
      "dist=0.0 at coordination 201, 302\n",
      "dist=0.0 at coordination 202, 296\n",
      "dist=0.0 at coordination 203, 269\n",
      "dist=0.0 at coordination 204, 430\n",
      "dist=0.0 at coordination 205, 446\n",
      "dist=0.0 at coordination 206, 267\n",
      "dist=0.0 at coordination 207, 265\n",
      "dist=0.0 at coordination 208, 304\n",
      "dist=0.0 at coordination 209, 488\n",
      "dist=0.0 at coordination 210, 489\n",
      "dist=0.0 at coordination 211, 244\n",
      "dist=0.0 at coordination 212, 245\n",
      "dist=0.0 at coordination 213, 235\n",
      "dist=0.0 at coordination 214, 236\n",
      "dist=0.0 at coordination 215, 237\n",
      "dist=0.0 at coordination 216, 238\n",
      "dist=0.0 at coordination 217, 239\n",
      "dist=0.0 at coordination 218, 240\n",
      "dist=0.0 at coordination 219, 259\n",
      "dist=0.0 at coordination 220, 537\n",
      "dist=0.0 at coordination 221, 1909\n",
      "dist=0.0 at coordination 222, 4096\n",
      "dist=0.0 at coordination 223, 9933\n",
      "dist=0.0 at coordination 224, 8401\n"
     ]
    },
    {
     "name": "stderr",
     "output_type": "stream",
     "text": [
      "  0%|          | 252/584281 [00:05<3:12:34, 50.55it/s]"
     ]
    },
    {
     "name": "stdout",
     "output_type": "stream",
     "text": [
      "dist=0.0 at coordination 225, 6216\n",
      "dist=0.0 at coordination 226, 305\n",
      "dist=0.0 at coordination 227, 306\n",
      "dist=0.0 at coordination 228, 948\n",
      "dist=0.0 at coordination 229, 1045\n",
      "dist=0.0 at coordination 230, 262\n",
      "dist=0.0 at coordination 231, 263\n",
      "dist=0.0 at coordination 232, 699\n",
      "dist=0.0 at coordination 233, 241\n",
      "dist=0.0 at coordination 234, 242\n",
      "dist=0.0 at coordination 235, 243\n",
      "dist=0.0 at coordination 236, 247\n",
      "dist=0.0 at coordination 237, 417\n",
      "dist=0.0 at coordination 238, 303\n",
      "dist=0.0 at coordination 239, 266\n",
      "dist=0.0 at coordination 240, 324\n",
      "dist=0.0 at coordination 241, 285\n",
      "dist=0.0 at coordination 242, 449\n",
      "dist=0.0 at coordination 243, 246\n",
      "dist=0.0 at coordination 244, 367\n",
      "dist=0.0 at coordination 245, 350\n",
      "dist=0.0 at coordination 246, 351\n",
      "dist=0.0 at coordination 247, 416\n",
      "dist=0.0 at coordination 248, 293\n",
      "dist=0.0 at coordination 249, 517\n",
      "dist=0.0 at coordination 250, 317\n",
      "dist=0.0 at coordination 251, 332\n",
      "dist=0.0 at coordination 252, 258\n",
      "dist=0.0 at coordination 253, 840\n",
      "dist=0.0 at coordination 254, 1016\n",
      "dist=0.0 at coordination 255, 996\n",
      "dist=0.0 at coordination 256, 2160\n",
      "dist=0.0 at coordination 257, 457\n",
      "dist=0.0 at coordination 258, 307\n",
      "dist=0.0 at coordination 259, 308\n",
      "dist=0.0 at coordination 260, 326\n"
     ]
    },
    {
     "name": "stderr",
     "output_type": "stream",
     "text": [
      "  0%|          | 263/584281 [00:05<2:52:47, 56.33it/s]"
     ]
    },
    {
     "name": "stdout",
     "output_type": "stream",
     "text": [
      "dist=0.0 at coordination 261, 2933\n",
      "dist=0.0 at coordination 262, 1046\n",
      "dist=0.0 at coordination 263, 698\n",
      "dist=0.0 at coordination 264, 356\n",
      "dist=0.0 at coordination 265, 322\n",
      "dist=0.0 at coordination 266, 311\n",
      "dist=0.0 at coordination 267, 336\n",
      "dist=0.0 at coordination 268, 275\n",
      "dist=0.0 at coordination 269, 276\n",
      "dist=0.0 at coordination 270, 277\n",
      "dist=0.0 at coordination 271, 278\n",
      "dist=0.0 at coordination 272, 279\n",
      "dist=0.0 at coordination 273, 864\n",
      "dist=0.0 at coordination 274, 721\n",
      "dist=0.0 at coordination 275, 337\n",
      "dist=0.0 at coordination 276, 297\n",
      "dist=0.0 at coordination 277, 298\n",
      "dist=0.0 at coordination 278, 1300\n",
      "dist=0.0 at coordination 279, 1301\n",
      "dist=0.0 at coordination 280, 10491\n"
     ]
    },
    {
     "name": "stderr",
     "output_type": "stream",
     "text": [
      "  0%|          | 300/584281 [00:05<2:20:24, 69.32it/s]"
     ]
    },
    {
     "name": "stdout",
     "output_type": "stream",
     "text": [
      "dist=0.0 at coordination 281, 2325\n",
      "dist=0.0 at coordination 282, 567\n",
      "dist=0.0 at coordination 283, 986\n",
      "dist=0.0 at coordination 284, 644\n",
      "dist=0.0 at coordination 285, 448\n",
      "dist=0.0 at coordination 286, 646\n",
      "dist=0.0 at coordination 287, 647\n",
      "dist=0.0 at coordination 288, 703\n",
      "dist=0.0 at coordination 289, 715\n",
      "dist=0.0 at coordination 290, 347\n",
      "dist=0.0 at coordination 291, 348\n",
      "dist=0.0 at coordination 292, 1111\n",
      "dist=0.0 at coordination 293, 437\n",
      "dist=0.0 at coordination 294, 438\n",
      "dist=0.0 at coordination 295, 309\n",
      "dist=0.0 at coordination 296, 362\n",
      "dist=0.0 at coordination 297, 338\n",
      "dist=0.0 at coordination 298, 339\n",
      "dist=0.0 at coordination 299, 340\n",
      "dist=0.0 at coordination 300, 2131\n",
      "dist=0.0 at coordination 301, 649\n",
      "dist=0.0 at coordination 302, 650\n",
      "dist=0.0 at coordination 303, 310\n",
      "dist=0.0 at coordination 304, 400\n",
      "dist=0.0 at coordination 305, 724\n",
      "dist=0.0 at coordination 306, 320\n",
      "dist=0.0 at coordination 307, 595\n",
      "dist=0.0 at coordination 308, 325\n",
      "dist=0.0 at coordination 309, 361\n",
      "dist=0.0 at coordination 310, 418\n",
      "dist=0.0 at coordination 311, 323\n",
      "dist=0.0 at coordination 312, 420\n",
      "dist=0.0 at coordination 313, 691\n",
      "dist=0.0 at coordination 314, 1382\n"
     ]
    },
    {
     "name": "stderr",
     "output_type": "stream",
     "text": [
      "  0%|          | 334/584281 [00:06<2:05:10, 77.75it/s]"
     ]
    },
    {
     "name": "stdout",
     "output_type": "stream",
     "text": [
      "dist=0.0 at coordination 315, 1383\n",
      "dist=0.0 at coordination 316, 1384\n",
      "dist=0.0 at coordination 317, 331\n",
      "dist=0.0 at coordination 318, 376\n",
      "dist=0.0 at coordination 319, 520\n",
      "dist=0.0 at coordination 320, 382\n",
      "dist=0.0 at coordination 321, 333\n",
      "dist=0.0 at coordination 322, 334\n",
      "dist=0.0 at coordination 323, 335\n",
      "dist=0.0 at coordination 324, 359\n",
      "dist=0.0 at coordination 325, 360\n",
      "dist=0.0 at coordination 326, 2382\n",
      "dist=0.0 at coordination 327, 2245\n",
      "dist=0.0 at coordination 328, 2246\n",
      "dist=0.0 at coordination 329, 3417\n",
      "dist=0.0 at coordination 330, 1913\n",
      "dist=0.0 at coordination 331, 518\n",
      "dist=0.0 at coordination 332, 594\n",
      "dist=0.0 at coordination 333, 383\n",
      "dist=0.0 at coordination 334, 357\n",
      "dist=0.0 at coordination 335, 358\n",
      "dist=0.0 at coordination 336, 425\n",
      "dist=0.0 at coordination 337, 391\n",
      "dist=0.0 at coordination 338, 427\n"
     ]
    },
    {
     "name": "stderr",
     "output_type": "stream",
     "text": [
      "  0%|          | 344/584281 [00:06<2:46:33, 58.43it/s]"
     ]
    },
    {
     "name": "stdout",
     "output_type": "stream",
     "text": [
      "dist=0.0 at coordination 339, 930\n",
      "dist=0.0 at coordination 340, 1966\n",
      "dist=0.0 at coordination 341, 1962\n",
      "dist=0.0 at coordination 342, 928\n",
      "dist=0.0 at coordination 343, 1526\n",
      "dist=0.0 at coordination 344, 1782\n",
      "dist=0.0 at coordination 345, 2678\n",
      "dist=0.0 at coordination 346, 2679\n",
      "dist=0.0 at coordination 347, 716\n",
      "dist=0.0 at coordination 348, 528\n",
      "dist=0.0 at coordination 349, 406\n",
      "dist=0.0 at coordination 350, 365\n",
      "dist=0.0 at coordination 351, 366\n"
     ]
    },
    {
     "name": "stderr",
     "output_type": "stream",
     "text": [
      "  0%|          | 367/584281 [00:07<2:48:17, 57.83it/s]"
     ]
    },
    {
     "name": "stdout",
     "output_type": "stream",
     "text": [
      "dist=0.0 at coordination 352, 5739\n",
      "dist=0.0 at coordination 353, 4119\n",
      "dist=0.0 at coordination 354, 2995\n",
      "dist=0.0 at coordination 355, 3698\n",
      "dist=0.0 at coordination 356, 390\n",
      "dist=0.0 at coordination 357, 399\n",
      "dist=0.0 at coordination 358, 419\n",
      "dist=0.0 at coordination 359, 447\n",
      "dist=0.0 at coordination 360, 505\n",
      "dist=0.0 at coordination 361, 439\n",
      "dist=0.0 at coordination 362, 472\n",
      "dist=0.0 at coordination 363, 473\n",
      "dist=0.0 at coordination 364, 413\n",
      "dist=0.0 at coordination 365, 407\n",
      "dist=0.0 at coordination 366, 373\n",
      "dist=0.0 at coordination 367, 374\n",
      "dist=0.0 at coordination 368, 1216\n",
      "dist=0.0 at coordination 369, 1121\n",
      "dist=0.0 at coordination 370, 1390\n",
      "dist=0.0 at coordination 371, 1221\n",
      "dist=0.0 at coordination 372, 1222\n",
      "dist=0.0 at coordination 373, 415\n",
      "dist=0.0 at coordination 374, 490\n",
      "dist=0.0 at coordination 375, 464\n",
      "dist=0.0 at coordination 376, 465\n",
      "dist=0.0 at coordination 377, 466\n"
     ]
    },
    {
     "name": "stderr",
     "output_type": "stream",
     "text": [
      "  0%|          | 376/584281 [00:07<2:52:15, 56.50it/s]"
     ]
    },
    {
     "name": "stdout",
     "output_type": "stream",
     "text": [
      "dist=0.0 at coordination 378, 2446\n",
      "dist=0.0 at coordination 379, 3550\n",
      "dist=0.0 at coordination 380, 499\n",
      "dist=0.0 at coordination 381, 569\n",
      "dist=0.0 at coordination 382, 521\n",
      "dist=0.0 at coordination 383, 458\n",
      "dist=0.0 at coordination 384, 459\n",
      "dist=0.0 at coordination 385, 460\n",
      "dist=0.0 at coordination 386, 4689\n"
     ]
    },
    {
     "name": "stderr",
     "output_type": "stream",
     "text": [
      "  0%|          | 384/584281 [00:07<5:25:40, 29.88it/s]"
     ]
    },
    {
     "name": "stdout",
     "output_type": "stream",
     "text": [
      "dist=0.0 at coordination 387, 19265\n",
      "dist=0.0 at coordination 388, 5909\n",
      "dist=0.0 at coordination 389, 397\n",
      "dist=0.0 at coordination 390, 398\n",
      "dist=0.0 at coordination 391, 426\n",
      "dist=0.0 at coordination 392, 5008\n",
      "dist=0.0 at coordination 393, 3337\n"
     ]
    },
    {
     "name": "stderr",
     "output_type": "stream",
     "text": [
      "  0%|          | 390/584281 [00:08<6:42:22, 24.19it/s]"
     ]
    },
    {
     "name": "stdout",
     "output_type": "stream",
     "text": [
      "dist=0.0 at coordination 394, 11783\n",
      "dist=0.0 at coordination 395, 16175\n"
     ]
    },
    {
     "name": "stderr",
     "output_type": "stream",
     "text": [
      "  0%|          | 395/584281 [00:09<10:51:24, 14.94it/s]"
     ]
    },
    {
     "name": "stdout",
     "output_type": "stream",
     "text": [
      "dist=0.0 at coordination 396, 16366\n",
      "dist=0.0 at coordination 397, 3812\n",
      "dist=0.0 at coordination 398, 746\n",
      "dist=0.0 at coordination 399, 486\n",
      "dist=0.0 at coordination 400, 487\n",
      "dist=0.0 at coordination 401, 2214\n"
     ]
    },
    {
     "name": "stderr",
     "output_type": "stream",
     "text": [
      "  0%|          | 399/584281 [00:09<11:24:19, 14.22it/s]"
     ]
    },
    {
     "name": "stdout",
     "output_type": "stream",
     "text": [
      "dist=0.0 at coordination 402, 3609\n",
      "dist=0.0 at coordination 403, 10225\n"
     ]
    },
    {
     "name": "stderr",
     "output_type": "stream",
     "text": [
      "  0%|          | 420/584281 [00:09<5:40:34, 28.57it/s] "
     ]
    },
    {
     "name": "stdout",
     "output_type": "stream",
     "text": [
      "dist=0.0 at coordination 404, 9169\n",
      "dist=0.0 at coordination 405, 3781\n",
      "dist=0.0 at coordination 406, 463\n",
      "dist=0.0 at coordination 407, 414\n",
      "dist=0.0 at coordination 408, 450\n",
      "dist=0.0 at coordination 409, 532\n",
      "dist=0.0 at coordination 410, 429\n",
      "dist=0.0 at coordination 411, 428\n",
      "dist=0.0 at coordination 412, 480\n",
      "dist=0.0 at coordination 413, 653\n",
      "dist=0.0 at coordination 414, 513\n",
      "dist=0.0 at coordination 415, 511\n",
      "dist=0.0 at coordination 416, 515\n",
      "dist=0.0 at coordination 417, 482\n",
      "dist=0.0 at coordination 418, 440\n",
      "dist=0.0 at coordination 419, 441\n",
      "dist=0.0 at coordination 420, 525\n",
      "dist=0.0 at coordination 421, 1288\n",
      "dist=0.0 at coordination 422, 1488\n",
      "dist=0.0 at coordination 423, 1489\n",
      "dist=0.0 at coordination 424, 1185\n",
      "dist=0.0 at coordination 425, 442\n",
      "dist=0.0 at coordination 426, 443\n",
      "dist=0.0 at coordination 427, 444\n",
      "dist=0.0 at coordination 428, 788\n",
      "dist=0.0 at coordination 429, 787\n",
      "dist=0.0 at coordination 430, 445\n",
      "dist=0.0 at coordination 431, 795\n"
     ]
    },
    {
     "name": "stderr",
     "output_type": "stream",
     "text": [
      "  0%|          | 434/584281 [00:10<5:17:44, 30.62it/s]"
     ]
    },
    {
     "name": "stdout",
     "output_type": "stream",
     "text": [
      "dist=0.0 at coordination 432, 11277\n",
      "dist=0.0 at coordination 433, 2727\n",
      "dist=0.0 at coordination 434, 2728\n",
      "dist=0.0 at coordination 435, 1098\n",
      "dist=0.0 at coordination 436, 481\n",
      "dist=0.0 at coordination 437, 516\n",
      "dist=0.0 at coordination 438, 536\n",
      "dist=0.0 at coordination 439, 471\n",
      "dist=0.0 at coordination 440, 483\n",
      "dist=0.0 at coordination 441, 484\n",
      "dist=0.0 at coordination 442, 485\n",
      "dist=0.0 at coordination 443, 550\n",
      "dist=0.0 at coordination 444, 543\n",
      "dist=0.0 at coordination 445, 544\n",
      "dist=0.0 at coordination 446, 503\n",
      "dist=0.0 at coordination 447, 504\n",
      "dist=0.0 at coordination 448, 596\n",
      "dist=0.0 at coordination 449, 555\n",
      "dist=0.0 at coordination 450, 531\n",
      "dist=0.0 at coordination 451, 502\n",
      "dist=0.0 at coordination 452, 1225\n"
     ]
    },
    {
     "name": "stderr",
     "output_type": "stream",
     "text": [
      "  0%|          | 457/584281 [00:10<3:29:24, 46.47it/s]"
     ]
    },
    {
     "name": "stdout",
     "output_type": "stream",
     "text": [
      "dist=0.0 at coordination 453, 6062\n",
      "dist=0.0 at coordination 454, 467\n",
      "dist=0.0 at coordination 455, 1129\n",
      "dist=0.0 at coordination 456, 740\n",
      "dist=0.0 at coordination 457, 2332\n",
      "dist=0.0 at coordination 458, 522\n",
      "dist=0.0 at coordination 459, 730\n",
      "dist=0.0 at coordination 460, 1470\n",
      "dist=0.0 at coordination 461, 1864\n",
      "dist=0.0 at coordination 462, 1000\n",
      "dist=0.0 at coordination 463, 529\n",
      "dist=0.0 at coordination 464, 491\n",
      "dist=0.0 at coordination 465, 519\n",
      "dist=0.0 at coordination 466, 712\n",
      "dist=0.0 at coordination 467, 1069\n",
      "dist=0.0 at coordination 468, 972\n",
      "dist=0.0 at coordination 469, 958\n",
      "dist=0.0 at coordination 470, 959\n",
      "dist=0.0 at coordination 471, 541\n",
      "dist=0.0 at coordination 472, 542\n",
      "dist=0.0 at coordination 473, 551\n"
     ]
    },
    {
     "name": "stderr",
     "output_type": "stream",
     "text": [
      "  0%|          | 470/584281 [00:10<2:47:28, 58.10it/s]"
     ]
    },
    {
     "name": "stdout",
     "output_type": "stream",
     "text": [
      "dist=0.0 at coordination 474, 2261\n",
      "dist=0.0 at coordination 475, 15484\n",
      "dist=0.0 at coordination 476, 5707\n",
      "dist=0.0 at coordination 477, 5708\n",
      "dist=0.0 at coordination 478, 1475\n",
      "dist=0.0 at coordination 479, 940\n",
      "dist=0.0 at coordination 480, 533\n",
      "dist=0.0 at coordination 481, 534\n",
      "dist=0.0 at coordination 482, 581\n"
     ]
    },
    {
     "name": "stderr",
     "output_type": "stream",
     "text": [
      "  0%|          | 491/584281 [00:11<4:04:53, 39.73it/s]"
     ]
    },
    {
     "name": "stdout",
     "output_type": "stream",
     "text": [
      "dist=0.0 at coordination 483, 582\n",
      "dist=0.0 at coordination 484, 524\n",
      "dist=0.0 at coordination 485, 546\n",
      "dist=0.0 at coordination 486, 523\n",
      "dist=0.0 at coordination 487, 723\n",
      "dist=0.0 at coordination 488, 976\n",
      "dist=0.0 at coordination 489, 576\n",
      "dist=0.0 at coordination 490, 512\n",
      "dist=0.0 at coordination 491, 593\n",
      "dist=0.0 at coordination 492, 1146\n",
      "dist=0.0 at coordination 493, 566\n",
      "dist=0.0 at coordination 494, 2326\n",
      "dist=0.0 at coordination 495, 2759\n",
      "dist=0.0 at coordination 496, 2449\n",
      "dist=0.0 at coordination 497, 2429\n",
      "dist=0.0 at coordination 498, 863\n",
      "dist=0.0 at coordination 499, 3551\n"
     ]
    },
    {
     "name": "stderr",
     "output_type": "stream",
     "text": [
      "  0%|          | 536/584281 [00:12<1:52:54, 86.17it/s]"
     ]
    },
    {
     "name": "stdout",
     "output_type": "stream",
     "text": [
      "dist=0.0 at coordination 500, 1669\n",
      "dist=0.0 at coordination 501, 1430\n",
      "dist=0.0 at coordination 502, 794\n",
      "dist=0.0 at coordination 503, 545\n",
      "dist=0.0 at coordination 504, 584\n",
      "dist=0.0 at coordination 505, 585\n",
      "dist=0.0 at coordination 506, 2187\n",
      "dist=0.0 at coordination 507, 1461\n",
      "dist=0.0 at coordination 508, 1289\n",
      "dist=0.0 at coordination 509, 1463\n",
      "dist=0.0 at coordination 510, 673\n",
      "dist=0.0 at coordination 511, 514\n",
      "dist=0.0 at coordination 512, 557\n",
      "dist=0.0 at coordination 513, 530\n",
      "dist=0.0 at coordination 514, 556\n",
      "dist=0.0 at coordination 515, 580\n",
      "dist=0.0 at coordination 516, 535\n",
      "dist=0.0 at coordination 517, 554\n",
      "dist=0.0 at coordination 518, 597\n",
      "dist=0.0 at coordination 519, 711\n",
      "dist=0.0 at coordination 520, 564\n",
      "dist=0.0 at coordination 521, 725\n",
      "dist=0.0 at coordination 522, 629\n",
      "dist=0.0 at coordination 523, 547\n",
      "dist=0.0 at coordination 524, 548\n",
      "dist=0.0 at coordination 525, 690\n",
      "dist=0.0 at coordination 526, 860\n",
      "dist=0.0 at coordination 527, 894\n",
      "dist=0.0 at coordination 528, 1110\n",
      "dist=0.0 at coordination 529, 709\n",
      "dist=0.0 at coordination 530, 558\n",
      "dist=0.0 at coordination 531, 916\n",
      "dist=0.0 at coordination 532, 786\n",
      "dist=0.0 at coordination 533, 918\n",
      "dist=0.0 at coordination 534, 552\n",
      "dist=0.0 at coordination 535, 553\n",
      "dist=0.0 at coordination 536, 538\n",
      "dist=0.0 at coordination 537, 539\n",
      "dist=0.0 at coordination 538, 540\n",
      "dist=0.0 at coordination 539, 586\n",
      "dist=0.0 at coordination 540, 587\n"
     ]
    },
    {
     "name": "stderr",
     "output_type": "stream",
     "text": [
      "  0%|          | 555/584281 [00:12<1:33:21, 104.21it/s]"
     ]
    },
    {
     "name": "stdout",
     "output_type": "stream",
     "text": [
      "dist=0.0 at coordination 541, 601\n",
      "dist=0.0 at coordination 542, 635\n",
      "dist=0.0 at coordination 543, 636\n",
      "dist=0.0 at coordination 544, 763\n",
      "dist=0.0 at coordination 545, 764\n",
      "dist=0.0 at coordination 546, 549\n",
      "dist=0.0 at coordination 547, 630\n",
      "dist=0.0 at coordination 548, 583\n",
      "dist=0.0 at coordination 549, 679\n",
      "dist=0.0 at coordination 550, 747\n",
      "dist=0.0 at coordination 551, 652\n",
      "dist=0.0 at coordination 552, 903\n",
      "dist=0.0 at coordination 553, 609\n",
      "dist=0.0 at coordination 554, 589\n",
      "dist=0.0 at coordination 555, 590\n",
      "dist=0.0 at coordination 556, 579\n",
      "dist=0.0 at coordination 557, 577\n",
      "dist=0.0 at coordination 558, 578\n",
      "dist=0.0 at coordination 559, 3052\n",
      "dist=0.0 at coordination 560, 2235\n",
      "dist=0.0 at coordination 561, 2236\n",
      "dist=0.0 at coordination 562, 2237\n",
      "dist=0.0 at coordination 563, 828\n",
      "dist=0.0 at coordination 564, 571\n",
      "dist=0.0 at coordination 565, 1567\n",
      "dist=0.0 at coordination 566, 2180\n",
      "dist=0.0 at coordination 567, 2323\n"
     ]
    },
    {
     "name": "stderr",
     "output_type": "stream",
     "text": [
      "  0%|          | 570/584281 [00:12<2:10:51, 74.34it/s] "
     ]
    },
    {
     "name": "stdout",
     "output_type": "stream",
     "text": [
      "dist=0.0 at coordination 568, 3952\n",
      "dist=0.0 at coordination 569, 1846\n",
      "dist=0.0 at coordination 570, 572\n",
      "dist=0.0 at coordination 571, 573\n",
      "dist=0.0 at coordination 572, 574\n",
      "dist=0.0 at coordination 573, 803\n",
      "dist=0.0 at coordination 574, 813\n",
      "dist=0.0 at coordination 575, 755\n",
      "dist=0.0 at coordination 576, 756\n",
      "dist=0.0 at coordination 577, 592\n",
      "dist=0.0 at coordination 578, 654\n",
      "dist=0.0 at coordination 579, 591\n",
      "dist=0.0 at coordination 580, 608\n",
      "dist=0.0 at coordination 581, 660\n",
      "dist=0.0 at coordination 582, 602\n",
      "dist=0.0 at coordination 583, 603\n",
      "dist=0.0 at coordination 584, 604\n",
      "dist=0.0 at coordination 585, 600\n",
      "dist=0.0 at coordination 586, 588\n",
      "dist=0.0 at coordination 587, 610\n",
      "dist=0.0 at coordination 588, 611\n",
      "dist=0.0 at coordination 589, 870\n",
      "dist=0.0 at coordination 590, 606\n",
      "dist=0.0 at coordination 591, 607\n",
      "dist=0.0 at coordination 592, 656\n",
      "dist=0.0 at coordination 593, 710\n",
      "dist=0.0 at coordination 594, 598\n",
      "dist=0.0 at coordination 595, 599\n",
      "dist=0.0 at coordination 596, 605\n",
      "dist=0.0 at coordination 597, 623\n",
      "dist=0.0 at coordination 598, 624\n",
      "dist=0.0 at coordination 599, 625\n",
      "dist=0.0 at coordination 600, 633\n",
      "dist=0.0 at coordination 601, 618\n",
      "dist=0.0 at coordination 602, 619\n",
      "dist=0.0 at coordination 603, 620\n",
      "dist=0.0 at coordination 604, 621\n",
      "dist=0.0 at coordination 605, 622\n",
      "dist=0.0 at coordination 606, 908\n",
      "dist=0.0 at coordination 607, 655\n",
      "dist=0.0 at coordination 608, 659\n",
      "dist=0.0 at coordination 609, 904\n",
      "dist=0.0 at coordination 610, 666\n",
      "dist=0.0 at coordination 611, 665\n",
      "dist=0.0 at coordination 612, 1015\n",
      "dist=0.0 at coordination 613, 4970\n"
     ]
    },
    {
     "name": "stderr",
     "output_type": "stream",
     "text": [
      "  0%|          | 609/584281 [00:12<1:24:55, 114.55it/s]"
     ]
    },
    {
     "name": "stdout",
     "output_type": "stream",
     "text": [
      "dist=0.0 at coordination 614, 17458\n"
     ]
    },
    {
     "name": "stderr",
     "output_type": "stream",
     "text": [
      "  0%|          | 625/584281 [00:14<5:10:08, 31.37it/s] "
     ]
    },
    {
     "name": "stdout",
     "output_type": "stream",
     "text": [
      "dist=0.0 at coordination 615, 57045\n",
      "dist=0.0 at coordination 616, 2471\n",
      "dist=0.0 at coordination 617, 2356\n",
      "dist=0.0 at coordination 618, 634\n",
      "dist=0.0 at coordination 619, 661\n",
      "dist=0.0 at coordination 620, 631\n",
      "dist=0.0 at coordination 621, 632\n",
      "dist=0.0 at coordination 622, 626\n",
      "dist=0.0 at coordination 623, 627\n",
      "dist=0.0 at coordination 624, 628\n",
      "dist=0.0 at coordination 625, 773\n",
      "dist=0.0 at coordination 626, 645\n",
      "dist=0.0 at coordination 627, 837\n",
      "dist=0.0 at coordination 628, 759\n",
      "dist=0.0 at coordination 629, 726\n",
      "dist=0.0 at coordination 630, 680\n",
      "dist=0.0 at coordination 631, 662\n",
      "dist=0.0 at coordination 632, 663\n",
      "dist=0.0 at coordination 633, 664\n",
      "dist=0.0 at coordination 634, 667\n",
      "dist=0.0 at coordination 635, 651\n",
      "dist=0.0 at coordination 636, 762\n",
      "dist=0.0 at coordination 637, 3592\n",
      "dist=0.0 at coordination 638, 3764\n"
     ]
    },
    {
     "name": "stderr",
     "output_type": "stream",
     "text": [
      "  0%|          | 645/584281 [00:15<5:02:41, 32.14it/s]"
     ]
    },
    {
     "name": "stdout",
     "output_type": "stream",
     "text": [
      "dist=0.0 at coordination 639, 3807\n",
      "dist=0.0 at coordination 640, 12112\n",
      "dist=0.0 at coordination 641, 2296\n",
      "dist=0.0 at coordination 642, 1372\n",
      "dist=0.0 at coordination 643, 720\n",
      "dist=0.0 at coordination 644, 865\n",
      "dist=0.0 at coordination 645, 700\n",
      "dist=0.0 at coordination 646, 701\n",
      "dist=0.0 at coordination 647, 702\n",
      "dist=0.0 at coordination 648, 1179\n",
      "dist=0.0 at coordination 649, 2132\n",
      "dist=0.0 at coordination 650, 1291\n",
      "dist=0.0 at coordination 651, 1091\n",
      "dist=0.0 at coordination 652, 748\n",
      "dist=0.0 at coordination 653, 749\n",
      "dist=0.0 at coordination 654, 657\n",
      "dist=0.0 at coordination 655, 658\n",
      "dist=0.0 at coordination 656, 752\n",
      "dist=0.0 at coordination 657, 750\n",
      "dist=0.0 at coordination 658, 674\n",
      "dist=0.0 at coordination 659, 675\n",
      "dist=0.0 at coordination 660, 676\n",
      "dist=0.0 at coordination 661, 668\n",
      "dist=0.0 at coordination 662, 678\n",
      "dist=0.0 at coordination 663, 682\n",
      "dist=0.0 at coordination 664, 683\n",
      "dist=0.0 at coordination 665, 807\n",
      "dist=0.0 at coordination 666, 808\n",
      "dist=0.0 at coordination 667, 684\n",
      "dist=0.0 at coordination 668, 677\n",
      "dist=0.0 at coordination 669, 1405\n",
      "dist=0.0 at coordination 670, 1135\n"
     ]
    },
    {
     "name": "stderr",
     "output_type": "stream",
     "text": [
      "  0%|          | 688/584281 [00:15<2:39:33, 60.96it/s]"
     ]
    },
    {
     "name": "stdout",
     "output_type": "stream",
     "text": [
      "dist=0.0 at coordination 671, 2011\n",
      "dist=0.0 at coordination 672, 1079\n",
      "dist=0.0 at coordination 673, 1080\n",
      "dist=0.0 at coordination 674, 751\n",
      "dist=0.0 at coordination 675, 978\n",
      "dist=0.0 at coordination 676, 1039\n",
      "dist=0.0 at coordination 677, 685\n",
      "dist=0.0 at coordination 678, 681\n",
      "dist=0.0 at coordination 679, 687\n",
      "dist=0.0 at coordination 680, 688\n",
      "dist=0.0 at coordination 681, 686\n",
      "dist=0.0 at coordination 682, 778\n",
      "dist=0.0 at coordination 683, 774\n",
      "dist=0.0 at coordination 684, 775\n",
      "dist=0.0 at coordination 685, 776\n",
      "dist=0.0 at coordination 686, 689\n",
      "dist=0.0 at coordination 687, 729\n",
      "dist=0.0 at coordination 688, 722\n",
      "dist=0.0 at coordination 689, 728\n",
      "dist=0.0 at coordination 690, 1287\n",
      "dist=0.0 at coordination 691, 1837\n",
      "dist=0.0 at coordination 692, 2842\n",
      "dist=0.0 at coordination 693, 1127\n",
      "dist=0.0 at coordination 694, 7864\n",
      "dist=0.0 at coordination 695, 14096\n",
      "dist=0.0 at coordination 696, 14097\n"
     ]
    },
    {
     "name": "stderr",
     "output_type": "stream",
     "text": [
      "  0%|          | 701/584281 [00:16<5:38:51, 28.70it/s]"
     ]
    },
    {
     "name": "stdout",
     "output_type": "stream",
     "text": [
      "dist=0.0 at coordination 697, 8622\n",
      "dist=0.0 at coordination 698, 1047\n",
      "dist=0.0 at coordination 699, 3699\n",
      "dist=0.0 at coordination 700, 779\n",
      "dist=0.0 at coordination 701, 780\n",
      "dist=0.0 at coordination 702, 926\n",
      "dist=0.0 at coordination 703, 714\n",
      "dist=0.0 at coordination 704, 3072\n",
      "dist=0.0 at coordination 705, 3073\n"
     ]
    },
    {
     "name": "stderr",
     "output_type": "stream",
     "text": [
      "  0%|          | 710/584281 [00:17<6:38:53, 24.38it/s]"
     ]
    },
    {
     "name": "stdout",
     "output_type": "stream",
     "text": [
      "dist=0.0 at coordination 706, 9957\n",
      "dist=0.0 at coordination 707, 10702\n",
      "dist=0.0 at coordination 708, 1085\n",
      "dist=0.0 at coordination 709, 1001\n",
      "dist=0.0 at coordination 710, 753\n",
      "dist=0.0 at coordination 711, 754\n",
      "dist=0.0 at coordination 712, 1068\n",
      "dist=0.0 at coordination 713, 2066\n",
      "dist=0.0 at coordination 714, 3071\n",
      "dist=0.0 at coordination 715, 3926\n",
      "dist=0.0 at coordination 716, 3927\n",
      "dist=0.0 at coordination 717, 2673\n",
      "dist=0.0 at coordination 718, 2674\n",
      "dist=0.0 at coordination 719, 1667\n",
      "dist=0.0 at coordination 720, 1373\n",
      "dist=0.0 at coordination 721, 1284\n"
     ]
    },
    {
     "name": "stderr",
     "output_type": "stream",
     "text": [
      "  0%|          | 731/584281 [00:17<5:04:42, 31.92it/s]"
     ]
    },
    {
     "name": "stdout",
     "output_type": "stream",
     "text": [
      "dist=0.0 at coordination 722, 727\n",
      "dist=0.0 at coordination 723, 770\n",
      "dist=0.0 at coordination 724, 771\n",
      "dist=0.0 at coordination 725, 772\n",
      "dist=0.0 at coordination 726, 760\n",
      "dist=0.0 at coordination 727, 766\n",
      "dist=0.0 at coordination 728, 767\n",
      "dist=0.0 at coordination 729, 765\n",
      "dist=0.0 at coordination 730, 1469\n",
      "dist=0.0 at coordination 731, 1062\n",
      "dist=0.0 at coordination 732, 932\n",
      "dist=0.0 at coordination 733, 2504\n",
      "dist=0.0 at coordination 734, 793\n",
      "dist=0.0 at coordination 735, 3763\n",
      "dist=0.0 at coordination 736, 3851\n",
      "dist=0.0 at coordination 737, 19962\n",
      "dist=0.0 at coordination 738, 9092\n"
     ]
    },
    {
     "name": "stderr",
     "output_type": "stream",
     "text": [
      "  0%|          | 738/584281 [00:18<9:30:12, 17.06it/s]"
     ]
    },
    {
     "name": "stdout",
     "output_type": "stream",
     "text": [
      "dist=0.0 at coordination 739, 9093\n",
      "dist=0.0 at coordination 740, 1064\n",
      "dist=0.0 at coordination 741, 10109\n",
      "dist=0.0 at coordination 742, 3115\n",
      "dist=0.0 at coordination 743, 5443\n",
      "dist=0.0 at coordination 744, 5444\n"
     ]
    },
    {
     "name": "stderr",
     "output_type": "stream",
     "text": [
      "  0%|          | 743/584281 [00:19<9:53:49, 16.38it/s]"
     ]
    },
    {
     "name": "stdout",
     "output_type": "stream",
     "text": [
      "dist=0.0 at coordination 745, 5445\n",
      "dist=0.0 at coordination 746, 1048\n",
      "dist=0.0 at coordination 747, 761\n",
      "dist=0.0 at coordination 748, 855\n",
      "dist=0.0 at coordination 749, 856\n",
      "dist=0.0 at coordination 750, 967\n",
      "dist=0.0 at coordination 751, 909\n",
      "dist=0.0 at coordination 752, 757\n",
      "dist=0.0 at coordination 753, 758\n",
      "dist=0.0 at coordination 754, 802\n",
      "dist=0.0 at coordination 755, 873\n",
      "dist=0.0 at coordination 756, 874\n",
      "dist=0.0 at coordination 757, 875\n",
      "dist=0.0 at coordination 758, 857\n",
      "dist=0.0 at coordination 759, 838\n",
      "dist=0.0 at coordination 760, 816\n",
      "dist=0.0 at coordination 761, 901\n",
      "dist=0.0 at coordination 762, 1105\n",
      "dist=0.0 at coordination 763, 898\n",
      "dist=0.0 at coordination 764, 899\n",
      "dist=0.0 at coordination 765, 768\n",
      "dist=0.0 at coordination 766, 769\n",
      "dist=0.0 at coordination 767, 777\n",
      "dist=0.0 at coordination 768, 900\n",
      "dist=0.0 at coordination 769, 817\n",
      "dist=0.0 at coordination 770, 811\n",
      "dist=0.0 at coordination 771, 812\n",
      "dist=0.0 at coordination 772, 804\n",
      "dist=0.0 at coordination 773, 805\n",
      "dist=0.0 at coordination 774, 806\n",
      "dist=0.0 at coordination 775, 809\n",
      "dist=0.0 at coordination 776, 810\n",
      "dist=0.0 at coordination 777, 818\n",
      "dist=0.0 at coordination 778, 944\n",
      "dist=0.0 at coordination 779, 836\n",
      "dist=0.0 at coordination 780, 1277\n",
      "dist=0.0 at coordination 781, 850\n",
      "dist=0.0 at coordination 782, 851\n"
     ]
    },
    {
     "name": "stderr",
     "output_type": "stream",
     "text": [
      "  0%|          | 779/584281 [00:19<4:41:25, 34.56it/s]"
     ]
    },
    {
     "name": "stdout",
     "output_type": "stream",
     "text": [
      "dist=0.0 at coordination 783, 12437\n",
      "dist=0.0 at coordination 784, 9180\n",
      "dist=0.0 at coordination 785, 1152\n",
      "dist=0.0 at coordination 786, 917\n",
      "dist=0.0 at coordination 787, 897\n",
      "dist=0.0 at coordination 788, 953\n",
      "dist=0.0 at coordination 789, 1107\n"
     ]
    },
    {
     "name": "stderr",
     "output_type": "stream",
     "text": [
      "  0%|          | 791/584281 [00:20<5:09:22, 31.43it/s]"
     ]
    },
    {
     "name": "stdout",
     "output_type": "stream",
     "text": [
      "dist=0.0 at coordination 790, 1125\n",
      "dist=0.0 at coordination 791, 1126\n",
      "dist=0.0 at coordination 792, 1676\n",
      "dist=0.0 at coordination 793, 1019\n",
      "dist=0.0 at coordination 794, 1224\n",
      "dist=0.0 at coordination 795, 9280\n",
      "dist=0.0 at coordination 796, 8738\n",
      "dist=0.0 at coordination 797, 8684\n",
      "dist=0.0 at coordination 798, 8685\n"
     ]
    },
    {
     "name": "stderr",
     "output_type": "stream",
     "text": [
      "  0%|          | 813/584281 [00:20<5:00:42, 32.34it/s]"
     ]
    },
    {
     "name": "stdout",
     "output_type": "stream",
     "text": [
      "dist=0.0 at coordination 799, 6500\n",
      "dist=0.0 at coordination 800, 1180\n",
      "dist=0.0 at coordination 801, 3174\n",
      "dist=0.0 at coordination 802, 872\n",
      "dist=0.0 at coordination 803, 814\n",
      "dist=0.0 at coordination 804, 815\n",
      "dist=0.0 at coordination 805, 835\n",
      "dist=0.0 at coordination 806, 866\n",
      "dist=0.0 at coordination 807, 867\n",
      "dist=0.0 at coordination 808, 868\n",
      "dist=0.0 at coordination 809, 1060\n",
      "dist=0.0 at coordination 810, 1040\n",
      "dist=0.0 at coordination 811, 975\n",
      "dist=0.0 at coordination 812, 1042\n",
      "dist=0.0 at coordination 813, 830\n",
      "dist=0.0 at coordination 814, 829\n",
      "dist=0.0 at coordination 815, 834\n",
      "dist=0.0 at coordination 816, 1009\n",
      "dist=0.0 at coordination 817, 1010\n",
      "dist=0.0 at coordination 818, 1011\n",
      "dist=0.0 at coordination 819, 4608\n",
      "dist=0.0 at coordination 820, 4555\n",
      "dist=0.0 at coordination 821, 3779\n",
      "dist=0.0 at coordination 822, 4087\n",
      "dist=0.0 at coordination 823, 4088\n"
     ]
    },
    {
     "name": "stderr",
     "output_type": "stream",
     "text": [
      "  0%|          | 827/584281 [00:21<5:47:55, 27.95it/s]"
     ]
    },
    {
     "name": "stdout",
     "output_type": "stream",
     "text": [
      "dist=0.0 at coordination 824, 4566\n",
      "dist=0.0 at coordination 825, 2215\n",
      "dist=0.0 at coordination 826, 2216\n",
      "dist=0.0 at coordination 827, 2217\n",
      "dist=0.0 at coordination 828, 2175\n",
      "dist=0.0 at coordination 829, 831\n",
      "dist=0.0 at coordination 830, 832\n",
      "dist=0.0 at coordination 831, 833\n",
      "dist=0.0 at coordination 832, 879\n",
      "dist=0.0 at coordination 833, 878\n",
      "dist=0.0 at coordination 834, 891\n",
      "dist=0.0 at coordination 835, 839\n",
      "dist=0.0 at coordination 836, 914\n",
      "dist=0.0 at coordination 837, 871\n",
      "dist=0.0 at coordination 838, 858\n",
      "dist=0.0 at coordination 839, 913\n",
      "dist=0.0 at coordination 840, 1647\n",
      "dist=0.0 at coordination 841, 1902\n"
     ]
    },
    {
     "name": "stderr",
     "output_type": "stream",
     "text": [
      "  0%|          | 838/584281 [00:21<4:21:03, 37.25it/s]"
     ]
    },
    {
     "name": "stdout",
     "output_type": "stream",
     "text": [
      "dist=0.0 at coordination 842, 2758\n",
      "dist=0.0 at coordination 843, 5994\n",
      "dist=0.0 at coordination 844, 18391\n",
      "dist=0.0 at coordination 845, 8298\n"
     ]
    },
    {
     "name": "stderr",
     "output_type": "stream",
     "text": [
      "  0%|          | 852/584281 [00:23<8:40:51, 18.67it/s]"
     ]
    },
    {
     "name": "stdout",
     "output_type": "stream",
     "text": [
      "dist=0.0 at coordination 846, 8299\n",
      "dist=0.0 at coordination 847, 7304\n",
      "dist=0.0 at coordination 848, 1168\n",
      "dist=0.0 at coordination 849, 925\n",
      "dist=0.0 at coordination 850, 2468\n",
      "dist=0.0 at coordination 851, 2469\n",
      "dist=0.0 at coordination 852, 2470\n",
      "dist=0.0 at coordination 853, 2526\n",
      "dist=0.0 at coordination 854, 4767\n",
      "dist=0.0 at coordination 855, 902\n",
      "dist=0.0 at coordination 856, 919\n"
     ]
    },
    {
     "name": "stderr",
     "output_type": "stream",
     "text": [
      "  0%|          | 879/584281 [00:23<4:39:34, 34.78it/s]"
     ]
    },
    {
     "name": "stdout",
     "output_type": "stream",
     "text": [
      "dist=0.0 at coordination 857, 876\n",
      "dist=0.0 at coordination 858, 912\n",
      "dist=0.0 at coordination 859, 892\n",
      "dist=0.0 at coordination 860, 893\n",
      "dist=0.0 at coordination 861, 2297\n",
      "dist=0.0 at coordination 862, 2298\n",
      "dist=0.0 at coordination 863, 11031\n",
      "dist=0.0 at coordination 864, 1302\n",
      "dist=0.0 at coordination 865, 987\n",
      "dist=0.0 at coordination 866, 1013\n",
      "dist=0.0 at coordination 867, 869\n",
      "dist=0.0 at coordination 868, 905\n",
      "dist=0.0 at coordination 869, 906\n",
      "dist=0.0 at coordination 870, 907\n",
      "dist=0.0 at coordination 871, 946\n",
      "dist=0.0 at coordination 872, 877\n",
      "dist=0.0 at coordination 873, 922\n",
      "dist=0.0 at coordination 874, 923\n",
      "dist=0.0 at coordination 875, 910\n",
      "dist=0.0 at coordination 876, 911\n",
      "dist=0.0 at coordination 877, 921\n",
      "dist=0.0 at coordination 878, 886\n",
      "dist=0.0 at coordination 879, 885\n",
      "dist=0.0 at coordination 880, 1164\n",
      "dist=0.0 at coordination 881, 1165\n",
      "dist=0.0 at coordination 882, 3188\n",
      "dist=0.0 at coordination 883, 3189\n",
      "dist=0.0 at coordination 884, 1206\n",
      "dist=0.0 at coordination 885, 887\n",
      "dist=0.0 at coordination 886, 888\n",
      "dist=0.0 at coordination 887, 889\n",
      "dist=0.0 at coordination 888, 890\n",
      "dist=0.0 at coordination 889, 1067\n",
      "dist=0.0 at coordination 890, 1066\n",
      "dist=0.0 at coordination 891, 1043\n",
      "dist=0.0 at coordination 892, 1836\n"
     ]
    },
    {
     "name": "stderr",
     "output_type": "stream",
     "text": [
      "  0%|          | 929/584281 [00:23<2:01:49, 79.81it/s]"
     ]
    },
    {
     "name": "stdout",
     "output_type": "stream",
     "text": [
      "dist=0.0 at coordination 893, 2671\n",
      "dist=0.0 at coordination 894, 2672\n",
      "dist=0.0 at coordination 895, 1592\n",
      "dist=0.0 at coordination 896, 2301\n",
      "dist=0.0 at coordination 897, 941\n",
      "dist=0.0 at coordination 898, 942\n",
      "dist=0.0 at coordination 899, 943\n",
      "dist=0.0 at coordination 900, 1051\n",
      "dist=0.0 at coordination 901, 1052\n",
      "dist=0.0 at coordination 902, 1053\n",
      "dist=0.0 at coordination 903, 1093\n",
      "dist=0.0 at coordination 904, 979\n",
      "dist=0.0 at coordination 905, 961\n",
      "dist=0.0 at coordination 906, 960\n",
      "dist=0.0 at coordination 907, 963\n",
      "dist=0.0 at coordination 908, 915\n",
      "dist=0.0 at coordination 909, 965\n",
      "dist=0.0 at coordination 910, 924\n",
      "dist=0.0 at coordination 911, 920\n",
      "dist=0.0 at coordination 912, 947\n",
      "dist=0.0 at coordination 913, 1396\n",
      "dist=0.0 at coordination 914, 945\n",
      "dist=0.0 at coordination 915, 964\n",
      "dist=0.0 at coordination 916, 1223\n",
      "dist=0.0 at coordination 917, 1020\n",
      "dist=0.0 at coordination 918, 1021\n",
      "dist=0.0 at coordination 919, 1022\n",
      "dist=0.0 at coordination 920, 1007\n",
      "dist=0.0 at coordination 921, 1163\n",
      "dist=0.0 at coordination 922, 1200\n",
      "dist=0.0 at coordination 923, 977\n",
      "dist=0.0 at coordination 924, 966\n",
      "dist=0.0 at coordination 925, 970\n",
      "dist=0.0 at coordination 926, 1178\n",
      "dist=0.0 at coordination 927, 1183\n",
      "dist=0.0 at coordination 928, 1525\n",
      "dist=0.0 at coordination 929, 1785\n",
      "dist=0.0 at coordination 930, 955\n",
      "dist=0.0 at coordination 931, 956\n",
      "dist=0.0 at coordination 932, 1063\n",
      "dist=0.0 at coordination 933, 2454\n"
     ]
    },
    {
     "name": "stderr",
     "output_type": "stream",
     "text": [
      "  0%|          | 953/584281 [00:24<2:14:06, 72.50it/s]"
     ]
    },
    {
     "name": "stdout",
     "output_type": "stream",
     "text": [
      "dist=0.0 at coordination 934, 998\n",
      "dist=0.0 at coordination 935, 999\n",
      "dist=0.0 at coordination 936, 1883\n",
      "dist=0.0 at coordination 937, 2748\n",
      "dist=0.0 at coordination 938, 2208\n",
      "dist=0.0 at coordination 939, 3339\n",
      "dist=0.0 at coordination 940, 1476\n",
      "dist=0.0 at coordination 941, 954\n",
      "dist=0.0 at coordination 942, 1338\n",
      "dist=0.0 at coordination 943, 1251\n",
      "dist=0.0 at coordination 944, 1012\n",
      "dist=0.0 at coordination 945, 988\n",
      "dist=0.0 at coordination 946, 1360\n",
      "dist=0.0 at coordination 947, 1008\n",
      "dist=0.0 at coordination 948, 1044\n",
      "dist=0.0 at coordination 949, 2948\n",
      "dist=0.0 at coordination 950, 1096\n",
      "dist=0.0 at coordination 951, 1097\n",
      "dist=0.0 at coordination 952, 2951\n",
      "dist=0.0 at coordination 953, 1106\n",
      "dist=0.0 at coordination 954, 1335\n",
      "dist=0.0 at coordination 955, 1299\n",
      "dist=0.0 at coordination 956, 1500\n",
      "dist=0.0 at coordination 957, 1501\n",
      "dist=0.0 at coordination 958, 1058\n",
      "dist=0.0 at coordination 959, 1059\n",
      "dist=0.0 at coordination 960, 962\n",
      "dist=0.0 at coordination 961, 1074\n",
      "dist=0.0 at coordination 962, 1014\n",
      "dist=0.0 at coordination 963, 980\n",
      "dist=0.0 at coordination 964, 981\n",
      "dist=0.0 at coordination 965, 968\n",
      "dist=0.0 at coordination 966, 969\n",
      "dist=0.0 at coordination 967, 992\n",
      "dist=0.0 at coordination 968, 982\n",
      "dist=0.0 at coordination 969, 991\n",
      "dist=0.0 at coordination 970, 1002\n",
      "dist=0.0 at coordination 971, 1024\n",
      "dist=0.0 at coordination 972, 1057\n"
     ]
    },
    {
     "name": "stderr",
     "output_type": "stream",
     "text": [
      "  0%|          | 991/584281 [00:24<1:30:15, 107.70it/s]"
     ]
    },
    {
     "name": "stdout",
     "output_type": "stream",
     "text": [
      "dist=0.0 at coordination 973, 4811\n",
      "dist=0.0 at coordination 974, 1978\n",
      "dist=0.0 at coordination 975, 1041\n",
      "dist=0.0 at coordination 976, 1030\n",
      "dist=0.0 at coordination 977, 1031\n",
      "dist=0.0 at coordination 978, 1038\n",
      "dist=0.0 at coordination 979, 1118\n",
      "dist=0.0 at coordination 980, 1119\n",
      "dist=0.0 at coordination 981, 989\n",
      "dist=0.0 at coordination 982, 990\n",
      "dist=0.0 at coordination 983, 994\n",
      "dist=0.0 at coordination 984, 1083\n",
      "dist=0.0 at coordination 985, 1282\n",
      "dist=0.0 at coordination 986, 1283\n",
      "dist=0.0 at coordination 987, 1751\n",
      "dist=0.0 at coordination 988, 1253\n",
      "dist=0.0 at coordination 989, 1254\n",
      "dist=0.0 at coordination 990, 993\n",
      "dist=0.0 at coordination 991, 1032\n",
      "dist=0.0 at coordination 992, 1033\n",
      "dist=0.0 at coordination 993, 1034\n",
      "dist=0.0 at coordination 994, 1082\n",
      "dist=0.0 at coordination 995, 2262\n",
      "dist=0.0 at coordination 996, 1017\n",
      "dist=0.0 at coordination 997, 3792\n",
      "dist=0.0 at coordination 998, 2455\n",
      "dist=0.0 at coordination 999, 1004\n",
      "dist=0.0 at coordination 1000, 1005\n",
      "dist=0.0 at coordination 1001, 1006\n",
      "dist=0.0 at coordination 1002, 1023\n",
      "dist=0.0 at coordination 1003, 1771\n"
     ]
    },
    {
     "name": "stderr",
     "output_type": "stream",
     "text": [
      "  0%|          | 1004/584281 [00:24<1:41:45, 95.53it/s]"
     ]
    },
    {
     "name": "stdout",
     "output_type": "stream",
     "text": [
      "dist=0.0 at coordination 1004, 1772\n",
      "dist=0.0 at coordination 1005, 1773\n",
      "dist=0.0 at coordination 1006, 1086\n",
      "dist=0.0 at coordination 1007, 1162\n",
      "dist=0.0 at coordination 1008, 1264\n",
      "dist=0.0 at coordination 1009, 1173\n",
      "dist=0.0 at coordination 1010, 1049\n",
      "dist=0.0 at coordination 1011, 1050\n",
      "dist=0.0 at coordination 1012, 1252\n",
      "dist=0.0 at coordination 1013, 1295\n",
      "dist=0.0 at coordination 1014, 1073\n",
      "dist=0.0 at coordination 1015, 1076\n"
     ]
    },
    {
     "name": "stderr",
     "output_type": "stream",
     "text": [
      "  0%|          | 1024/584281 [00:25<2:24:53, 67.09it/s]"
     ]
    },
    {
     "name": "stdout",
     "output_type": "stream",
     "text": [
      "dist=0.0 at coordination 1016, 9198\n",
      "dist=0.0 at coordination 1017, 2985\n",
      "dist=0.0 at coordination 1018, 3934\n",
      "dist=0.0 at coordination 1019, 2401\n",
      "dist=0.0 at coordination 1020, 1153\n",
      "dist=0.0 at coordination 1021, 1116\n",
      "dist=0.0 at coordination 1022, 1054\n",
      "dist=0.0 at coordination 1023, 1055\n",
      "dist=0.0 at coordination 1024, 1056\n",
      "dist=0.0 at coordination 1025, 2142\n",
      "dist=0.0 at coordination 1026, 2143\n",
      "dist=0.0 at coordination 1027, 2144\n",
      "dist=0.0 at coordination 1028, 1564\n",
      "dist=0.0 at coordination 1029, 1490\n",
      "dist=0.0 at coordination 1030, 1329\n",
      "dist=0.0 at coordination 1031, 1209\n",
      "dist=0.0 at coordination 1032, 1035\n",
      "dist=0.0 at coordination 1033, 1036\n",
      "dist=0.0 at coordination 1034, 1037\n",
      "dist=0.0 at coordination 1035, 1158\n",
      "dist=0.0 at coordination 1036, 1087\n",
      "dist=0.0 at coordination 1037, 1081\n",
      "dist=0.0 at coordination 1038, 1089\n",
      "dist=0.0 at coordination 1039, 1090\n",
      "dist=0.0 at coordination 1040, 1292\n",
      "dist=0.0 at coordination 1041, 1233\n",
      "dist=0.0 at coordination 1042, 1226\n",
      "dist=0.0 at coordination 1043, 1172\n",
      "dist=0.0 at coordination 1044, 2947\n",
      "dist=0.0 at coordination 1045, 3396\n"
     ]
    },
    {
     "name": "stderr",
     "output_type": "stream",
     "text": [
      "  0%|          | 1051/584281 [00:25<2:12:10, 73.54it/s]"
     ]
    },
    {
     "name": "stdout",
     "output_type": "stream",
     "text": [
      "dist=0.0 at coordination 1046, 2934\n",
      "dist=0.0 at coordination 1047, 2935\n",
      "dist=0.0 at coordination 1048, 3310\n",
      "dist=0.0 at coordination 1049, 1229\n",
      "dist=0.0 at coordination 1050, 1230\n",
      "dist=0.0 at coordination 1051, 1186\n",
      "dist=0.0 at coordination 1052, 1174\n",
      "dist=0.0 at coordination 1053, 1092\n",
      "dist=0.0 at coordination 1054, 1099\n",
      "dist=0.0 at coordination 1055, 1177\n",
      "dist=0.0 at coordination 1056, 1992\n",
      "dist=0.0 at coordination 1057, 1070\n",
      "dist=0.0 at coordination 1058, 1071\n",
      "dist=0.0 at coordination 1059, 1072\n",
      "dist=0.0 at coordination 1060, 1296\n",
      "dist=0.0 at coordination 1061, 1747\n",
      "dist=0.0 at coordination 1062, 2620\n"
     ]
    },
    {
     "name": "stderr",
     "output_type": "stream",
     "text": [
      "  0%|          | 1068/584281 [00:25<2:29:16, 65.12it/s]"
     ]
    },
    {
     "name": "stdout",
     "output_type": "stream",
     "text": [
      "dist=0.0 at coordination 1063, 2621\n",
      "dist=0.0 at coordination 1064, 2203\n",
      "dist=0.0 at coordination 1065, 2161\n",
      "dist=0.0 at coordination 1066, 1171\n",
      "dist=0.0 at coordination 1067, 1207\n",
      "dist=0.0 at coordination 1068, 2065\n",
      "dist=0.0 at coordination 1069, 2192\n",
      "dist=0.0 at coordination 1070, 3626\n",
      "dist=0.0 at coordination 1071, 1502\n",
      "dist=0.0 at coordination 1072, 1551\n",
      "dist=0.0 at coordination 1073, 1075\n",
      "dist=0.0 at coordination 1074, 1274\n",
      "dist=0.0 at coordination 1075, 1275\n",
      "dist=0.0 at coordination 1076, 1894\n",
      "dist=0.0 at coordination 1077, 1648\n",
      "dist=0.0 at coordination 1078, 1649\n",
      "dist=0.0 at coordination 1079, 1725\n",
      "dist=0.0 at coordination 1080, 1464\n",
      "dist=0.0 at coordination 1081, 1088\n",
      "dist=0.0 at coordination 1082, 1561\n"
     ]
    },
    {
     "name": "stderr",
     "output_type": "stream",
     "text": [
      "  0%|          | 1091/584281 [00:26<2:20:51, 69.00it/s]"
     ]
    },
    {
     "name": "stdout",
     "output_type": "stream",
     "text": [
      "dist=0.0 at coordination 1083, 2757\n",
      "dist=0.0 at coordination 1084, 1903\n",
      "dist=0.0 at coordination 1085, 1904\n",
      "dist=0.0 at coordination 1086, 1197\n",
      "dist=0.0 at coordination 1087, 1100\n",
      "dist=0.0 at coordination 1088, 1101\n",
      "dist=0.0 at coordination 1089, 1102\n",
      "dist=0.0 at coordination 1090, 1103\n",
      "dist=0.0 at coordination 1091, 1104\n",
      "dist=0.0 at coordination 1092, 1175\n",
      "dist=0.0 at coordination 1093, 1117\n",
      "dist=0.0 at coordination 1094, 2244\n",
      "dist=0.0 at coordination 1095, 4744\n"
     ]
    },
    {
     "name": "stderr",
     "output_type": "stream",
     "text": [
      "  0%|          | 1116/584281 [00:26<1:49:05, 89.09it/s]"
     ]
    },
    {
     "name": "stdout",
     "output_type": "stream",
     "text": [
      "dist=0.0 at coordination 1096, 2949\n",
      "dist=0.0 at coordination 1097, 2950\n",
      "dist=0.0 at coordination 1098, 2224\n",
      "dist=0.0 at coordination 1099, 1155\n",
      "dist=0.0 at coordination 1100, 1156\n",
      "dist=0.0 at coordination 1101, 1157\n",
      "dist=0.0 at coordination 1102, 1272\n",
      "dist=0.0 at coordination 1103, 1112\n",
      "dist=0.0 at coordination 1104, 1113\n",
      "dist=0.0 at coordination 1105, 1114\n",
      "dist=0.0 at coordination 1106, 1115\n",
      "dist=0.0 at coordination 1107, 1589\n",
      "dist=0.0 at coordination 1108, 1527\n",
      "dist=0.0 at coordination 1109, 1195\n",
      "dist=0.0 at coordination 1110, 1196\n",
      "dist=0.0 at coordination 1111, 1905\n",
      "dist=0.0 at coordination 1112, 1451\n",
      "dist=0.0 at coordination 1113, 1297\n",
      "dist=0.0 at coordination 1114, 1188\n",
      "dist=0.0 at coordination 1115, 1189\n",
      "dist=0.0 at coordination 1116, 1154\n",
      "dist=0.0 at coordination 1117, 1357\n",
      "dist=0.0 at coordination 1118, 1273\n",
      "dist=0.0 at coordination 1119, 1276\n",
      "dist=0.0 at coordination 1120, 2275\n",
      "dist=0.0 at coordination 1121, 1389\n",
      "dist=0.0 at coordination 1122, 1132\n",
      "dist=0.0 at coordination 1123, 2223\n",
      "dist=0.0 at coordination 1124, 14987\n",
      "dist=0.0 at coordination 1125, 1970\n",
      "dist=0.0 at coordination 1126, 1675\n",
      "dist=0.0 at coordination 1127, 11492\n",
      "dist=0.0 at coordination 1128, 10130\n",
      "dist=0.0 at coordination 1129, 2202\n",
      "dist=0.0 at coordination 1130, 5201\n"
     ]
    },
    {
     "name": "stderr",
     "output_type": "stream",
     "text": [
      "  0%|          | 1126/584281 [00:27<5:33:22, 29.15it/s]"
     ]
    },
    {
     "name": "stdout",
     "output_type": "stream",
     "text": [
      "dist=0.0 at coordination 1131, 5272\n",
      "dist=0.0 at coordination 1132, 3864\n",
      "dist=0.0 at coordination 1133, 2168\n",
      "dist=0.0 at coordination 1134, 7955\n",
      "dist=0.0 at coordination 1135, 2010\n",
      "dist=0.0 at coordination 1136, 1569\n",
      "dist=0.0 at coordination 1137, 5505\n"
     ]
    },
    {
     "name": "stderr",
     "output_type": "stream",
     "text": [
      "  0%|          | 1134/584281 [00:28<8:29:30, 19.08it/s]"
     ]
    },
    {
     "name": "stdout",
     "output_type": "stream",
     "text": [
      "dist=0.0 at coordination 1138, 21204\n",
      "dist=0.0 at coordination 1139, 4514\n",
      "dist=0.0 at coordination 1140, 13933\n",
      "dist=0.0 at coordination 1141, 19198\n",
      "dist=0.0 at coordination 1142, 86765\n"
     ]
    },
    {
     "name": "stderr",
     "output_type": "stream",
     "text": [
      "  0%|          | 1140/584281 [00:31<26:12:57,  6.18it/s]"
     ]
    },
    {
     "name": "stdout",
     "output_type": "stream",
     "text": [
      "dist=0.0 at coordination 1143, 34931\n",
      "dist=0.0 at coordination 1144, 5659\n",
      "dist=0.0 at coordination 1145, 1392\n",
      "dist=0.0 at coordination 1146, 3114\n",
      "dist=0.0 at coordination 1147, 1568\n"
     ]
    },
    {
     "name": "stderr",
     "output_type": "stream",
     "text": [
      "  0%|          | 1144/584281 [00:32<27:24:01,  5.91it/s]"
     ]
    },
    {
     "name": "stdout",
     "output_type": "stream",
     "text": [
      "dist=0.0 at coordination 1148, 35890\n"
     ]
    },
    {
     "name": "stderr",
     "output_type": "stream",
     "text": [
      "  0%|          | 1178/584281 [00:33<9:42:51, 16.67it/s] "
     ]
    },
    {
     "name": "stdout",
     "output_type": "stream",
     "text": [
      "dist=0.0 at coordination 1149, 35891\n",
      "dist=0.0 at coordination 1150, 7643\n",
      "dist=0.0 at coordination 1151, 1377\n",
      "dist=0.0 at coordination 1152, 2963\n",
      "dist=0.0 at coordination 1153, 1318\n",
      "dist=0.0 at coordination 1154, 1190\n",
      "dist=0.0 at coordination 1155, 1176\n",
      "dist=0.0 at coordination 1156, 1159\n",
      "dist=0.0 at coordination 1157, 1160\n",
      "dist=0.0 at coordination 1158, 1161\n",
      "dist=0.0 at coordination 1159, 1192\n",
      "dist=0.0 at coordination 1160, 1255\n",
      "dist=0.0 at coordination 1161, 1210\n",
      "dist=0.0 at coordination 1162, 1169\n",
      "dist=0.0 at coordination 1163, 1170\n",
      "dist=0.0 at coordination 1164, 1241\n",
      "dist=0.0 at coordination 1165, 1242\n",
      "dist=0.0 at coordination 1166, 1853\n",
      "dist=0.0 at coordination 1167, 2366\n",
      "dist=0.0 at coordination 1168, 2367\n",
      "dist=0.0 at coordination 1169, 1198\n",
      "dist=0.0 at coordination 1170, 1199\n",
      "dist=0.0 at coordination 1171, 1394\n",
      "dist=0.0 at coordination 1172, 1227\n",
      "dist=0.0 at coordination 1173, 1228\n",
      "dist=0.0 at coordination 1174, 1187\n",
      "dist=0.0 at coordination 1175, 1356\n",
      "dist=0.0 at coordination 1176, 1191\n",
      "dist=0.0 at coordination 1177, 1321\n",
      "dist=0.0 at coordination 1178, 1182\n",
      "dist=0.0 at coordination 1179, 1279\n",
      "dist=0.0 at coordination 1180, 3497\n",
      "dist=0.0 at coordination 1181, 1858\n",
      "dist=0.0 at coordination 1182, 1278\n"
     ]
    },
    {
     "name": "stderr",
     "output_type": "stream",
     "text": [
      "  0%|          | 1197/584281 [00:34<5:58:29, 27.11it/s]"
     ]
    },
    {
     "name": "stdout",
     "output_type": "stream",
     "text": [
      "dist=0.0 at coordination 1183, 1323\n",
      "dist=0.0 at coordination 1184, 1324\n",
      "dist=0.0 at coordination 1185, 1325\n",
      "dist=0.0 at coordination 1186, 1231\n",
      "dist=0.0 at coordination 1187, 1355\n",
      "dist=0.0 at coordination 1188, 1298\n",
      "dist=0.0 at coordination 1189, 1336\n",
      "dist=0.0 at coordination 1190, 1319\n",
      "dist=0.0 at coordination 1191, 1320\n",
      "dist=0.0 at coordination 1192, 1257\n",
      "dist=0.0 at coordination 1193, 1665\n",
      "dist=0.0 at coordination 1194, 1666\n",
      "dist=0.0 at coordination 1195, 1528\n",
      "dist=0.0 at coordination 1196, 1529\n",
      "dist=0.0 at coordination 1197, 1530\n",
      "dist=0.0 at coordination 1198, 1211\n",
      "dist=0.0 at coordination 1199, 1212\n",
      "dist=0.0 at coordination 1200, 1208\n",
      "dist=0.0 at coordination 1201, 2597\n",
      "dist=0.0 at coordination 1202, 10301\n",
      "dist=0.0 at coordination 1203, 2958\n"
     ]
    },
    {
     "name": "stderr",
     "output_type": "stream",
     "text": [
      "  0%|          | 1208/584281 [00:34<7:08:32, 22.68it/s]"
     ]
    },
    {
     "name": "stdout",
     "output_type": "stream",
     "text": [
      "dist=0.0 at coordination 1204, 13168\n",
      "dist=0.0 at coordination 1205, 6083\n",
      "dist=0.0 at coordination 1206, 2997\n",
      "dist=0.0 at coordination 1207, 1235\n",
      "dist=0.0 at coordination 1208, 1213\n",
      "dist=0.0 at coordination 1209, 1214\n",
      "dist=0.0 at coordination 1210, 1215\n",
      "dist=0.0 at coordination 1211, 1239\n",
      "dist=0.0 at coordination 1212, 1240\n",
      "dist=0.0 at coordination 1213, 1236\n",
      "dist=0.0 at coordination 1214, 1237\n",
      "dist=0.0 at coordination 1215, 1238\n",
      "dist=0.0 at coordination 1216, 1388\n",
      "dist=0.0 at coordination 1217, 1852\n",
      "dist=0.0 at coordination 1218, 1243\n",
      "dist=0.0 at coordination 1219, 1244\n",
      "dist=0.0 at coordination 1220, 1245\n",
      "dist=0.0 at coordination 1221, 1391\n"
     ]
    },
    {
     "name": "stderr",
     "output_type": "stream",
     "text": [
      "  0%|          | 1241/584281 [00:35<3:33:43, 45.47it/s]"
     ]
    },
    {
     "name": "stdout",
     "output_type": "stream",
     "text": [
      "dist=0.0 at coordination 1222, 3761\n",
      "dist=0.0 at coordination 1223, 1317\n",
      "dist=0.0 at coordination 1224, 1412\n",
      "dist=0.0 at coordination 1225, 1339\n",
      "dist=0.0 at coordination 1226, 1234\n",
      "dist=0.0 at coordination 1227, 1341\n",
      "dist=0.0 at coordination 1228, 1265\n",
      "dist=0.0 at coordination 1229, 1232\n",
      "dist=0.0 at coordination 1230, 1267\n",
      "dist=0.0 at coordination 1231, 1306\n",
      "dist=0.0 at coordination 1232, 1266\n",
      "dist=0.0 at coordination 1233, 1328\n",
      "dist=0.0 at coordination 1234, 1340\n",
      "dist=0.0 at coordination 1235, 1847\n",
      "dist=0.0 at coordination 1236, 1735\n",
      "dist=0.0 at coordination 1237, 1330\n",
      "dist=0.0 at coordination 1238, 1256\n",
      "dist=0.0 at coordination 1239, 1263\n",
      "dist=0.0 at coordination 1240, 1393\n",
      "dist=0.0 at coordination 1241, 1871\n",
      "dist=0.0 at coordination 1242, 1872\n",
      "dist=0.0 at coordination 1243, 1873\n",
      "dist=0.0 at coordination 1244, 1876\n",
      "dist=0.0 at coordination 1245, 1877\n",
      "dist=0.0 at coordination 1246, 4692\n"
     ]
    },
    {
     "name": "stderr",
     "output_type": "stream",
     "text": [
      "  0%|          | 1277/584281 [00:35<2:36:52, 61.94it/s]"
     ]
    },
    {
     "name": "stdout",
     "output_type": "stream",
     "text": [
      "dist=0.0 at coordination 1247, 4693\n",
      "dist=0.0 at coordination 1248, 4120\n",
      "dist=0.0 at coordination 1249, 4121\n",
      "dist=0.0 at coordination 1250, 4122\n",
      "dist=0.0 at coordination 1251, 1353\n",
      "dist=0.0 at coordination 1252, 1268\n",
      "dist=0.0 at coordination 1253, 1269\n",
      "dist=0.0 at coordination 1254, 1270\n",
      "dist=0.0 at coordination 1255, 1258\n",
      "dist=0.0 at coordination 1256, 1259\n",
      "dist=0.0 at coordination 1257, 1260\n",
      "dist=0.0 at coordination 1258, 1261\n",
      "dist=0.0 at coordination 1259, 1262\n",
      "dist=0.0 at coordination 1260, 1332\n",
      "dist=0.0 at coordination 1261, 1271\n",
      "dist=0.0 at coordination 1262, 1331\n",
      "dist=0.0 at coordination 1263, 1422\n",
      "dist=0.0 at coordination 1264, 1361\n",
      "dist=0.0 at coordination 1265, 1342\n",
      "dist=0.0 at coordination 1266, 1285\n",
      "dist=0.0 at coordination 1267, 1286\n",
      "dist=0.0 at coordination 1268, 1294\n",
      "dist=0.0 at coordination 1269, 1366\n",
      "dist=0.0 at coordination 1270, 1316\n",
      "dist=0.0 at coordination 1271, 1368\n",
      "dist=0.0 at coordination 1272, 1369\n",
      "dist=0.0 at coordination 1273, 1358\n",
      "dist=0.0 at coordination 1274, 1622\n",
      "dist=0.0 at coordination 1275, 1314\n",
      "dist=0.0 at coordination 1276, 1315\n",
      "dist=0.0 at coordination 1277, 1991\n",
      "dist=0.0 at coordination 1278, 1322\n",
      "dist=0.0 at coordination 1279, 2067\n",
      "dist=0.0 at coordination 1280, 2068\n",
      "dist=0.0 at coordination 1281, 2069\n",
      "dist=0.0 at coordination 1282, 2070\n",
      "dist=0.0 at coordination 1283, 2071\n",
      "dist=0.0 at coordination 1284, 1303\n",
      "dist=0.0 at coordination 1285, 1304\n",
      "dist=0.0 at coordination 1286, 1293\n",
      "dist=0.0 at coordination 1287, 2670\n",
      "dist=0.0 at coordination 1288, 4416\n",
      "dist=0.0 at coordination 1289, 1462\n",
      "dist=0.0 at coordination 1290, 3477\n",
      "dist=0.0 at coordination 1291, 2582\n",
      "dist=0.0 at coordination 1292, 1399\n",
      "dist=0.0 at coordination 1293, 1305\n",
      "dist=0.0 at coordination 1294, 1312\n"
     ]
    },
    {
     "name": "stderr",
     "output_type": "stream",
     "text": [
      "  0%|          | 1367/584281 [00:35<1:05:20, 148.68it/s]"
     ]
    },
    {
     "name": "stdout",
     "output_type": "stream",
     "text": [
      "dist=0.0 at coordination 1295, 1313\n",
      "dist=0.0 at coordination 1296, 1347\n",
      "dist=0.0 at coordination 1297, 1348\n",
      "dist=0.0 at coordination 1298, 1349\n",
      "dist=0.0 at coordination 1299, 1499\n",
      "dist=0.0 at coordination 1300, 1863\n",
      "dist=0.0 at coordination 1301, 1749\n",
      "dist=0.0 at coordination 1302, 1750\n",
      "dist=0.0 at coordination 1303, 2072\n",
      "dist=0.0 at coordination 1304, 1307\n",
      "dist=0.0 at coordination 1305, 1308\n",
      "dist=0.0 at coordination 1306, 1309\n",
      "dist=0.0 at coordination 1307, 1310\n",
      "dist=0.0 at coordination 1308, 1311\n",
      "dist=0.0 at coordination 1309, 1326\n",
      "dist=0.0 at coordination 1310, 1327\n",
      "dist=0.0 at coordination 1311, 1344\n",
      "dist=0.0 at coordination 1312, 1345\n",
      "dist=0.0 at coordination 1313, 1346\n",
      "dist=0.0 at coordination 1314, 1552\n",
      "dist=0.0 at coordination 1315, 1359\n",
      "dist=0.0 at coordination 1316, 1367\n",
      "dist=0.0 at coordination 1317, 1333\n",
      "dist=0.0 at coordination 1318, 1334\n",
      "dist=0.0 at coordination 1319, 1432\n",
      "dist=0.0 at coordination 1320, 1433\n",
      "dist=0.0 at coordination 1321, 1522\n",
      "dist=0.0 at coordination 1322, 1523\n",
      "dist=0.0 at coordination 1323, 1524\n",
      "dist=0.0 at coordination 1324, 2659\n",
      "dist=0.0 at coordination 1325, 1703\n",
      "dist=0.0 at coordination 1326, 1354\n",
      "dist=0.0 at coordination 1327, 1343\n",
      "dist=0.0 at coordination 1328, 1440\n",
      "dist=0.0 at coordination 1329, 1429\n",
      "dist=0.0 at coordination 1330, 1455\n",
      "dist=0.0 at coordination 1331, 1387\n",
      "dist=0.0 at coordination 1332, 1434\n",
      "dist=0.0 at coordination 1333, 1411\n",
      "dist=0.0 at coordination 1334, 1431\n",
      "dist=0.0 at coordination 1335, 1337\n",
      "dist=0.0 at coordination 1336, 1350\n",
      "dist=0.0 at coordination 1337, 1351\n",
      "dist=0.0 at coordination 1338, 1352\n",
      "dist=0.0 at coordination 1339, 1428\n",
      "dist=0.0 at coordination 1340, 1441\n",
      "dist=0.0 at coordination 1341, 1395\n",
      "dist=0.0 at coordination 1342, 1362\n",
      "dist=0.0 at coordination 1343, 1363\n",
      "dist=0.0 at coordination 1344, 1364\n",
      "dist=0.0 at coordination 1345, 1365\n",
      "dist=0.0 at coordination 1346, 1397\n",
      "dist=0.0 at coordination 1347, 1398\n",
      "dist=0.0 at coordination 1348, 1480\n",
      "dist=0.0 at coordination 1349, 1426\n",
      "dist=0.0 at coordination 1350, 1544\n",
      "dist=0.0 at coordination 1351, 1607\n",
      "dist=0.0 at coordination 1352, 1427\n",
      "dist=0.0 at coordination 1353, 1413\n",
      "dist=0.0 at coordination 1354, 1414\n",
      "dist=0.0 at coordination 1355, 1425\n",
      "dist=0.0 at coordination 1356, 1481\n",
      "dist=0.0 at coordination 1357, 1478\n",
      "dist=0.0 at coordination 1358, 1557\n",
      "dist=0.0 at coordination 1359, 1553\n",
      "dist=0.0 at coordination 1360, 1504\n",
      "dist=0.0 at coordination 1361, 1423\n",
      "dist=0.0 at coordination 1362, 1424\n",
      "dist=0.0 at coordination 1363, 1415\n",
      "dist=0.0 at coordination 1364, 1400\n",
      "dist=0.0 at coordination 1365, 1401\n",
      "dist=0.0 at coordination 1366, 1418\n",
      "dist=0.0 at coordination 1367, 1385\n",
      "dist=0.0 at coordination 1368, 1386\n",
      "dist=0.0 at coordination 1369, 1379\n",
      "dist=0.0 at coordination 1370, 1380\n",
      "dist=0.0 at coordination 1371, 2188\n",
      "dist=0.0 at coordination 1372, 2189\n",
      "dist=0.0 at coordination 1373, 2681\n",
      "dist=0.0 at coordination 1374, 7148\n",
      "dist=0.0 at coordination 1375, 3415\n",
      "dist=0.0 at coordination 1376, 2768\n",
      "dist=0.0 at coordination 1377, 4843\n",
      "dist=0.0 at coordination 1378, 2972\n",
      "dist=0.0 at coordination 1379, 1450\n",
      "dist=0.0 at coordination 1380, 1460\n",
      "dist=0.0 at coordination 1381, 1548\n",
      "dist=0.0 at coordination 1382, 1549\n",
      "dist=0.0 at coordination 1383, 1550\n",
      "dist=0.0 at coordination 1384, 1409\n",
      "dist=0.0 at coordination 1385, 1410\n",
      "dist=0.0 at coordination 1386, 1420\n",
      "dist=0.0 at coordination 1387, 1421\n"
     ]
    },
    {
     "name": "stderr",
     "output_type": "stream",
     "text": [
      "  0%|          | 1390/584281 [00:36<1:57:43, 82.52it/s] "
     ]
    },
    {
     "name": "stdout",
     "output_type": "stream",
     "text": [
      "dist=0.0 at coordination 1388, 1851\n",
      "dist=0.0 at coordination 1389, 3863\n",
      "dist=0.0 at coordination 1390, 3759\n",
      "dist=0.0 at coordination 1391, 2944\n",
      "dist=0.0 at coordination 1392, 2945\n",
      "dist=0.0 at coordination 1393, 1616\n",
      "dist=0.0 at coordination 1394, 1617\n",
      "dist=0.0 at coordination 1395, 1442\n",
      "dist=0.0 at coordination 1396, 1443\n",
      "dist=0.0 at coordination 1397, 1402\n",
      "dist=0.0 at coordination 1398, 1403\n",
      "dist=0.0 at coordination 1399, 1404\n",
      "dist=0.0 at coordination 1400, 1416\n",
      "dist=0.0 at coordination 1401, 1417\n",
      "dist=0.0 at coordination 1402, 1620\n",
      "dist=0.0 at coordination 1403, 1684\n",
      "dist=0.0 at coordination 1404, 1452\n",
      "dist=0.0 at coordination 1405, 2009\n",
      "dist=0.0 at coordination 1406, 3790\n"
     ]
    },
    {
     "name": "stderr",
     "output_type": "stream",
     "text": [
      "  0%|          | 1458/584281 [00:37<1:22:10, 118.22it/s]"
     ]
    },
    {
     "name": "stdout",
     "output_type": "stream",
     "text": [
      "dist=0.0 at coordination 1407, 6943\n",
      "dist=0.0 at coordination 1408, 4950\n",
      "dist=0.0 at coordination 1409, 1503\n",
      "dist=0.0 at coordination 1410, 1419\n",
      "dist=0.0 at coordination 1411, 1435\n",
      "dist=0.0 at coordination 1412, 1436\n",
      "dist=0.0 at coordination 1413, 1437\n",
      "dist=0.0 at coordination 1414, 1438\n",
      "dist=0.0 at coordination 1415, 1439\n",
      "dist=0.0 at coordination 1416, 1495\n",
      "dist=0.0 at coordination 1417, 1509\n",
      "dist=0.0 at coordination 1418, 1444\n",
      "dist=0.0 at coordination 1419, 1445\n",
      "dist=0.0 at coordination 1420, 1446\n",
      "dist=0.0 at coordination 1421, 1447\n",
      "dist=0.0 at coordination 1422, 1576\n",
      "dist=0.0 at coordination 1423, 1505\n",
      "dist=0.0 at coordination 1424, 1493\n",
      "dist=0.0 at coordination 1425, 1497\n",
      "dist=0.0 at coordination 1426, 1498\n",
      "dist=0.0 at coordination 1427, 1644\n",
      "dist=0.0 at coordination 1428, 1632\n",
      "dist=0.0 at coordination 1429, 1454\n",
      "dist=0.0 at coordination 1430, 1945\n",
      "dist=0.0 at coordination 1431, 1588\n",
      "dist=0.0 at coordination 1432, 1477\n",
      "dist=0.0 at coordination 1433, 1482\n",
      "dist=0.0 at coordination 1434, 1448\n",
      "dist=0.0 at coordination 1435, 1465\n",
      "dist=0.0 at coordination 1436, 1466\n",
      "dist=0.0 at coordination 1437, 1467\n",
      "dist=0.0 at coordination 1438, 1468\n",
      "dist=0.0 at coordination 1439, 1494\n",
      "dist=0.0 at coordination 1440, 1453\n",
      "dist=0.0 at coordination 1441, 1491\n",
      "dist=0.0 at coordination 1442, 1492\n",
      "dist=0.0 at coordination 1443, 1619\n",
      "dist=0.0 at coordination 1444, 1510\n",
      "dist=0.0 at coordination 1445, 1511\n",
      "dist=0.0 at coordination 1446, 1449\n",
      "dist=0.0 at coordination 1447, 1456\n",
      "dist=0.0 at coordination 1448, 1457\n",
      "dist=0.0 at coordination 1449, 1458\n",
      "dist=0.0 at coordination 1450, 1459\n",
      "dist=0.0 at coordination 1451, 1479\n",
      "dist=0.0 at coordination 1452, 1685\n",
      "dist=0.0 at coordination 1453, 1597\n",
      "dist=0.0 at coordination 1454, 1633\n",
      "dist=0.0 at coordination 1455, 1634\n",
      "dist=0.0 at coordination 1456, 1663\n",
      "dist=0.0 at coordination 1457, 1483\n",
      "dist=0.0 at coordination 1458, 1484\n",
      "dist=0.0 at coordination 1459, 1485\n",
      "dist=0.0 at coordination 1460, 1486\n",
      "dist=0.0 at coordination 1461, 1487\n",
      "dist=0.0 at coordination 1462, 3476\n",
      "dist=0.0 at coordination 1463, 1857\n",
      "dist=0.0 at coordination 1464, 1726\n",
      "dist=0.0 at coordination 1465, 1512\n",
      "dist=0.0 at coordination 1466, 1513\n",
      "dist=0.0 at coordination 1467, 1514\n",
      "dist=0.0 at coordination 1468, 1496\n",
      "dist=0.0 at coordination 1469, 1960\n",
      "dist=0.0 at coordination 1470, 1748\n",
      "dist=0.0 at coordination 1471, 5641\n",
      "dist=0.0 at coordination 1472, 15970\n"
     ]
    },
    {
     "name": "stderr",
     "output_type": "stream",
     "text": [
      "  0%|          | 1495/584281 [00:38<2:30:39, 64.47it/s] "
     ]
    },
    {
     "name": "stdout",
     "output_type": "stream",
     "text": [
      "dist=0.0 at coordination 1473, 17422\n",
      "dist=0.0 at coordination 1474, 7524\n",
      "dist=0.0 at coordination 1475, 2413\n",
      "dist=0.0 at coordination 1476, 2414\n",
      "dist=0.0 at coordination 1477, 1545\n",
      "dist=0.0 at coordination 1478, 1546\n",
      "dist=0.0 at coordination 1479, 1641\n",
      "dist=0.0 at coordination 1480, 1642\n",
      "dist=0.0 at coordination 1481, 1520\n",
      "dist=0.0 at coordination 1482, 1521\n",
      "dist=0.0 at coordination 1483, 1531\n",
      "dist=0.0 at coordination 1484, 1555\n",
      "dist=0.0 at coordination 1485, 1556\n",
      "dist=0.0 at coordination 1486, 1547\n",
      "dist=0.0 at coordination 1487, 2879\n",
      "dist=0.0 at coordination 1488, 2880\n",
      "dist=0.0 at coordination 1489, 1796\n",
      "dist=0.0 at coordination 1490, 1565\n",
      "dist=0.0 at coordination 1491, 1566\n",
      "dist=0.0 at coordination 1492, 1599\n",
      "dist=0.0 at coordination 1493, 1506\n",
      "dist=0.0 at coordination 1494, 1507\n",
      "dist=0.0 at coordination 1495, 1508\n",
      "dist=0.0 at coordination 1496, 1515\n",
      "dist=0.0 at coordination 1497, 1519\n",
      "dist=0.0 at coordination 1498, 1543\n",
      "dist=0.0 at coordination 1499, 1965\n"
     ]
    },
    {
     "name": "stderr",
     "output_type": "stream",
     "text": [
      "  0%|          | 1523/584281 [00:38<2:10:57, 74.17it/s]"
     ]
    },
    {
     "name": "stdout",
     "output_type": "stream",
     "text": [
      "dist=0.0 at coordination 1500, 5851\n",
      "dist=0.0 at coordination 1501, 2817\n",
      "dist=0.0 at coordination 1502, 2818\n",
      "dist=0.0 at coordination 1503, 1655\n",
      "dist=0.0 at coordination 1504, 1719\n",
      "dist=0.0 at coordination 1505, 1577\n",
      "dist=0.0 at coordination 1506, 1578\n",
      "dist=0.0 at coordination 1507, 1516\n",
      "dist=0.0 at coordination 1508, 1517\n",
      "dist=0.0 at coordination 1509, 1535\n",
      "dist=0.0 at coordination 1510, 1536\n",
      "dist=0.0 at coordination 1511, 1537\n",
      "dist=0.0 at coordination 1512, 1532\n",
      "dist=0.0 at coordination 1513, 1533\n",
      "dist=0.0 at coordination 1514, 1534\n",
      "dist=0.0 at coordination 1515, 1518\n",
      "dist=0.0 at coordination 1516, 1579\n",
      "dist=0.0 at coordination 1517, 1580\n",
      "dist=0.0 at coordination 1518, 1541\n",
      "dist=0.0 at coordination 1519, 1542\n",
      "dist=0.0 at coordination 1520, 1602\n",
      "dist=0.0 at coordination 1521, 1603\n",
      "dist=0.0 at coordination 1522, 1770\n",
      "dist=0.0 at coordination 1523, 3135\n",
      "dist=0.0 at coordination 1524, 3086\n",
      "dist=0.0 at coordination 1525, 1780\n",
      "dist=0.0 at coordination 1526, 1571\n",
      "dist=0.0 at coordination 1527, 1572\n",
      "dist=0.0 at coordination 1528, 1573\n",
      "dist=0.0 at coordination 1529, 1574\n",
      "dist=0.0 at coordination 1530, 1575\n",
      "dist=0.0 at coordination 1531, 1604\n",
      "dist=0.0 at coordination 1532, 1538\n",
      "dist=0.0 at coordination 1533, 1539\n",
      "dist=0.0 at coordination 1534, 1540\n",
      "dist=0.0 at coordination 1535, 1584\n",
      "dist=0.0 at coordination 1536, 1585\n",
      "dist=0.0 at coordination 1537, 1554\n",
      "dist=0.0 at coordination 1538, 1587\n",
      "dist=0.0 at coordination 1539, 1631\n",
      "dist=0.0 at coordination 1540, 1594\n",
      "dist=0.0 at coordination 1541, 1581\n",
      "dist=0.0 at coordination 1542, 1601\n",
      "dist=0.0 at coordination 1543, 1643\n",
      "dist=0.0 at coordination 1544, 1608\n",
      "dist=0.0 at coordination 1545, 1613\n",
      "dist=0.0 at coordination 1546, 2053\n"
     ]
    },
    {
     "name": "stderr",
     "output_type": "stream",
     "text": [
      "  0%|          | 1547/584281 [00:38<1:40:05, 97.04it/s]"
     ]
    },
    {
     "name": "stdout",
     "output_type": "stream",
     "text": [
      "dist=0.0 at coordination 1547, 2878\n",
      "dist=0.0 at coordination 1548, 1652\n",
      "dist=0.0 at coordination 1549, 1653\n",
      "dist=0.0 at coordination 1550, 1654\n",
      "dist=0.0 at coordination 1551, 2819\n",
      "dist=0.0 at coordination 1552, 1621\n",
      "dist=0.0 at coordination 1553, 1558\n",
      "dist=0.0 at coordination 1554, 1559\n",
      "dist=0.0 at coordination 1555, 1560\n",
      "dist=0.0 at coordination 1556, 1635\n",
      "dist=0.0 at coordination 1557, 1636\n",
      "dist=0.0 at coordination 1558, 1628\n",
      "dist=0.0 at coordination 1559, 1586\n",
      "dist=0.0 at coordination 1560, 1639\n",
      "dist=0.0 at coordination 1561, 1699\n",
      "dist=0.0 at coordination 1562, 1700\n",
      "dist=0.0 at coordination 1563, 1701\n",
      "dist=0.0 at coordination 1564, 1702\n",
      "dist=0.0 at coordination 1565, 1797\n",
      "dist=0.0 at coordination 1566, 1598\n",
      "dist=0.0 at coordination 1567, 2179\n",
      "dist=0.0 at coordination 1568, 3232\n"
     ]
    },
    {
     "name": "stderr",
     "output_type": "stream",
     "text": [
      "  0%|          | 1588/584281 [00:39<1:27:40, 110.78it/s]"
     ]
    },
    {
     "name": "stdout",
     "output_type": "stream",
     "text": [
      "dist=0.0 at coordination 1569, 7944\n",
      "dist=0.0 at coordination 1570, 2145\n",
      "dist=0.0 at coordination 1571, 1781\n",
      "dist=0.0 at coordination 1572, 1590\n",
      "dist=0.0 at coordination 1573, 1591\n",
      "dist=0.0 at coordination 1574, 2023\n",
      "dist=0.0 at coordination 1575, 1774\n",
      "dist=0.0 at coordination 1576, 1615\n",
      "dist=0.0 at coordination 1577, 1694\n",
      "dist=0.0 at coordination 1578, 1600\n",
      "dist=0.0 at coordination 1579, 1582\n",
      "dist=0.0 at coordination 1580, 1583\n",
      "dist=0.0 at coordination 1581, 1595\n",
      "dist=0.0 at coordination 1582, 1596\n",
      "dist=0.0 at coordination 1583, 1708\n",
      "dist=0.0 at coordination 1584, 1646\n",
      "dist=0.0 at coordination 1585, 1696\n",
      "dist=0.0 at coordination 1586, 1629\n",
      "dist=0.0 at coordination 1587, 1605\n",
      "dist=0.0 at coordination 1588, 1606\n",
      "dist=0.0 at coordination 1589, 2016\n",
      "dist=0.0 at coordination 1590, 2021\n",
      "dist=0.0 at coordination 1591, 2022\n",
      "dist=0.0 at coordination 1592, 3444\n",
      "dist=0.0 at coordination 1593, 2183\n",
      "dist=0.0 at coordination 1594, 1645\n",
      "dist=0.0 at coordination 1595, 1807\n",
      "dist=0.0 at coordination 1596, 1808\n",
      "dist=0.0 at coordination 1597, 1686\n",
      "dist=0.0 at coordination 1598, 1798\n",
      "dist=0.0 at coordination 1599, 1618\n",
      "dist=0.0 at coordination 1600, 1819\n",
      "dist=0.0 at coordination 1601, 1811\n",
      "dist=0.0 at coordination 1602, 1765\n",
      "dist=0.0 at coordination 1603, 1614\n",
      "dist=0.0 at coordination 1604, 1664\n",
      "dist=0.0 at coordination 1605, 1630\n",
      "dist=0.0 at coordination 1606, 1728\n",
      "dist=0.0 at coordination 1607, 1609\n",
      "dist=0.0 at coordination 1608, 1610\n",
      "dist=0.0 at coordination 1609, 1611\n",
      "dist=0.0 at coordination 1610, 1612\n",
      "dist=0.0 at coordination 1611, 1729\n",
      "dist=0.0 at coordination 1612, 1730\n",
      "dist=0.0 at coordination 1613, 1731\n",
      "dist=0.0 at coordination 1614, 1732\n",
      "dist=0.0 at coordination 1615, 1693\n",
      "dist=0.0 at coordination 1616, 1734\n",
      "dist=0.0 at coordination 1617, 1869\n",
      "dist=0.0 at coordination 1618, 1799\n",
      "dist=0.0 at coordination 1619, 1695\n",
      "dist=0.0 at coordination 1620, 1705\n",
      "dist=0.0 at coordination 1621, 1623\n",
      "dist=0.0 at coordination 1622, 1624\n",
      "dist=0.0 at coordination 1623, 1625\n",
      "dist=0.0 at coordination 1624, 1626\n",
      "dist=0.0 at coordination 1625, 1627\n",
      "dist=0.0 at coordination 1626, 1683\n",
      "dist=0.0 at coordination 1627, 1790\n",
      "dist=0.0 at coordination 1628, 1637\n",
      "dist=0.0 at coordination 1629, 1638\n",
      "dist=0.0 at coordination 1630, 1727\n"
     ]
    },
    {
     "name": "stderr",
     "output_type": "stream",
     "text": [
      "  0%|          | 1649/584281 [00:39<1:08:36, 141.53it/s]"
     ]
    },
    {
     "name": "stdout",
     "output_type": "stream",
     "text": [
      "dist=0.0 at coordination 1631, 1946\n",
      "dist=0.0 at coordination 1632, 2547\n",
      "dist=0.0 at coordination 1633, 1687\n",
      "dist=0.0 at coordination 1634, 1670\n",
      "dist=0.0 at coordination 1635, 1640\n",
      "dist=0.0 at coordination 1636, 1659\n",
      "dist=0.0 at coordination 1637, 1660\n",
      "dist=0.0 at coordination 1638, 1656\n",
      "dist=0.0 at coordination 1639, 1657\n",
      "dist=0.0 at coordination 1640, 1658\n",
      "dist=0.0 at coordination 1641, 1738\n",
      "dist=0.0 at coordination 1642, 1764\n",
      "dist=0.0 at coordination 1643, 1824\n",
      "dist=0.0 at coordination 1644, 1786\n",
      "dist=0.0 at coordination 1645, 1787\n",
      "dist=0.0 at coordination 1646, 1704\n",
      "dist=0.0 at coordination 1647, 1722\n",
      "dist=0.0 at coordination 1648, 1723\n",
      "dist=0.0 at coordination 1649, 1724\n",
      "dist=0.0 at coordination 1650, 1897\n",
      "dist=0.0 at coordination 1651, 6266\n",
      "dist=0.0 at coordination 1652, 3272\n",
      "dist=0.0 at coordination 1653, 1838\n",
      "dist=0.0 at coordination 1654, 1839\n",
      "dist=0.0 at coordination 1655, 1840\n",
      "dist=0.0 at coordination 1656, 1661\n",
      "dist=0.0 at coordination 1657, 1662\n",
      "dist=0.0 at coordination 1658, 1681\n",
      "dist=0.0 at coordination 1659, 1682\n",
      "dist=0.0 at coordination 1660, 1718\n",
      "dist=0.0 at coordination 1661, 1697\n",
      "dist=0.0 at coordination 1662, 1680\n",
      "dist=0.0 at coordination 1663, 1671\n",
      "dist=0.0 at coordination 1664, 1672\n",
      "dist=0.0 at coordination 1665, 1673\n",
      "dist=0.0 at coordination 1666, 1843\n",
      "dist=0.0 at coordination 1667, 1844\n",
      "dist=0.0 at coordination 1668, 1845\n"
     ]
    },
    {
     "name": "stderr",
     "output_type": "stream",
     "text": [
      "  0%|          | 1695/584281 [00:39<57:45, 168.11it/s]  "
     ]
    },
    {
     "name": "stdout",
     "output_type": "stream",
     "text": [
      "dist=0.0 at coordination 1669, 3588\n",
      "dist=0.0 at coordination 1670, 1688\n",
      "dist=0.0 at coordination 1671, 1678\n",
      "dist=0.0 at coordination 1672, 1679\n",
      "dist=0.0 at coordination 1673, 1793\n",
      "dist=0.0 at coordination 1674, 3376\n",
      "dist=0.0 at coordination 1675, 1971\n",
      "dist=0.0 at coordination 1676, 2843\n",
      "dist=0.0 at coordination 1677, 2566\n",
      "dist=0.0 at coordination 1678, 1689\n",
      "dist=0.0 at coordination 1679, 1690\n",
      "dist=0.0 at coordination 1680, 1691\n",
      "dist=0.0 at coordination 1681, 1716\n",
      "dist=0.0 at coordination 1682, 1717\n",
      "dist=0.0 at coordination 1683, 1803\n",
      "dist=0.0 at coordination 1684, 1706\n",
      "dist=0.0 at coordination 1685, 1707\n",
      "dist=0.0 at coordination 1686, 1943\n",
      "dist=0.0 at coordination 1687, 1944\n",
      "dist=0.0 at coordination 1688, 1736\n",
      "dist=0.0 at coordination 1689, 1692\n",
      "dist=0.0 at coordination 1690, 1714\n",
      "dist=0.0 at coordination 1691, 1698\n",
      "dist=0.0 at coordination 1692, 1713\n",
      "dist=0.0 at coordination 1693, 1733\n",
      "dist=0.0 at coordination 1694, 1720\n",
      "dist=0.0 at coordination 1695, 1721\n",
      "dist=0.0 at coordination 1696, 1710\n",
      "dist=0.0 at coordination 1697, 1711\n",
      "dist=0.0 at coordination 1698, 1712\n",
      "dist=0.0 at coordination 1699, 2756\n",
      "dist=0.0 at coordination 1700, 2648\n",
      "dist=0.0 at coordination 1701, 2649\n",
      "dist=0.0 at coordination 1702, 2650\n",
      "dist=0.0 at coordination 1703, 2651\n",
      "dist=0.0 at coordination 1704, 1709\n",
      "dist=0.0 at coordination 1705, 1752\n",
      "dist=0.0 at coordination 1706, 1753\n",
      "dist=0.0 at coordination 1707, 1739\n",
      "dist=0.0 at coordination 1708, 1740\n",
      "dist=0.0 at coordination 1709, 1741\n",
      "dist=0.0 at coordination 1710, 1742\n",
      "dist=0.0 at coordination 1711, 1743\n",
      "dist=0.0 at coordination 1712, 1715\n",
      "dist=0.0 at coordination 1713, 1769\n",
      "dist=0.0 at coordination 1714, 1767\n",
      "dist=0.0 at coordination 1715, 1744\n",
      "dist=0.0 at coordination 1716, 1737\n",
      "dist=0.0 at coordination 1717, 1893\n",
      "dist=0.0 at coordination 1718, 1791\n",
      "dist=0.0 at coordination 1719, 1914\n"
     ]
    },
    {
     "name": "stderr",
     "output_type": "stream",
     "text": [
      "  0%|          | 1774/584281 [00:40<56:45, 171.06it/s]"
     ]
    },
    {
     "name": "stdout",
     "output_type": "stream",
     "text": [
      "dist=0.0 at coordination 1720, 1818\n",
      "dist=0.0 at coordination 1721, 1800\n",
      "dist=0.0 at coordination 1722, 3899\n",
      "dist=0.0 at coordination 1723, 1895\n",
      "dist=0.0 at coordination 1724, 1896\n",
      "dist=0.0 at coordination 1725, 2012\n",
      "dist=0.0 at coordination 1726, 2013\n",
      "dist=0.0 at coordination 1727, 1986\n",
      "dist=0.0 at coordination 1728, 2015\n",
      "dist=0.0 at coordination 1729, 2110\n",
      "dist=0.0 at coordination 1730, 2109\n",
      "dist=0.0 at coordination 1731, 2102\n",
      "dist=0.0 at coordination 1732, 1766\n",
      "dist=0.0 at coordination 1733, 1817\n",
      "dist=0.0 at coordination 1734, 1868\n",
      "dist=0.0 at coordination 1735, 1848\n",
      "dist=0.0 at coordination 1736, 1849\n",
      "dist=0.0 at coordination 1737, 1745\n",
      "dist=0.0 at coordination 1738, 1746\n",
      "dist=0.0 at coordination 1739, 1754\n",
      "dist=0.0 at coordination 1740, 1755\n",
      "dist=0.0 at coordination 1741, 1756\n",
      "dist=0.0 at coordination 1742, 1889\n",
      "dist=0.0 at coordination 1743, 1792\n",
      "dist=0.0 at coordination 1744, 1768\n",
      "dist=0.0 at coordination 1745, 1892\n",
      "dist=0.0 at coordination 1746, 2007\n",
      "dist=0.0 at coordination 1747, 1880\n",
      "dist=0.0 at coordination 1748, 1881\n",
      "dist=0.0 at coordination 1749, 3036\n",
      "dist=0.0 at coordination 1750, 3037\n",
      "dist=0.0 at coordination 1751, 2682\n",
      "dist=0.0 at coordination 1752, 1757\n",
      "dist=0.0 at coordination 1753, 1758\n",
      "dist=0.0 at coordination 1754, 1759\n",
      "dist=0.0 at coordination 1755, 1760\n",
      "dist=0.0 at coordination 1756, 1761\n",
      "dist=0.0 at coordination 1757, 1762\n",
      "dist=0.0 at coordination 1758, 1763\n",
      "dist=0.0 at coordination 1759, 1805\n",
      "dist=0.0 at coordination 1760, 1806\n",
      "dist=0.0 at coordination 1761, 1788\n",
      "dist=0.0 at coordination 1762, 1789\n",
      "dist=0.0 at coordination 1763, 1804\n",
      "dist=0.0 at coordination 1764, 2038\n",
      "dist=0.0 at coordination 1765, 1812\n",
      "dist=0.0 at coordination 1766, 1813\n",
      "dist=0.0 at coordination 1767, 1814\n",
      "dist=0.0 at coordination 1768, 1815\n",
      "dist=0.0 at coordination 1769, 1816\n",
      "dist=0.0 at coordination 1770, 1775\n",
      "dist=0.0 at coordination 1771, 1776\n",
      "dist=0.0 at coordination 1772, 1860\n",
      "dist=0.0 at coordination 1773, 1865\n",
      "dist=0.0 at coordination 1774, 1866\n",
      "dist=0.0 at coordination 1775, 2467\n",
      "dist=0.0 at coordination 1776, 1859\n",
      "dist=0.0 at coordination 1777, 2428\n",
      "dist=0.0 at coordination 1778, 3555\n"
     ]
    },
    {
     "name": "stderr",
     "output_type": "stream",
     "text": [
      "  0%|          | 1835/584281 [00:40<51:54, 187.01it/s]  "
     ]
    },
    {
     "name": "stdout",
     "output_type": "stream",
     "text": [
      "dist=0.0 at coordination 1779, 3556\n",
      "dist=0.0 at coordination 1780, 1963\n",
      "dist=0.0 at coordination 1781, 1969\n",
      "dist=0.0 at coordination 1782, 2017\n",
      "dist=0.0 at coordination 1783, 1795\n",
      "dist=0.0 at coordination 1784, 2019\n",
      "dist=0.0 at coordination 1785, 1964\n",
      "dist=0.0 at coordination 1786, 1825\n",
      "dist=0.0 at coordination 1787, 1826\n",
      "dist=0.0 at coordination 1788, 1888\n",
      "dist=0.0 at coordination 1789, 1801\n",
      "dist=0.0 at coordination 1790, 1802\n",
      "dist=0.0 at coordination 1791, 2098\n",
      "dist=0.0 at coordination 1792, 1841\n",
      "dist=0.0 at coordination 1793, 1842\n",
      "dist=0.0 at coordination 1794, 5607\n",
      "dist=0.0 at coordination 1795, 2018\n",
      "dist=0.0 at coordination 1796, 3483\n",
      "dist=0.0 at coordination 1797, 1998\n",
      "dist=0.0 at coordination 1798, 1999\n",
      "dist=0.0 at coordination 1799, 2076\n",
      "dist=0.0 at coordination 1800, 1916\n",
      "dist=0.0 at coordination 1801, 1955\n",
      "dist=0.0 at coordination 1802, 1900\n",
      "dist=0.0 at coordination 1803, 1899\n",
      "dist=0.0 at coordination 1804, 1956\n",
      "dist=0.0 at coordination 1805, 1957\n",
      "dist=0.0 at coordination 1806, 1809\n",
      "dist=0.0 at coordination 1807, 1810\n",
      "dist=0.0 at coordination 1808, 1820\n",
      "dist=0.0 at coordination 1809, 1821\n",
      "dist=0.0 at coordination 1810, 1822\n",
      "dist=0.0 at coordination 1811, 1823\n",
      "dist=0.0 at coordination 1812, 1832\n",
      "dist=0.0 at coordination 1813, 1833\n",
      "dist=0.0 at coordination 1814, 1985\n",
      "dist=0.0 at coordination 1815, 1891\n",
      "dist=0.0 at coordination 1816, 1850\n",
      "dist=0.0 at coordination 1817, 1834\n",
      "dist=0.0 at coordination 1818, 1835\n",
      "dist=0.0 at coordination 1819, 1923\n",
      "dist=0.0 at coordination 1820, 1828\n",
      "dist=0.0 at coordination 1821, 1829\n",
      "dist=0.0 at coordination 1822, 1827\n",
      "dist=0.0 at coordination 1823, 1831\n",
      "dist=0.0 at coordination 1824, 1935\n",
      "dist=0.0 at coordination 1825, 1936\n",
      "dist=0.0 at coordination 1826, 1937\n",
      "dist=0.0 at coordination 1827, 1830\n",
      "dist=0.0 at coordination 1828, 1924\n",
      "dist=0.0 at coordination 1829, 1925\n",
      "dist=0.0 at coordination 1830, 1933\n",
      "dist=0.0 at coordination 1831, 1934\n",
      "dist=0.0 at coordination 1832, 2052\n",
      "dist=0.0 at coordination 1833, 2060\n",
      "dist=0.0 at coordination 1834, 1867\n",
      "dist=0.0 at coordination 1835, 1915\n",
      "dist=0.0 at coordination 1836, 2027\n",
      "dist=0.0 at coordination 1837, 2028\n",
      "dist=0.0 at coordination 1838, 2029\n",
      "dist=0.0 at coordination 1839, 3162\n",
      "dist=0.0 at coordination 1840, 3163\n",
      "dist=0.0 at coordination 1841, 1890\n",
      "dist=0.0 at coordination 1842, 2538\n",
      "dist=0.0 at coordination 1843, 2539\n",
      "dist=0.0 at coordination 1844, 2540\n"
     ]
    },
    {
     "name": "stderr",
     "output_type": "stream",
     "text": [
      "  0%|          | 1857/584281 [00:40<1:48:00, 89.88it/s]"
     ]
    },
    {
     "name": "stdout",
     "output_type": "stream",
     "text": [
      "dist=0.0 at coordination 1845, 2190\n",
      "dist=0.0 at coordination 1846, 2601\n",
      "dist=0.0 at coordination 1847, 1870\n",
      "dist=0.0 at coordination 1848, 2001\n",
      "dist=0.0 at coordination 1849, 2002\n",
      "dist=0.0 at coordination 1850, 1920\n",
      "dist=0.0 at coordination 1851, 2809\n",
      "dist=0.0 at coordination 1852, 2276\n",
      "dist=0.0 at coordination 1853, 2277\n",
      "dist=0.0 at coordination 1854, 2278\n",
      "dist=0.0 at coordination 1855, 9082\n",
      "dist=0.0 at coordination 1856, 5608\n",
      "dist=0.0 at coordination 1857, 3139\n",
      "dist=0.0 at coordination 1858, 3140\n",
      "dist=0.0 at coordination 1859, 3905\n",
      "dist=0.0 at coordination 1860, 2456\n",
      "dist=0.0 at coordination 1861, 2300\n",
      "dist=0.0 at coordination 1862, 4672\n",
      "dist=0.0 at coordination 1863, 3035\n",
      "dist=0.0 at coordination 1864, 1882\n",
      "dist=0.0 at coordination 1865, 2431\n",
      "dist=0.0 at coordination 1866, 2024\n",
      "dist=0.0 at coordination 1867, 1921\n",
      "dist=0.0 at coordination 1868, 2062\n",
      "dist=0.0 at coordination 1869, 2063\n",
      "dist=0.0 at coordination 1870, 2000\n",
      "dist=0.0 at coordination 1871, 2372\n",
      "dist=0.0 at coordination 1872, 2373\n",
      "dist=0.0 at coordination 1873, 2374\n"
     ]
    },
    {
     "name": "stderr",
     "output_type": "stream",
     "text": [
      "  0%|          | 1874/584281 [00:41<2:37:55, 61.46it/s]"
     ]
    },
    {
     "name": "stdout",
     "output_type": "stream",
     "text": [
      "dist=0.0 at coordination 1874, 5560\n",
      "dist=0.0 at coordination 1875, 5561\n",
      "dist=0.0 at coordination 1876, 2375\n",
      "dist=0.0 at coordination 1877, 9326\n",
      "dist=0.0 at coordination 1878, 5022\n",
      "dist=0.0 at coordination 1879, 3056\n",
      "dist=0.0 at coordination 1880, 3120\n",
      "dist=0.0 at coordination 1881, 2528\n",
      "dist=0.0 at coordination 1882, 2529\n",
      "dist=0.0 at coordination 1883, 8916\n",
      "dist=0.0 at coordination 1884, 23733\n"
     ]
    },
    {
     "name": "stderr",
     "output_type": "stream",
     "text": [
      "  0%|          | 1897/584281 [00:42<4:04:42, 39.66it/s]"
     ]
    },
    {
     "name": "stdout",
     "output_type": "stream",
     "text": [
      "dist=0.0 at coordination 1885, 8781\n",
      "dist=0.0 at coordination 1886, 3597\n",
      "dist=0.0 at coordination 1887, 2169\n",
      "dist=0.0 at coordination 1888, 1926\n",
      "dist=0.0 at coordination 1889, 1917\n",
      "dist=0.0 at coordination 1890, 1918\n",
      "dist=0.0 at coordination 1891, 1919\n",
      "dist=0.0 at coordination 1892, 2006\n",
      "dist=0.0 at coordination 1893, 1906\n",
      "dist=0.0 at coordination 1894, 1901\n",
      "dist=0.0 at coordination 1895, 3325\n",
      "dist=0.0 at coordination 1896, 2702\n",
      "dist=0.0 at coordination 1897, 2703\n",
      "dist=0.0 at coordination 1898, 2133\n",
      "dist=0.0 at coordination 1899, 1907\n",
      "dist=0.0 at coordination 1900, 1908\n",
      "dist=0.0 at coordination 1901, 2687\n",
      "dist=0.0 at coordination 1902, 2688\n",
      "dist=0.0 at coordination 1903, 2689\n",
      "dist=0.0 at coordination 1904, 2690\n",
      "dist=0.0 at coordination 1905, 2432\n",
      "dist=0.0 at coordination 1906, 2153\n",
      "dist=0.0 at coordination 1907, 2134\n",
      "dist=0.0 at coordination 1908, 2228\n",
      "dist=0.0 at coordination 1909, 2317\n",
      "dist=0.0 at coordination 1910, 2172\n"
     ]
    },
    {
     "name": "stderr",
     "output_type": "stream",
     "text": [
      "  0%|          | 1957/584281 [00:43<1:56:27, 83.34it/s]"
     ]
    },
    {
     "name": "stdout",
     "output_type": "stream",
     "text": [
      "dist=0.0 at coordination 1911, 9086\n",
      "dist=0.0 at coordination 1912, 2196\n",
      "dist=0.0 at coordination 1913, 2197\n",
      "dist=0.0 at coordination 1914, 1928\n",
      "dist=0.0 at coordination 1915, 1922\n",
      "dist=0.0 at coordination 1916, 2333\n",
      "dist=0.0 at coordination 1917, 1927\n",
      "dist=0.0 at coordination 1918, 1982\n",
      "dist=0.0 at coordination 1919, 1983\n",
      "dist=0.0 at coordination 1920, 1984\n",
      "dist=0.0 at coordination 1921, 2025\n",
      "dist=0.0 at coordination 1922, 1929\n",
      "dist=0.0 at coordination 1923, 1930\n",
      "dist=0.0 at coordination 1924, 1931\n",
      "dist=0.0 at coordination 1925, 1932\n",
      "dist=0.0 at coordination 1926, 1954\n",
      "dist=0.0 at coordination 1927, 1981\n",
      "dist=0.0 at coordination 1928, 2198\n",
      "dist=0.0 at coordination 1929, 2026\n",
      "dist=0.0 at coordination 1930, 2077\n",
      "dist=0.0 at coordination 1931, 1939\n",
      "dist=0.0 at coordination 1932, 1940\n",
      "dist=0.0 at coordination 1933, 1938\n",
      "dist=0.0 at coordination 1934, 2051\n",
      "dist=0.0 at coordination 1935, 2032\n",
      "dist=0.0 at coordination 1936, 2033\n",
      "dist=0.0 at coordination 1937, 1947\n",
      "dist=0.0 at coordination 1938, 1941\n",
      "dist=0.0 at coordination 1939, 1942\n",
      "dist=0.0 at coordination 1940, 1950\n",
      "dist=0.0 at coordination 1941, 1948\n",
      "dist=0.0 at coordination 1942, 1949\n",
      "dist=0.0 at coordination 1943, 2074\n",
      "dist=0.0 at coordination 1944, 2233\n",
      "dist=0.0 at coordination 1945, 2644\n",
      "dist=0.0 at coordination 1946, 1987\n",
      "dist=0.0 at coordination 1947, 1988\n",
      "dist=0.0 at coordination 1948, 1951\n",
      "dist=0.0 at coordination 1949, 1952\n",
      "dist=0.0 at coordination 1950, 1953\n",
      "dist=0.0 at coordination 1951, 1959\n",
      "dist=0.0 at coordination 1952, 2043\n",
      "dist=0.0 at coordination 1953, 1958\n",
      "dist=0.0 at coordination 1954, 1980\n",
      "dist=0.0 at coordination 1955, 2036\n",
      "dist=0.0 at coordination 1956, 2037\n",
      "dist=0.0 at coordination 1957, 2008\n",
      "dist=0.0 at coordination 1958, 1979\n",
      "dist=0.0 at coordination 1959, 2042\n",
      "dist=0.0 at coordination 1960, 2395\n",
      "dist=0.0 at coordination 1961, 2579\n",
      "dist=0.0 at coordination 1962, 1967\n",
      "dist=0.0 at coordination 1963, 1968\n",
      "dist=0.0 at coordination 1964, 2146\n",
      "dist=0.0 at coordination 1965, 2952\n",
      "dist=0.0 at coordination 1966, 2130\n",
      "dist=0.0 at coordination 1967, 2658\n",
      "dist=0.0 at coordination 1968, 2955\n",
      "dist=0.0 at coordination 1969, 2020\n",
      "dist=0.0 at coordination 1970, 2628\n",
      "dist=0.0 at coordination 1971, 2629\n",
      "dist=0.0 at coordination 1972, 21352\n",
      "dist=0.0 at coordination 1973, 5202\n",
      "dist=0.0 at coordination 1974, 16129\n",
      "dist=0.0 at coordination 1975, 41149\n"
     ]
    },
    {
     "name": "stderr",
     "output_type": "stream",
     "text": [
      "  0%|          | 1976/584281 [00:45<6:35:17, 24.55it/s]"
     ]
    },
    {
     "name": "stdout",
     "output_type": "stream",
     "text": [
      "dist=0.0 at coordination 1976, 20805\n",
      "dist=0.0 at coordination 1977, 6506\n",
      "dist=0.0 at coordination 1978, 4812\n",
      "dist=0.0 at coordination 1979, 2044\n",
      "dist=0.0 at coordination 1980, 1989\n",
      "dist=0.0 at coordination 1981, 1990\n",
      "dist=0.0 at coordination 1982, 2090\n",
      "dist=0.0 at coordination 1983, 2005\n",
      "dist=0.0 at coordination 1984, 2003\n",
      "dist=0.0 at coordination 1985, 2004\n",
      "dist=0.0 at coordination 1986, 2014\n",
      "dist=0.0 at coordination 1987, 2389\n",
      "dist=0.0 at coordination 1988, 2034\n",
      "dist=0.0 at coordination 1989, 2035\n",
      "dist=0.0 at coordination 1990, 2089\n",
      "dist=0.0 at coordination 1991, 2140\n",
      "dist=0.0 at coordination 1992, 2141\n",
      "dist=0.0 at coordination 1993, 2193\n"
     ]
    },
    {
     "name": "stderr",
     "output_type": "stream",
     "text": [
      "  0%|          | 1990/584281 [00:45<6:10:25, 26.20it/s]"
     ]
    },
    {
     "name": "stdout",
     "output_type": "stream",
     "text": [
      "dist=0.0 at coordination 1994, 18392\n",
      "dist=0.0 at coordination 1995, 115480\n"
     ]
    },
    {
     "name": "stderr",
     "output_type": "stream",
     "text": [
      "  0%|          | 2009/584281 [00:49<12:00:24, 13.47it/s]"
     ]
    },
    {
     "name": "stdout",
     "output_type": "stream",
     "text": [
      "dist=0.0 at coordination 1996, 25404\n",
      "dist=0.0 at coordination 1997, 9912\n",
      "dist=0.0 at coordination 1998, 2660\n",
      "dist=0.0 at coordination 1999, 2075\n",
      "dist=0.0 at coordination 2000, 2064\n",
      "dist=0.0 at coordination 2001, 2205\n",
      "dist=0.0 at coordination 2002, 2242\n",
      "dist=0.0 at coordination 2003, 2117\n",
      "dist=0.0 at coordination 2004, 2127\n",
      "dist=0.0 at coordination 2005, 2116\n",
      "dist=0.0 at coordination 2006, 2152\n",
      "dist=0.0 at coordination 2007, 2054\n",
      "dist=0.0 at coordination 2008, 2048\n",
      "dist=0.0 at coordination 2009, 2518\n",
      "dist=0.0 at coordination 2010, 2519\n",
      "dist=0.0 at coordination 2011, 3233\n",
      "dist=0.0 at coordination 2012, 3173\n",
      "dist=0.0 at coordination 2013, 2387\n"
     ]
    },
    {
     "name": "stderr",
     "output_type": "stream",
     "text": [
      "  0%|          | 2017/584281 [00:49<10:15:53, 15.76it/s]"
     ]
    },
    {
     "name": "stdout",
     "output_type": "stream",
     "text": [
      "dist=0.0 at coordination 2014, 2091\n",
      "dist=0.0 at coordination 2015, 2092\n",
      "dist=0.0 at coordination 2016, 2627\n",
      "dist=0.0 at coordination 2017, 3481\n",
      "dist=0.0 at coordination 2018, 3482\n",
      "dist=0.0 at coordination 2019, 2881\n",
      "dist=0.0 at coordination 2020, 2956\n",
      "dist=0.0 at coordination 2021, 2606\n",
      "dist=0.0 at coordination 2022, 2607\n",
      "dist=0.0 at coordination 2023, 2608\n",
      "dist=0.0 at coordination 2024, 2458\n",
      "dist=0.0 at coordination 2025, 2061\n",
      "dist=0.0 at coordination 2026, 2105\n",
      "dist=0.0 at coordination 2027, 2120\n",
      "dist=0.0 at coordination 2028, 2121\n",
      "dist=0.0 at coordination 2029, 2122\n",
      "dist=0.0 at coordination 2030, 2123\n",
      "dist=0.0 at coordination 2031, 2124\n",
      "dist=0.0 at coordination 2032, 2039\n",
      "dist=0.0 at coordination 2033, 2040\n",
      "dist=0.0 at coordination 2034, 2041\n",
      "dist=0.0 at coordination 2035, 2045\n",
      "dist=0.0 at coordination 2036, 2046\n",
      "dist=0.0 at coordination 2037, 2047\n",
      "dist=0.0 at coordination 2038, 2259\n",
      "dist=0.0 at coordination 2039, 2108\n",
      "dist=0.0 at coordination 2040, 2111\n",
      "dist=0.0 at coordination 2041, 2112\n",
      "dist=0.0 at coordination 2042, 2050\n",
      "dist=0.0 at coordination 2043, 2073\n",
      "dist=0.0 at coordination 2044, 2049\n",
      "dist=0.0 at coordination 2045, 2088\n",
      "dist=0.0 at coordination 2046, 2186\n",
      "dist=0.0 at coordination 2047, 2135\n",
      "dist=0.0 at coordination 2048, 2055\n",
      "dist=0.0 at coordination 2049, 2056\n",
      "dist=0.0 at coordination 2050, 2057\n",
      "dist=0.0 at coordination 2051, 2058\n",
      "dist=0.0 at coordination 2052, 2059\n",
      "dist=0.0 at coordination 2053, 2225\n",
      "dist=0.0 at coordination 2054, 2211\n",
      "dist=0.0 at coordination 2055, 2136\n",
      "dist=0.0 at coordination 2056, 2084\n",
      "dist=0.0 at coordination 2057, 2085\n",
      "dist=0.0 at coordination 2058, 2107\n",
      "dist=0.0 at coordination 2059, 2125\n",
      "dist=0.0 at coordination 2060, 2103\n",
      "dist=0.0 at coordination 2061, 2104\n"
     ]
    },
    {
     "name": "stderr",
     "output_type": "stream",
     "text": [
      "  0%|          | 2062/584281 [00:49<4:20:40, 37.22it/s] "
     ]
    },
    {
     "name": "stdout",
     "output_type": "stream",
     "text": [
      "dist=0.0 at coordination 2062, 2199\n",
      "dist=0.0 at coordination 2063, 2162\n",
      "dist=0.0 at coordination 2064, 2177\n",
      "dist=0.0 at coordination 2065, 2200\n",
      "dist=0.0 at coordination 2066, 2977\n",
      "dist=0.0 at coordination 2067, 2978\n",
      "dist=0.0 at coordination 2068, 3143\n",
      "dist=0.0 at coordination 2069, 7237\n"
     ]
    },
    {
     "name": "stderr",
     "output_type": "stream",
     "text": [
      "  0%|          | 2108/584281 [00:50<2:45:07, 58.76it/s]"
     ]
    },
    {
     "name": "stdout",
     "output_type": "stream",
     "text": [
      "dist=0.0 at coordination 2070, 5257\n",
      "dist=0.0 at coordination 2071, 4275\n",
      "dist=0.0 at coordination 2072, 3038\n",
      "dist=0.0 at coordination 2073, 2078\n",
      "dist=0.0 at coordination 2074, 2079\n",
      "dist=0.0 at coordination 2075, 2080\n",
      "dist=0.0 at coordination 2076, 2081\n",
      "dist=0.0 at coordination 2077, 2082\n",
      "dist=0.0 at coordination 2078, 2083\n",
      "dist=0.0 at coordination 2079, 2213\n",
      "dist=0.0 at coordination 2080, 2548\n",
      "dist=0.0 at coordination 2081, 2602\n",
      "dist=0.0 at coordination 2082, 2106\n",
      "dist=0.0 at coordination 2083, 2086\n",
      "dist=0.0 at coordination 2084, 2087\n",
      "dist=0.0 at coordination 2085, 2391\n",
      "dist=0.0 at coordination 2086, 2392\n",
      "dist=0.0 at coordination 2087, 2137\n",
      "dist=0.0 at coordination 2088, 2113\n",
      "dist=0.0 at coordination 2089, 2114\n",
      "dist=0.0 at coordination 2090, 2099\n",
      "dist=0.0 at coordination 2091, 2100\n",
      "dist=0.0 at coordination 2092, 2101\n",
      "dist=0.0 at coordination 2093, 2423\n",
      "dist=0.0 at coordination 2094, 2286\n",
      "dist=0.0 at coordination 2095, 3054\n",
      "dist=0.0 at coordination 2096, 2379\n",
      "dist=0.0 at coordination 2097, 2380\n",
      "dist=0.0 at coordination 2098, 2154\n",
      "dist=0.0 at coordination 2099, 2115\n",
      "dist=0.0 at coordination 2100, 2128\n",
      "dist=0.0 at coordination 2101, 2339\n",
      "dist=0.0 at coordination 2102, 2148\n",
      "dist=0.0 at coordination 2103, 2126\n",
      "dist=0.0 at coordination 2104, 2118\n",
      "dist=0.0 at coordination 2105, 2119\n",
      "dist=0.0 at coordination 2106, 2219\n",
      "dist=0.0 at coordination 2107, 2420\n",
      "dist=0.0 at coordination 2108, 2421\n",
      "dist=0.0 at coordination 2109, 2147\n",
      "dist=0.0 at coordination 2110, 2302\n",
      "dist=0.0 at coordination 2111, 2404\n",
      "dist=0.0 at coordination 2112, 2184\n",
      "dist=0.0 at coordination 2113, 2138\n",
      "dist=0.0 at coordination 2114, 2139\n",
      "dist=0.0 at coordination 2115, 2337\n",
      "dist=0.0 at coordination 2116, 2151\n",
      "dist=0.0 at coordination 2117, 2463\n",
      "dist=0.0 at coordination 2118, 2368\n"
     ]
    },
    {
     "name": "stderr",
     "output_type": "stream",
     "text": [
      "  0%|          | 2126/584281 [00:50<2:33:19, 63.28it/s]"
     ]
    },
    {
     "name": "stdout",
     "output_type": "stream",
     "text": [
      "dist=0.0 at coordination 2119, 2418\n",
      "dist=0.0 at coordination 2120, 3159\n",
      "dist=0.0 at coordination 2121, 2841\n",
      "dist=0.0 at coordination 2122, 3161\n",
      "dist=0.0 at coordination 2123, 3378\n",
      "dist=0.0 at coordination 2124, 4982\n",
      "dist=0.0 at coordination 2125, 2260\n",
      "dist=0.0 at coordination 2126, 2149\n",
      "dist=0.0 at coordination 2127, 2150\n",
      "dist=0.0 at coordination 2128, 2338\n",
      "dist=0.0 at coordination 2129, 2656\n",
      "dist=0.0 at coordination 2130, 2657\n",
      "dist=0.0 at coordination 2131, 2580\n",
      "dist=0.0 at coordination 2132, 2268\n",
      "dist=0.0 at coordination 2133, 2269\n",
      "dist=0.0 at coordination 2134, 2227\n",
      "dist=0.0 at coordination 2135, 2230\n",
      "dist=0.0 at coordination 2136, 2212\n",
      "dist=0.0 at coordination 2137, 2249\n",
      "dist=0.0 at coordination 2138, 2170\n"
     ]
    },
    {
     "name": "stderr",
     "output_type": "stream",
     "text": [
      "  0%|          | 2141/584281 [00:50<2:19:50, 69.38it/s]"
     ]
    },
    {
     "name": "stdout",
     "output_type": "stream",
     "text": [
      "dist=0.0 at coordination 2139, 2653\n",
      "dist=0.0 at coordination 2140, 2155\n",
      "dist=0.0 at coordination 2141, 2156\n",
      "dist=0.0 at coordination 2142, 2157\n",
      "dist=0.0 at coordination 2143, 3634\n",
      "dist=0.0 at coordination 2144, 3075\n",
      "dist=0.0 at coordination 2145, 4457\n",
      "dist=0.0 at coordination 2146, 2882\n",
      "dist=0.0 at coordination 2147, 2303\n",
      "dist=0.0 at coordination 2148, 2304\n",
      "dist=0.0 at coordination 2149, 2416\n",
      "dist=0.0 at coordination 2150, 2464\n",
      "dist=0.0 at coordination 2151, 2465\n",
      "dist=0.0 at coordination 2152, 2243\n",
      "dist=0.0 at coordination 2153, 2226\n",
      "dist=0.0 at coordination 2154, 2274\n",
      "dist=0.0 at coordination 2155, 3494\n",
      "dist=0.0 at coordination 2156, 2563\n"
     ]
    },
    {
     "name": "stderr",
     "output_type": "stream",
     "text": [
      "  0%|          | 2155/584281 [00:50<2:33:34, 63.18it/s]"
     ]
    },
    {
     "name": "stdout",
     "output_type": "stream",
     "text": [
      "dist=0.0 at coordination 2157, 3633\n",
      "dist=0.0 at coordination 2158, 7747\n",
      "dist=0.0 at coordination 2159, 3933\n",
      "dist=0.0 at coordination 2160, 2986\n",
      "dist=0.0 at coordination 2161, 2204\n",
      "dist=0.0 at coordination 2162, 2176\n",
      "dist=0.0 at coordination 2163, 3695\n",
      "dist=0.0 at coordination 2164, 3696\n",
      "dist=0.0 at coordination 2165, 11450\n",
      "dist=0.0 at coordination 2166, 16337\n"
     ]
    },
    {
     "name": "stderr",
     "output_type": "stream",
     "text": [
      "  0%|          | 2186/584281 [00:51<3:57:19, 40.88it/s]"
     ]
    },
    {
     "name": "stdout",
     "output_type": "stream",
     "text": [
      "dist=0.0 at coordination 2167, 14985\n",
      "dist=0.0 at coordination 2168, 3865\n",
      "dist=0.0 at coordination 2169, 3598\n",
      "dist=0.0 at coordination 2170, 2185\n",
      "dist=0.0 at coordination 2171, 2993\n",
      "dist=0.0 at coordination 2172, 2318\n",
      "dist=0.0 at coordination 2173, 2319\n",
      "dist=0.0 at coordination 2174, 2320\n",
      "dist=0.0 at coordination 2175, 2238\n",
      "dist=0.0 at coordination 2176, 2178\n",
      "dist=0.0 at coordination 2177, 2240\n",
      "dist=0.0 at coordination 2178, 2239\n",
      "dist=0.0 at coordination 2179, 3231\n",
      "dist=0.0 at coordination 2180, 2322\n",
      "dist=0.0 at coordination 2181, 5334\n",
      "dist=0.0 at coordination 2182, 4176\n",
      "dist=0.0 at coordination 2183, 2546\n",
      "dist=0.0 at coordination 2184, 2390\n",
      "dist=0.0 at coordination 2185, 2250\n",
      "dist=0.0 at coordination 2186, 2251\n",
      "dist=0.0 at coordination 2187, 2350\n",
      "dist=0.0 at coordination 2188, 2351\n",
      "dist=0.0 at coordination 2189, 2905\n",
      "dist=0.0 at coordination 2190, 2541\n",
      "dist=0.0 at coordination 2191, 2542\n",
      "dist=0.0 at coordination 2192, 2201\n",
      "dist=0.0 at coordination 2193, 8936\n",
      "dist=0.0 at coordination 2194, 150304\n"
     ]
    },
    {
     "name": "stderr",
     "output_type": "stream",
     "text": [
      "  0%|          | 2201/584281 [00:57<22:33:08,  7.17it/s]"
     ]
    },
    {
     "name": "stdout",
     "output_type": "stream",
     "text": [
      "dist=0.0 at coordination 2195, 97660\n",
      "dist=0.0 at coordination 2196, 8248\n",
      "dist=0.0 at coordination 2197, 3418\n",
      "dist=0.0 at coordination 2198, 2435\n",
      "dist=0.0 at coordination 2199, 2369\n",
      "dist=0.0 at coordination 2200, 2445\n",
      "dist=0.0 at coordination 2201, 3625\n",
      "dist=0.0 at coordination 2202, 2564\n",
      "dist=0.0 at coordination 2203, 3604\n",
      "dist=0.0 at coordination 2204, 2631\n",
      "dist=0.0 at coordination 2205, 2241\n"
     ]
    },
    {
     "name": "stderr",
     "output_type": "stream",
     "text": [
      "  0%|          | 2216/584281 [00:58<13:58:49, 11.56it/s]"
     ]
    },
    {
     "name": "stdout",
     "output_type": "stream",
     "text": [
      "dist=0.0 at coordination 2206, 2234\n",
      "dist=0.0 at coordination 2207, 4723\n",
      "dist=0.0 at coordination 2208, 3338\n",
      "dist=0.0 at coordination 2209, 4725\n",
      "dist=0.0 at coordination 2210, 4849\n",
      "dist=0.0 at coordination 2211, 2492\n",
      "dist=0.0 at coordination 2212, 2231\n",
      "dist=0.0 at coordination 2213, 2232\n",
      "dist=0.0 at coordination 2214, 2968\n",
      "dist=0.0 at coordination 2215, 2969\n",
      "dist=0.0 at coordination 2216, 2811\n",
      "dist=0.0 at coordination 2217, 2812\n",
      "dist=0.0 at coordination 2218, 2770\n",
      "dist=0.0 at coordination 2219, 2419\n",
      "dist=0.0 at coordination 2220, 4219\n",
      "dist=0.0 at coordination 2221, 4833\n"
     ]
    },
    {
     "name": "stderr",
     "output_type": "stream",
     "text": [
      "  0%|          | 2222/584281 [00:58<12:56:05, 12.50it/s]"
     ]
    },
    {
     "name": "stdout",
     "output_type": "stream",
     "text": [
      "dist=0.0 at coordination 2222, 6541\n",
      "dist=0.0 at coordination 2223, 8759\n",
      "dist=0.0 at coordination 2224, 2729\n",
      "dist=0.0 at coordination 2225, 2305\n",
      "dist=0.0 at coordination 2226, 2306\n",
      "dist=0.0 at coordination 2227, 2229\n",
      "dist=0.0 at coordination 2228, 2252\n",
      "dist=0.0 at coordination 2229, 2253\n",
      "dist=0.0 at coordination 2230, 2258\n",
      "dist=0.0 at coordination 2231, 2474\n",
      "dist=0.0 at coordination 2232, 2595\n",
      "dist=0.0 at coordination 2233, 2596\n",
      "dist=0.0 at coordination 2234, 5487\n",
      "dist=0.0 at coordination 2235, 4905\n"
     ]
    },
    {
     "name": "stderr",
     "output_type": "stream",
     "text": [
      "  0%|          | 2245/584281 [00:58<6:47:55, 23.78it/s] "
     ]
    },
    {
     "name": "stdout",
     "output_type": "stream",
     "text": [
      "dist=0.0 at coordination 2236, 2425\n",
      "dist=0.0 at coordination 2237, 2769\n",
      "dist=0.0 at coordination 2238, 3693\n",
      "dist=0.0 at coordination 2239, 2370\n",
      "dist=0.0 at coordination 2240, 2371\n",
      "dist=0.0 at coordination 2241, 2461\n",
      "dist=0.0 at coordination 2242, 2462\n",
      "dist=0.0 at coordination 2243, 2491\n",
      "dist=0.0 at coordination 2244, 6127\n",
      "dist=0.0 at coordination 2245, 2767\n",
      "dist=0.0 at coordination 2246, 3416\n",
      "dist=0.0 at coordination 2247, 4371\n",
      "dist=0.0 at coordination 2248, 3025\n",
      "dist=0.0 at coordination 2249, 2393\n",
      "dist=0.0 at coordination 2250, 2476\n",
      "dist=0.0 at coordination 2251, 2334\n",
      "dist=0.0 at coordination 2252, 2254\n",
      "dist=0.0 at coordination 2253, 2255\n",
      "dist=0.0 at coordination 2254, 2256\n",
      "dist=0.0 at coordination 2255, 2257\n",
      "dist=0.0 at coordination 2256, 2271\n",
      "dist=0.0 at coordination 2257, 2270\n",
      "dist=0.0 at coordination 2258, 2473\n",
      "dist=0.0 at coordination 2259, 2484\n",
      "dist=0.0 at coordination 2260, 2557\n",
      "dist=0.0 at coordination 2261, 2647\n",
      "dist=0.0 at coordination 2262, 2984\n",
      "dist=0.0 at coordination 2263, 3145\n"
     ]
    },
    {
     "name": "stderr",
     "output_type": "stream",
     "text": [
      "  0%|          | 2260/584281 [00:59<4:15:54, 37.91it/s]"
     ]
    },
    {
     "name": "stdout",
     "output_type": "stream",
     "text": [
      "dist=0.0 at coordination 2264, 4273\n"
     ]
    },
    {
     "name": "stderr",
     "output_type": "stream",
     "text": [
      "  0%|          | 2267/584281 [00:59<5:27:06, 29.65it/s]"
     ]
    },
    {
     "name": "stdout",
     "output_type": "stream",
     "text": [
      "dist=0.0 at coordination 2265, 12753\n",
      "dist=0.0 at coordination 2266, 4535\n",
      "dist=0.0 at coordination 2267, 4188\n",
      "dist=0.0 at coordination 2268, 2581\n",
      "dist=0.0 at coordination 2269, 3302\n",
      "dist=0.0 at coordination 2270, 2272\n",
      "dist=0.0 at coordination 2271, 2273\n",
      "dist=0.0 at coordination 2272, 2307\n",
      "dist=0.0 at coordination 2273, 2308\n",
      "dist=0.0 at coordination 2274, 2336\n",
      "dist=0.0 at coordination 2275, 2363\n",
      "dist=0.0 at coordination 2276, 2364\n",
      "dist=0.0 at coordination 2277, 2365\n"
     ]
    },
    {
     "name": "stderr",
     "output_type": "stream",
     "text": [
      "  0%|          | 2274/584281 [01:00<10:11:21, 15.87it/s]"
     ]
    },
    {
     "name": "stdout",
     "output_type": "stream",
     "text": [
      "dist=0.0 at coordination 2278, 47939\n",
      "dist=0.0 at coordination 2279, 6098\n",
      "dist=0.0 at coordination 2280, 4302\n",
      "dist=0.0 at coordination 2281, 8588\n"
     ]
    },
    {
     "name": "stderr",
     "output_type": "stream",
     "text": [
      "  0%|          | 2281/584281 [01:04<30:08:10,  5.36it/s]"
     ]
    },
    {
     "name": "stdout",
     "output_type": "stream",
     "text": [
      "dist=0.0 at coordination 2282, 149487\n",
      "dist=0.0 at coordination 2283, 4972\n",
      "dist=0.0 at coordination 2284, 4637\n",
      "dist=0.0 at coordination 2285, 8783\n",
      "dist=0.0 at coordination 2286, 5009\n",
      "dist=0.0 at coordination 2287, 5010\n"
     ]
    },
    {
     "name": "stderr",
     "output_type": "stream",
     "text": [
      "  0%|          | 2286/584281 [01:07<46:39:50,  3.46it/s]"
     ]
    },
    {
     "name": "stdout",
     "output_type": "stream",
     "text": [
      "dist=0.0 at coordination 2288, 115028\n",
      "dist=0.0 at coordination 2289, 8104\n",
      "dist=0.0 at coordination 2290, 8105\n",
      "dist=0.0 at coordination 2291, 107344\n"
     ]
    },
    {
     "name": "stderr",
     "output_type": "stream",
     "text": [
      "  0%|          | 2288/584281 [01:12<106:03:40,  1.52it/s]"
     ]
    },
    {
     "name": "stdout",
     "output_type": "stream",
     "text": [
      "dist=0.0 at coordination 2292, 114466\n"
     ]
    },
    {
     "name": "stderr",
     "output_type": "stream",
     "text": [
      "  0%|          | 2289/584281 [01:13<123:22:11,  1.31it/s]"
     ]
    },
    {
     "name": "stdout",
     "output_type": "stream",
     "text": [
      "dist=0.0 at coordination 2293, 72657\n",
      "dist=0.0 at coordination 2294, 14561\n"
     ]
    },
    {
     "name": "stderr",
     "output_type": "stream",
     "text": [
      "  0%|          | 2291/584281 [01:14<99:35:41,  1.62it/s] "
     ]
    },
    {
     "name": "stdout",
     "output_type": "stream",
     "text": [
      "dist=0.0 at coordination 2295, 11200\n",
      "dist=0.0 at coordination 2296, 11201\n"
     ]
    },
    {
     "name": "stderr",
     "output_type": "stream",
     "text": [
      "  0%|          | 2314/584281 [01:14<13:55:15, 11.61it/s]"
     ]
    },
    {
     "name": "stdout",
     "output_type": "stream",
     "text": [
      "dist=0.0 at coordination 2297, 2499\n",
      "dist=0.0 at coordination 2298, 2500\n",
      "dist=0.0 at coordination 2299, 2430\n",
      "dist=0.0 at coordination 2300, 2530\n",
      "dist=0.0 at coordination 2301, 2531\n",
      "dist=0.0 at coordination 2302, 2403\n",
      "dist=0.0 at coordination 2303, 2422\n",
      "dist=0.0 at coordination 2304, 2340\n",
      "dist=0.0 at coordination 2305, 2341\n",
      "dist=0.0 at coordination 2306, 2342\n",
      "dist=0.0 at coordination 2307, 2309\n",
      "dist=0.0 at coordination 2308, 2310\n",
      "dist=0.0 at coordination 2309, 2311\n",
      "dist=0.0 at coordination 2310, 2312\n",
      "dist=0.0 at coordination 2311, 2313\n",
      "dist=0.0 at coordination 2312, 2314\n",
      "dist=0.0 at coordination 2313, 2315\n",
      "dist=0.0 at coordination 2314, 2316\n",
      "dist=0.0 at coordination 2315, 2343\n",
      "dist=0.0 at coordination 2316, 2335\n",
      "dist=0.0 at coordination 2317, 4095\n",
      "dist=0.0 at coordination 2318, 8486\n",
      "dist=0.0 at coordination 2319, 12335\n",
      "dist=0.0 at coordination 2320, 16064\n"
     ]
    },
    {
     "name": "stderr",
     "output_type": "stream",
     "text": [
      "  0%|          | 2318/584281 [01:15<18:33:25,  8.71it/s]"
     ]
    },
    {
     "name": "stdout",
     "output_type": "stream",
     "text": [
      "dist=0.0 at coordination 2321, 18070\n",
      "dist=0.0 at coordination 2322, 3950\n",
      "dist=0.0 at coordination 2323, 3951\n"
     ]
    },
    {
     "name": "stderr",
     "output_type": "stream",
     "text": [
      "  0%|          | 2321/584281 [01:15<19:05:24,  8.47it/s]"
     ]
    },
    {
     "name": "stdout",
     "output_type": "stream",
     "text": [
      "dist=0.0 at coordination 2324, 16979\n",
      "dist=0.0 at coordination 2325, 2940\n",
      "dist=0.0 at coordination 2326, 5066\n"
     ]
    },
    {
     "name": "stderr",
     "output_type": "stream",
     "text": [
      "  0%|          | 2324/584281 [01:16<18:47:02,  8.61it/s]"
     ]
    },
    {
     "name": "stdout",
     "output_type": "stream",
     "text": [
      "dist=0.0 at coordination 2327, 12435\n",
      "dist=0.0 at coordination 2328, 3539\n",
      "dist=0.0 at coordination 2329, 2398\n",
      "dist=0.0 at coordination 2330, 2399\n",
      "dist=0.0 at coordination 2331, 3544\n",
      "dist=0.0 at coordination 2332, 2987\n",
      "dist=0.0 at coordination 2333, 2771\n",
      "dist=0.0 at coordination 2334, 2477\n",
      "dist=0.0 at coordination 2335, 2344\n",
      "dist=0.0 at coordination 2336, 2362\n",
      "dist=0.0 at coordination 2337, 2654\n",
      "dist=0.0 at coordination 2338, 2388\n",
      "dist=0.0 at coordination 2339, 2402\n",
      "dist=0.0 at coordination 2340, 2415\n",
      "dist=0.0 at coordination 2341, 2585\n",
      "dist=0.0 at coordination 2342, 2433\n",
      "dist=0.0 at coordination 2343, 2345\n",
      "dist=0.0 at coordination 2344, 2346\n",
      "dist=0.0 at coordination 2345, 2347\n",
      "dist=0.0 at coordination 2346, 2348\n",
      "dist=0.0 at coordination 2347, 2349\n",
      "dist=0.0 at coordination 2348, 2357\n",
      "dist=0.0 at coordination 2349, 2358\n",
      "dist=0.0 at coordination 2350, 2497\n",
      "dist=0.0 at coordination 2351, 2498\n"
     ]
    },
    {
     "name": "stderr",
     "output_type": "stream",
     "text": [
      "  0%|          | 2361/584281 [01:16<5:27:49, 29.58it/s] "
     ]
    },
    {
     "name": "stdout",
     "output_type": "stream",
     "text": [
      "dist=0.0 at coordination 2352, 10137\n",
      "dist=0.0 at coordination 2353, 4255\n",
      "dist=0.0 at coordination 2354, 3774\n",
      "dist=0.0 at coordination 2355, 3775\n",
      "dist=0.0 at coordination 2356, 2472\n",
      "dist=0.0 at coordination 2357, 2359\n",
      "dist=0.0 at coordination 2358, 2360\n",
      "dist=0.0 at coordination 2359, 2361\n",
      "dist=0.0 at coordination 2360, 2381\n",
      "dist=0.0 at coordination 2361, 2591\n",
      "dist=0.0 at coordination 2362, 2434\n",
      "dist=0.0 at coordination 2363, 3862\n",
      "dist=0.0 at coordination 2364, 3187\n",
      "dist=0.0 at coordination 2365, 5415\n"
     ]
    },
    {
     "name": "stderr",
     "output_type": "stream",
     "text": [
      "  0%|          | 2366/584281 [01:16<5:12:22, 31.05it/s]"
     ]
    },
    {
     "name": "stdout",
     "output_type": "stream",
     "text": [
      "dist=0.0 at coordination 2366, 4848\n",
      "dist=0.0 at coordination 2367, 4726\n",
      "dist=0.0 at coordination 2368, 2417\n",
      "dist=0.0 at coordination 2369, 2436\n",
      "dist=0.0 at coordination 2370, 2437\n",
      "dist=0.0 at coordination 2371, 2438\n",
      "dist=0.0 at coordination 2372, 3608\n",
      "dist=0.0 at coordination 2373, 4567\n",
      "dist=0.0 at coordination 2374, 5559\n",
      "dist=0.0 at coordination 2375, 4515\n"
     ]
    },
    {
     "name": "stderr",
     "output_type": "stream",
     "text": [
      "  0%|          | 2371/584281 [01:17<5:36:29, 28.82it/s]"
     ]
    },
    {
     "name": "stdout",
     "output_type": "stream",
     "text": [
      "dist=0.0 at coordination 2376, 11634\n",
      "dist=0.0 at coordination 2377, 3595\n"
     ]
    },
    {
     "name": "stderr",
     "output_type": "stream",
     "text": [
      "  0%|          | 2375/584281 [01:17<8:08:45, 19.84it/s]"
     ]
    },
    {
     "name": "stdout",
     "output_type": "stream",
     "text": [
      "dist=0.0 at coordination 2378, 11636\n",
      "dist=0.0 at coordination 2379, 3055\n",
      "dist=0.0 at coordination 2380, 4449\n",
      "dist=0.0 at coordination 2381, 2592\n",
      "dist=0.0 at coordination 2382, 2932\n",
      "dist=0.0 at coordination 2383, 3778\n",
      "dist=0.0 at coordination 2384, 9609\n"
     ]
    },
    {
     "name": "stderr",
     "output_type": "stream",
     "text": [
      "  0%|          | 2392/584281 [01:18<6:41:29, 24.16it/s] "
     ]
    },
    {
     "name": "stdout",
     "output_type": "stream",
     "text": [
      "dist=0.0 at coordination 2385, 6462\n",
      "dist=0.0 at coordination 2386, 12291\n",
      "dist=0.0 at coordination 2387, 3238\n",
      "dist=0.0 at coordination 2388, 2510\n",
      "dist=0.0 at coordination 2389, 2570\n",
      "dist=0.0 at coordination 2390, 2405\n",
      "dist=0.0 at coordination 2391, 2394\n",
      "dist=0.0 at coordination 2392, 2407\n",
      "dist=0.0 at coordination 2393, 2475\n",
      "dist=0.0 at coordination 2394, 2406\n",
      "dist=0.0 at coordination 2395, 2578\n",
      "dist=0.0 at coordination 2396, 6304\n",
      "dist=0.0 at coordination 2397, 21374\n",
      "dist=0.0 at coordination 2398, 113710\n",
      "dist=0.0 at coordination 2399, 3543\n",
      "dist=0.0 at coordination 2400, 15865\n"
     ]
    },
    {
     "name": "stderr",
     "output_type": "stream",
     "text": [
      "  0%|          | 2404/584281 [01:21<22:12:09,  7.28it/s]"
     ]
    },
    {
     "name": "stdout",
     "output_type": "stream",
     "text": [
      "dist=0.0 at coordination 2401, 2505\n",
      "dist=0.0 at coordination 2402, 2506\n",
      "dist=0.0 at coordination 2403, 2625\n",
      "dist=0.0 at coordination 2404, 2735\n",
      "dist=0.0 at coordination 2405, 2571\n",
      "dist=0.0 at coordination 2406, 2577\n",
      "dist=0.0 at coordination 2407, 2517\n",
      "dist=0.0 at coordination 2408, 5904\n",
      "dist=0.0 at coordination 2409, 5905\n",
      "dist=0.0 at coordination 2410, 16573\n",
      "dist=0.0 at coordination 2411, 16574\n",
      "dist=0.0 at coordination 2412, 7934\n"
     ]
    },
    {
     "name": "stderr",
     "output_type": "stream",
     "text": [
      "  0%|          | 2420/584281 [01:22<14:43:42, 10.97it/s]"
     ]
    },
    {
     "name": "stdout",
     "output_type": "stream",
     "text": [
      "dist=0.0 at coordination 2413, 7525\n",
      "dist=0.0 at coordination 2414, 3340\n",
      "dist=0.0 at coordination 2415, 2487\n",
      "dist=0.0 at coordination 2416, 2488\n",
      "dist=0.0 at coordination 2417, 2459\n",
      "dist=0.0 at coordination 2418, 2515\n",
      "dist=0.0 at coordination 2419, 2516\n",
      "dist=0.0 at coordination 2420, 2556\n",
      "dist=0.0 at coordination 2421, 2485\n",
      "dist=0.0 at coordination 2422, 2486\n",
      "dist=0.0 at coordination 2423, 3336\n",
      "dist=0.0 at coordination 2424, 5323\n",
      "dist=0.0 at coordination 2425, 4906\n",
      "dist=0.0 at coordination 2426, 9495\n"
     ]
    },
    {
     "name": "stderr",
     "output_type": "stream",
     "text": [
      "  0%|          | 2443/584281 [01:23<7:21:46, 21.95it/s] "
     ]
    },
    {
     "name": "stdout",
     "output_type": "stream",
     "text": [
      "dist=0.0 at coordination 2427, 11147\n",
      "dist=0.0 at coordination 2428, 2447\n",
      "dist=0.0 at coordination 2429, 2448\n",
      "dist=0.0 at coordination 2430, 2760\n",
      "dist=0.0 at coordination 2431, 2457\n",
      "dist=0.0 at coordination 2432, 2826\n",
      "dist=0.0 at coordination 2433, 2714\n",
      "dist=0.0 at coordination 2434, 2795\n",
      "dist=0.0 at coordination 2435, 2724\n",
      "dist=0.0 at coordination 2436, 2460\n",
      "dist=0.0 at coordination 2437, 2439\n",
      "dist=0.0 at coordination 2438, 2440\n",
      "dist=0.0 at coordination 2439, 2441\n",
      "dist=0.0 at coordination 2440, 2442\n",
      "dist=0.0 at coordination 2441, 2443\n",
      "dist=0.0 at coordination 2442, 2444\n",
      "dist=0.0 at coordination 2443, 3012\n",
      "dist=0.0 at coordination 2444, 2549\n",
      "dist=0.0 at coordination 2445, 2976\n",
      "dist=0.0 at coordination 2446, 2543\n",
      "dist=0.0 at coordination 2447, 3554\n",
      "dist=0.0 at coordination 2448, 2450\n",
      "dist=0.0 at coordination 2449, 2451\n",
      "dist=0.0 at coordination 2450, 11225\n",
      "dist=0.0 at coordination 2451, 2501\n",
      "dist=0.0 at coordination 2452, 2502\n",
      "dist=0.0 at coordination 2453, 2503\n",
      "dist=0.0 at coordination 2454, 10129\n",
      "dist=0.0 at coordination 2455, 5478\n"
     ]
    },
    {
     "name": "stderr",
     "output_type": "stream",
     "text": [
      "  0%|          | 2471/584281 [01:24<4:57:08, 32.63it/s]"
     ]
    },
    {
     "name": "stdout",
     "output_type": "stream",
     "text": [
      "dist=0.0 at coordination 2456, 2544\n",
      "dist=0.0 at coordination 2457, 2761\n",
      "dist=0.0 at coordination 2458, 2609\n",
      "dist=0.0 at coordination 2459, 2514\n",
      "dist=0.0 at coordination 2460, 2855\n",
      "dist=0.0 at coordination 2461, 2550\n",
      "dist=0.0 at coordination 2462, 2551\n",
      "dist=0.0 at coordination 2463, 2466\n",
      "dist=0.0 at coordination 2464, 2489\n",
      "dist=0.0 at coordination 2465, 2490\n",
      "dist=0.0 at coordination 2466, 2536\n",
      "dist=0.0 at coordination 2467, 2562\n",
      "dist=0.0 at coordination 2468, 7499\n",
      "dist=0.0 at coordination 2469, 3794\n",
      "dist=0.0 at coordination 2470, 2525\n",
      "dist=0.0 at coordination 2471, 3796\n",
      "dist=0.0 at coordination 2472, 3776\n",
      "dist=0.0 at coordination 2473, 2478\n",
      "dist=0.0 at coordination 2474, 2479\n",
      "dist=0.0 at coordination 2475, 2480\n"
     ]
    },
    {
     "name": "stderr",
     "output_type": "stream",
     "text": [
      "  0%|          | 2496/584281 [01:24<3:24:33, 47.40it/s]"
     ]
    },
    {
     "name": "stdout",
     "output_type": "stream",
     "text": [
      "dist=0.0 at coordination 2476, 2481\n",
      "dist=0.0 at coordination 2477, 2482\n",
      "dist=0.0 at coordination 2478, 2483\n",
      "dist=0.0 at coordination 2479, 2493\n",
      "dist=0.0 at coordination 2480, 2494\n",
      "dist=0.0 at coordination 2481, 2495\n",
      "dist=0.0 at coordination 2482, 2496\n",
      "dist=0.0 at coordination 2483, 2574\n",
      "dist=0.0 at coordination 2484, 2583\n",
      "dist=0.0 at coordination 2485, 3033\n",
      "dist=0.0 at coordination 2486, 2626\n",
      "dist=0.0 at coordination 2487, 2507\n",
      "dist=0.0 at coordination 2488, 2508\n",
      "dist=0.0 at coordination 2489, 2509\n",
      "dist=0.0 at coordination 2490, 2535\n",
      "dist=0.0 at coordination 2491, 2663\n",
      "dist=0.0 at coordination 2492, 2586\n",
      "dist=0.0 at coordination 2493, 2575\n",
      "dist=0.0 at coordination 2494, 2576\n",
      "dist=0.0 at coordination 2495, 2572\n",
      "dist=0.0 at coordination 2496, 2573\n",
      "dist=0.0 at coordination 2497, 2903\n",
      "dist=0.0 at coordination 2498, 2904\n",
      "dist=0.0 at coordination 2499, 3537\n",
      "dist=0.0 at coordination 2500, 11388\n",
      "dist=0.0 at coordination 2501, 8982\n",
      "dist=0.0 at coordination 2502, 5480\n",
      "dist=0.0 at coordination 2503, 3603\n",
      "dist=0.0 at coordination 2504, 2565\n",
      "dist=0.0 at coordination 2505, 2623\n",
      "dist=0.0 at coordination 2506, 2511\n",
      "dist=0.0 at coordination 2507, 2512\n",
      "dist=0.0 at coordination 2508, 2513\n"
     ]
    },
    {
     "name": "stderr",
     "output_type": "stream",
     "text": [
      "  0%|          | 2515/584281 [01:24<3:10:17, 50.95it/s]"
     ]
    },
    {
     "name": "stdout",
     "output_type": "stream",
     "text": [
      "dist=0.0 at coordination 2509, 2534\n",
      "dist=0.0 at coordination 2510, 2569\n",
      "dist=0.0 at coordination 2511, 2624\n",
      "dist=0.0 at coordination 2512, 2532\n",
      "dist=0.0 at coordination 2513, 2533\n",
      "dist=0.0 at coordination 2514, 2553\n",
      "dist=0.0 at coordination 2515, 2554\n",
      "dist=0.0 at coordination 2516, 2555\n",
      "dist=0.0 at coordination 2517, 2616\n",
      "dist=0.0 at coordination 2518, 4549\n",
      "dist=0.0 at coordination 2519, 4142\n",
      "dist=0.0 at coordination 2520, 8234\n",
      "dist=0.0 at coordination 2521, 4253\n",
      "dist=0.0 at coordination 2522, 14276\n",
      "dist=0.0 at coordination 2523, 3538\n",
      "dist=0.0 at coordination 2524, 12436\n",
      "dist=0.0 at coordination 2525, 3795\n",
      "dist=0.0 at coordination 2526, 14562\n"
     ]
    },
    {
     "name": "stderr",
     "output_type": "stream",
     "text": [
      "  0%|          | 2541/584281 [01:26<5:41:41, 28.38it/s]"
     ]
    },
    {
     "name": "stdout",
     "output_type": "stream",
     "text": [
      "dist=0.0 at coordination 2527, 14563\n",
      "dist=0.0 at coordination 2528, 3504\n",
      "dist=0.0 at coordination 2529, 3505\n",
      "dist=0.0 at coordination 2530, 2545\n",
      "dist=0.0 at coordination 2531, 3445\n",
      "dist=0.0 at coordination 2532, 2646\n",
      "dist=0.0 at coordination 2533, 2558\n",
      "dist=0.0 at coordination 2534, 2537\n",
      "dist=0.0 at coordination 2535, 2560\n",
      "dist=0.0 at coordination 2536, 2552\n",
      "dist=0.0 at coordination 2537, 2559\n",
      "dist=0.0 at coordination 2538, 4300\n",
      "dist=0.0 at coordination 2539, 2598\n",
      "dist=0.0 at coordination 2540, 2599\n",
      "dist=0.0 at coordination 2541, 2600\n",
      "dist=0.0 at coordination 2542, 3552\n",
      "dist=0.0 at coordination 2543, 3549\n",
      "dist=0.0 at coordination 2544, 4627\n",
      "dist=0.0 at coordination 2545, 3565\n"
     ]
    },
    {
     "name": "stderr",
     "output_type": "stream",
     "text": [
      "  0%|          | 2578/584281 [01:26<2:31:03, 64.18it/s]"
     ]
    },
    {
     "name": "stdout",
     "output_type": "stream",
     "text": [
      "dist=0.0 at coordination 2546, 3566\n",
      "dist=0.0 at coordination 2547, 2742\n",
      "dist=0.0 at coordination 2548, 3027\n",
      "dist=0.0 at coordination 2549, 3028\n",
      "dist=0.0 at coordination 2550, 2632\n",
      "dist=0.0 at coordination 2551, 2633\n",
      "dist=0.0 at coordination 2552, 2561\n",
      "dist=0.0 at coordination 2553, 2613\n",
      "dist=0.0 at coordination 2554, 2614\n",
      "dist=0.0 at coordination 2555, 2603\n",
      "dist=0.0 at coordination 2556, 2604\n",
      "dist=0.0 at coordination 2557, 2584\n",
      "dist=0.0 at coordination 2558, 2710\n",
      "dist=0.0 at coordination 2559, 2568\n",
      "dist=0.0 at coordination 2560, 2611\n",
      "dist=0.0 at coordination 2561, 2567\n",
      "dist=0.0 at coordination 2562, 3134\n",
      "dist=0.0 at coordination 2563, 3632\n",
      "dist=0.0 at coordination 2564, 4342\n",
      "dist=0.0 at coordination 2565, 2622\n",
      "dist=0.0 at coordination 2566, 2844\n",
      "dist=0.0 at coordination 2567, 2612\n",
      "dist=0.0 at coordination 2568, 2610\n",
      "dist=0.0 at coordination 2569, 2655\n",
      "dist=0.0 at coordination 2570, 2741\n",
      "dist=0.0 at coordination 2571, 2736\n",
      "dist=0.0 at coordination 2572, 2589\n",
      "dist=0.0 at coordination 2573, 2590\n",
      "dist=0.0 at coordination 2574, 2593\n",
      "dist=0.0 at coordination 2575, 2587\n",
      "dist=0.0 at coordination 2576, 2588\n",
      "dist=0.0 at coordination 2577, 2618\n",
      "dist=0.0 at coordination 2578, 2619\n",
      "dist=0.0 at coordination 2579, 3121\n",
      "dist=0.0 at coordination 2580, 3169\n",
      "dist=0.0 at coordination 2581, 2979\n",
      "dist=0.0 at coordination 2582, 2704\n",
      "dist=0.0 at coordination 2583, 2806\n",
      "dist=0.0 at coordination 2584, 2699\n",
      "dist=0.0 at coordination 2585, 3041\n",
      "dist=0.0 at coordination 2586, 2664\n",
      "dist=0.0 at coordination 2587, 2594\n",
      "dist=0.0 at coordination 2588, 2617\n",
      "dist=0.0 at coordination 2589, 2652\n",
      "dist=0.0 at coordination 2590, 2683\n",
      "dist=0.0 at coordination 2591, 2684\n",
      "dist=0.0 at coordination 2592, 2685\n",
      "dist=0.0 at coordination 2593, 2716\n",
      "dist=0.0 at coordination 2594, 2665\n",
      "dist=0.0 at coordination 2595, 2642\n",
      "dist=0.0 at coordination 2596, 2643\n",
      "dist=0.0 at coordination 2597, 2744\n",
      "dist=0.0 at coordination 2598, 2745\n",
      "dist=0.0 at coordination 2599, 2893\n",
      "dist=0.0 at coordination 2600, 3623\n",
      "dist=0.0 at coordination 2601, 3953\n",
      "dist=0.0 at coordination 2602, 2998\n"
     ]
    },
    {
     "name": "stderr",
     "output_type": "stream",
     "text": [
      "  0%|          | 2617/584281 [01:26<1:34:04, 103.06it/s]"
     ]
    },
    {
     "name": "stdout",
     "output_type": "stream",
     "text": [
      "dist=0.0 at coordination 2603, 2615\n",
      "dist=0.0 at coordination 2604, 2698\n",
      "dist=0.0 at coordination 2605, 2822\n",
      "dist=0.0 at coordination 2606, 2823\n",
      "dist=0.0 at coordination 2607, 2675\n",
      "dist=0.0 at coordination 2608, 2825\n",
      "dist=0.0 at coordination 2609, 2691\n",
      "dist=0.0 at coordination 2610, 2635\n",
      "dist=0.0 at coordination 2611, 2636\n",
      "dist=0.0 at coordination 2612, 2634\n",
      "dist=0.0 at coordination 2613, 2638\n",
      "dist=0.0 at coordination 2614, 2639\n",
      "dist=0.0 at coordination 2615, 2640\n",
      "dist=0.0 at coordination 2616, 2641\n",
      "dist=0.0 at coordination 2617, 2666\n",
      "dist=0.0 at coordination 2618, 2667\n",
      "dist=0.0 at coordination 2619, 2815\n",
      "dist=0.0 at coordination 2620, 2816\n",
      "dist=0.0 at coordination 2621, 5200\n",
      "dist=0.0 at coordination 2622, 4343\n",
      "dist=0.0 at coordination 2623, 5135\n",
      "dist=0.0 at coordination 2624, 2645\n",
      "dist=0.0 at coordination 2625, 2734\n",
      "dist=0.0 at coordination 2626, 2883\n",
      "dist=0.0 at coordination 2627, 2891\n",
      "dist=0.0 at coordination 2628, 4755\n",
      "dist=0.0 at coordination 2629, 6414\n"
     ]
    },
    {
     "name": "stderr",
     "output_type": "stream",
     "text": [
      "  0%|          | 2660/584281 [01:27<1:45:04, 92.25it/s] "
     ]
    },
    {
     "name": "stdout",
     "output_type": "stream",
     "text": [
      "dist=0.0 at coordination 2630, 3896\n",
      "dist=0.0 at coordination 2631, 3545\n",
      "dist=0.0 at coordination 2632, 2856\n",
      "dist=0.0 at coordination 2633, 2662\n",
      "dist=0.0 at coordination 2634, 2637\n",
      "dist=0.0 at coordination 2635, 2711\n",
      "dist=0.0 at coordination 2636, 2712\n",
      "dist=0.0 at coordination 2637, 2775\n",
      "dist=0.0 at coordination 2638, 2692\n",
      "dist=0.0 at coordination 2639, 2693\n",
      "dist=0.0 at coordination 2640, 2694\n",
      "dist=0.0 at coordination 2641, 2668\n",
      "dist=0.0 at coordination 2642, 3020\n",
      "dist=0.0 at coordination 2643, 2661\n",
      "dist=0.0 at coordination 2644, 3527\n",
      "dist=0.0 at coordination 2645, 2733\n",
      "dist=0.0 at coordination 2646, 2884\n",
      "dist=0.0 at coordination 2647, 2700\n",
      "dist=0.0 at coordination 2648, 2701\n",
      "dist=0.0 at coordination 2649, 4456\n",
      "dist=0.0 at coordination 2650, 3076\n",
      "dist=0.0 at coordination 2651, 3077\n",
      "dist=0.0 at coordination 2652, 2722\n",
      "dist=0.0 at coordination 2653, 2723\n",
      "dist=0.0 at coordination 2654, 2739\n",
      "dist=0.0 at coordination 2655, 2732\n",
      "dist=0.0 at coordination 2656, 3528\n",
      "dist=0.0 at coordination 2657, 2953\n",
      "dist=0.0 at coordination 2658, 2954\n",
      "dist=0.0 at coordination 2659, 3087\n",
      "dist=0.0 at coordination 2660, 4676\n",
      "dist=0.0 at coordination 2661, 2743\n",
      "dist=0.0 at coordination 2662, 2755\n",
      "dist=0.0 at coordination 2663, 2713\n",
      "dist=0.0 at coordination 2664, 2785\n"
     ]
    },
    {
     "name": "stderr",
     "output_type": "stream",
     "text": [
      "  0%|          | 2672/584281 [01:27<2:16:01, 71.27it/s]"
     ]
    },
    {
     "name": "stdout",
     "output_type": "stream",
     "text": [
      "dist=0.0 at coordination 2665, 2705\n",
      "dist=0.0 at coordination 2666, 2669\n",
      "dist=0.0 at coordination 2667, 2697\n",
      "dist=0.0 at coordination 2668, 2695\n",
      "dist=0.0 at coordination 2669, 2696\n",
      "dist=0.0 at coordination 2670, 2840\n",
      "dist=0.0 at coordination 2671, 2937\n",
      "dist=0.0 at coordination 2672, 4572\n",
      "dist=0.0 at coordination 2673, 2676\n",
      "dist=0.0 at coordination 2674, 6916\n",
      "dist=0.0 at coordination 2675, 2746\n",
      "dist=0.0 at coordination 2676, 6915\n",
      "dist=0.0 at coordination 2677, 11290\n"
     ]
    },
    {
     "name": "stderr",
     "output_type": "stream",
     "text": [
      "  0%|          | 2690/584281 [01:28<3:58:43, 40.60it/s]"
     ]
    },
    {
     "name": "stdout",
     "output_type": "stream",
     "text": [
      "dist=0.0 at coordination 2678, 11270\n",
      "dist=0.0 at coordination 2679, 11271\n",
      "dist=0.0 at coordination 2680, 4224\n",
      "dist=0.0 at coordination 2681, 2894\n",
      "dist=0.0 at coordination 2682, 2895\n",
      "dist=0.0 at coordination 2683, 2789\n",
      "dist=0.0 at coordination 2684, 2686\n",
      "dist=0.0 at coordination 2685, 2715\n",
      "dist=0.0 at coordination 2686, 2790\n",
      "dist=0.0 at coordination 2687, 3324\n",
      "dist=0.0 at coordination 2688, 3900\n",
      "dist=0.0 at coordination 2689, 3901\n",
      "dist=0.0 at coordination 2690, 3902\n",
      "dist=0.0 at coordination 2691, 3185\n",
      "dist=0.0 at coordination 2692, 2776\n",
      "dist=0.0 at coordination 2693, 2777\n",
      "dist=0.0 at coordination 2694, 2778\n",
      "dist=0.0 at coordination 2695, 2720\n",
      "dist=0.0 at coordination 2696, 2706\n",
      "dist=0.0 at coordination 2697, 2707\n",
      "dist=0.0 at coordination 2698, 2708\n",
      "dist=0.0 at coordination 2699, 2709\n",
      "dist=0.0 at coordination 2700, 2983\n",
      "dist=0.0 at coordination 2701, 2763\n",
      "dist=0.0 at coordination 2702, 2764\n",
      "dist=0.0 at coordination 2703, 2765\n",
      "dist=0.0 at coordination 2704, 2980\n",
      "dist=0.0 at coordination 2705, 2717\n",
      "dist=0.0 at coordination 2706, 2718\n",
      "dist=0.0 at coordination 2707, 2719\n",
      "dist=0.0 at coordination 2708, 2779\n",
      "dist=0.0 at coordination 2709, 2780\n",
      "dist=0.0 at coordination 2710, 2730\n",
      "dist=0.0 at coordination 2711, 2731\n",
      "dist=0.0 at coordination 2712, 2774\n",
      "dist=0.0 at coordination 2713, 2784\n",
      "dist=0.0 at coordination 2714, 2799\n",
      "dist=0.0 at coordination 2715, 2791\n",
      "dist=0.0 at coordination 2716, 2805\n",
      "dist=0.0 at coordination 2717, 2786\n",
      "dist=0.0 at coordination 2718, 2721\n",
      "dist=0.0 at coordination 2719, 2919\n",
      "dist=0.0 at coordination 2720, 2917\n",
      "dist=0.0 at coordination 2721, 2787\n",
      "dist=0.0 at coordination 2722, 2737\n",
      "dist=0.0 at coordination 2723, 2738\n",
      "dist=0.0 at coordination 2724, 2914\n",
      "dist=0.0 at coordination 2725, 6001\n"
     ]
    },
    {
     "name": "stderr",
     "output_type": "stream",
     "text": [
      "  0%|          | 2721/584281 [01:28<2:12:39, 73.06it/s]"
     ]
    },
    {
     "name": "stdout",
     "output_type": "stream",
     "text": [
      "dist=0.0 at coordination 2726, 3726\n",
      "dist=0.0 at coordination 2727, 3727\n",
      "dist=0.0 at coordination 2728, 8790\n"
     ]
    },
    {
     "name": "stderr",
     "output_type": "stream",
     "text": [
      "  0%|          | 2743/584281 [01:29<2:44:11, 59.03it/s]"
     ]
    },
    {
     "name": "stdout",
     "output_type": "stream",
     "text": [
      "dist=0.0 at coordination 2729, 9409\n",
      "dist=0.0 at coordination 2730, 2781\n",
      "dist=0.0 at coordination 2731, 2782\n",
      "dist=0.0 at coordination 2732, 2740\n",
      "dist=0.0 at coordination 2733, 2888\n",
      "dist=0.0 at coordination 2734, 2889\n",
      "dist=0.0 at coordination 2735, 2966\n",
      "dist=0.0 at coordination 2736, 3211\n",
      "dist=0.0 at coordination 2737, 2788\n",
      "dist=0.0 at coordination 2738, 2772\n",
      "dist=0.0 at coordination 2739, 2773\n",
      "dist=0.0 at coordination 2740, 2887\n",
      "dist=0.0 at coordination 2741, 3240\n",
      "dist=0.0 at coordination 2742, 2967\n",
      "dist=0.0 at coordination 2743, 3374\n",
      "dist=0.0 at coordination 2744, 3181\n",
      "dist=0.0 at coordination 2745, 3182\n",
      "dist=0.0 at coordination 2746, 2824\n",
      "dist=0.0 at coordination 2747, 5763\n",
      "dist=0.0 at coordination 2748, 5764\n",
      "dist=0.0 at coordination 2749, 5579\n",
      "dist=0.0 at coordination 2750, 8660\n",
      "dist=0.0 at coordination 2751, 8643\n",
      "dist=0.0 at coordination 2752, 3697\n",
      "dist=0.0 at coordination 2753, 2996\n",
      "dist=0.0 at coordination 2754, 3399\n",
      "dist=0.0 at coordination 2755, 2857\n"
     ]
    },
    {
     "name": "stderr",
     "output_type": "stream",
     "text": [
      "  0%|          | 2752/584281 [01:29<4:01:20, 40.16it/s]"
     ]
    },
    {
     "name": "stdout",
     "output_type": "stream",
     "text": [
      "dist=0.0 at coordination 2756, 3770\n",
      "dist=0.0 at coordination 2757, 3771\n",
      "dist=0.0 at coordination 2758, 4534\n"
     ]
    },
    {
     "name": "stderr",
     "output_type": "stream",
     "text": [
      "  0%|          | 2765/584281 [01:30<5:21:00, 30.19it/s]"
     ]
    },
    {
     "name": "stdout",
     "output_type": "stream",
     "text": [
      "dist=0.0 at coordination 2759, 8981\n",
      "dist=0.0 at coordination 2760, 11226\n",
      "dist=0.0 at coordination 2761, 3153\n",
      "dist=0.0 at coordination 2762, 3154\n",
      "dist=0.0 at coordination 2763, 4193\n",
      "dist=0.0 at coordination 2764, 3172\n",
      "dist=0.0 at coordination 2765, 3367\n",
      "dist=0.0 at coordination 2766, 4743\n",
      "dist=0.0 at coordination 2767, 4260\n",
      "dist=0.0 at coordination 2768, 4842\n",
      "dist=0.0 at coordination 2769, 4907\n",
      "dist=0.0 at coordination 2770, 2813\n",
      "dist=0.0 at coordination 2771, 2988\n",
      "dist=0.0 at coordination 2772, 2913\n",
      "dist=0.0 at coordination 2773, 2796\n",
      "dist=0.0 at coordination 2774, 2783\n",
      "dist=0.0 at coordination 2775, 2845\n",
      "dist=0.0 at coordination 2776, 2854\n",
      "dist=0.0 at coordination 2777, 2915\n",
      "dist=0.0 at coordination 2778, 2814\n",
      "dist=0.0 at coordination 2779, 3032\n",
      "dist=0.0 at coordination 2780, 2807\n",
      "dist=0.0 at coordination 2781, 2808\n",
      "dist=0.0 at coordination 2782, 2846\n",
      "dist=0.0 at coordination 2783, 2797\n",
      "dist=0.0 at coordination 2784, 2798\n",
      "dist=0.0 at coordination 2785, 2837\n",
      "dist=0.0 at coordination 2786, 2838\n",
      "dist=0.0 at coordination 2787, 2839\n",
      "dist=0.0 at coordination 2788, 2864\n",
      "dist=0.0 at coordination 2789, 2865\n",
      "dist=0.0 at coordination 2790, 2792\n",
      "dist=0.0 at coordination 2791, 2793\n",
      "dist=0.0 at coordination 2792, 2794\n",
      "dist=0.0 at coordination 2793, 2800\n",
      "dist=0.0 at coordination 2794, 2801\n",
      "dist=0.0 at coordination 2795, 2828\n",
      "dist=0.0 at coordination 2796, 2829\n",
      "dist=0.0 at coordination 2797, 2830\n",
      "dist=0.0 at coordination 2798, 2831\n",
      "dist=0.0 at coordination 2799, 2827\n",
      "dist=0.0 at coordination 2800, 2802\n",
      "dist=0.0 at coordination 2801, 2803\n",
      "dist=0.0 at coordination 2802, 2804\n",
      "dist=0.0 at coordination 2803, 2866\n",
      "dist=0.0 at coordination 2804, 2860\n",
      "dist=0.0 at coordination 2805, 2820\n",
      "dist=0.0 at coordination 2806, 2821\n",
      "dist=0.0 at coordination 2807, 2982\n",
      "dist=0.0 at coordination 2808, 2885\n",
      "dist=0.0 at coordination 2809, 3186\n",
      "dist=0.0 at coordination 2810, 5671\n"
     ]
    },
    {
     "name": "stderr",
     "output_type": "stream",
     "text": [
      "  0%|          | 2819/584281 [01:30<2:15:50, 71.34it/s]"
     ]
    },
    {
     "name": "stdout",
     "output_type": "stream",
     "text": [
      "dist=0.0 at coordination 2811, 2970\n",
      "dist=0.0 at coordination 2812, 3692\n",
      "dist=0.0 at coordination 2813, 4908\n",
      "dist=0.0 at coordination 2814, 2916\n",
      "dist=0.0 at coordination 2815, 3167\n",
      "dist=0.0 at coordination 2816, 4128\n",
      "dist=0.0 at coordination 2817, 4129\n",
      "dist=0.0 at coordination 2818, 3627\n",
      "dist=0.0 at coordination 2819, 3628\n",
      "dist=0.0 at coordination 2820, 2861\n",
      "dist=0.0 at coordination 2821, 2981\n",
      "dist=0.0 at coordination 2822, 3288\n",
      "dist=0.0 at coordination 2823, 2892\n",
      "dist=0.0 at coordination 2824, 3183\n",
      "dist=0.0 at coordination 2825, 3184\n",
      "dist=0.0 at coordination 2826, 3532\n",
      "dist=0.0 at coordination 2827, 2832\n",
      "dist=0.0 at coordination 2828, 2833\n",
      "dist=0.0 at coordination 2829, 2834\n",
      "dist=0.0 at coordination 2830, 2835\n",
      "dist=0.0 at coordination 2831, 2836\n",
      "dist=0.0 at coordination 2832, 2849\n",
      "dist=0.0 at coordination 2833, 2850\n",
      "dist=0.0 at coordination 2834, 2851\n",
      "dist=0.0 at coordination 2835, 2847\n",
      "dist=0.0 at coordination 2836, 2848\n",
      "dist=0.0 at coordination 2837, 3207\n",
      "dist=0.0 at coordination 2838, 2862\n",
      "dist=0.0 at coordination 2839, 2863\n",
      "dist=0.0 at coordination 2840, 3599\n",
      "dist=0.0 at coordination 2841, 3160\n"
     ]
    },
    {
     "name": "stderr",
     "output_type": "stream",
     "text": [
      "  0%|          | 2876/584281 [01:31<1:11:52, 134.83it/s]"
     ]
    },
    {
     "name": "stdout",
     "output_type": "stream",
     "text": [
      "dist=0.0 at coordination 2842, 3273\n",
      "dist=0.0 at coordination 2843, 3274\n",
      "dist=0.0 at coordination 2844, 3275\n",
      "dist=0.0 at coordination 2845, 2853\n",
      "dist=0.0 at coordination 2846, 2886\n",
      "dist=0.0 at coordination 2847, 2852\n",
      "dist=0.0 at coordination 2848, 2858\n",
      "dist=0.0 at coordination 2849, 2859\n",
      "dist=0.0 at coordination 2850, 2874\n",
      "dist=0.0 at coordination 2851, 2875\n",
      "dist=0.0 at coordination 2852, 2876\n",
      "dist=0.0 at coordination 2853, 2973\n",
      "dist=0.0 at coordination 2854, 2974\n",
      "dist=0.0 at coordination 2855, 2975\n",
      "dist=0.0 at coordination 2856, 3131\n",
      "dist=0.0 at coordination 2857, 3132\n",
      "dist=0.0 at coordination 2858, 2877\n",
      "dist=0.0 at coordination 2859, 2930\n",
      "dist=0.0 at coordination 2860, 2867\n",
      "dist=0.0 at coordination 2861, 2868\n",
      "dist=0.0 at coordination 2862, 2869\n",
      "dist=0.0 at coordination 2863, 2870\n",
      "dist=0.0 at coordination 2864, 2871\n",
      "dist=0.0 at coordination 2865, 2872\n",
      "dist=0.0 at coordination 2866, 2873\n",
      "dist=0.0 at coordination 2867, 2898\n",
      "dist=0.0 at coordination 2868, 2909\n",
      "dist=0.0 at coordination 2869, 2910\n",
      "dist=0.0 at coordination 2870, 2911\n",
      "dist=0.0 at coordination 2871, 2912\n",
      "dist=0.0 at coordination 2872, 2896\n",
      "dist=0.0 at coordination 2873, 2897\n",
      "dist=0.0 at coordination 2874, 3006\n",
      "dist=0.0 at coordination 2875, 2927\n",
      "dist=0.0 at coordination 2876, 2928\n",
      "dist=0.0 at coordination 2877, 2929\n",
      "dist=0.0 at coordination 2878, 3435\n",
      "dist=0.0 at coordination 2879, 3436\n",
      "dist=0.0 at coordination 2880, 4417\n",
      "dist=0.0 at coordination 2881, 3440\n",
      "dist=0.0 at coordination 2882, 3804\n",
      "dist=0.0 at coordination 2883, 2890\n",
      "dist=0.0 at coordination 2884, 3221\n",
      "dist=0.0 at coordination 2885, 3059\n",
      "dist=0.0 at coordination 2886, 3093\n",
      "dist=0.0 at coordination 2887, 3239\n",
      "dist=0.0 at coordination 2888, 2964\n",
      "dist=0.0 at coordination 2889, 2965\n",
      "dist=0.0 at coordination 2890, 3218\n"
     ]
    },
    {
     "name": "stderr",
     "output_type": "stream",
     "text": [
      "  0%|          | 2920/584281 [01:31<1:03:48, 151.85it/s]"
     ]
    },
    {
     "name": "stdout",
     "output_type": "stream",
     "text": [
      "dist=0.0 at coordination 2891, 4754\n",
      "dist=0.0 at coordination 2892, 3289\n",
      "dist=0.0 at coordination 2893, 4477\n",
      "dist=0.0 at coordination 2894, 2906\n",
      "dist=0.0 at coordination 2895, 2907\n",
      "dist=0.0 at coordination 2896, 2908\n",
      "dist=0.0 at coordination 2897, 2899\n",
      "dist=0.0 at coordination 2898, 2900\n",
      "dist=0.0 at coordination 2899, 2901\n",
      "dist=0.0 at coordination 2900, 2902\n",
      "dist=0.0 at coordination 2901, 3001\n",
      "dist=0.0 at coordination 2902, 2931\n",
      "dist=0.0 at coordination 2903, 3271\n",
      "dist=0.0 at coordination 2904, 3536\n",
      "dist=0.0 at coordination 2905, 2938\n",
      "dist=0.0 at coordination 2906, 3654\n",
      "dist=0.0 at coordination 2907, 3655\n",
      "dist=0.0 at coordination 2908, 3000\n",
      "dist=0.0 at coordination 2909, 3203\n",
      "dist=0.0 at coordination 2910, 3265\n",
      "dist=0.0 at coordination 2911, 2918\n",
      "dist=0.0 at coordination 2912, 2925\n",
      "dist=0.0 at coordination 2913, 2926\n",
      "dist=0.0 at coordination 2914, 2990\n",
      "dist=0.0 at coordination 2915, 2946\n",
      "dist=0.0 at coordination 2916, 3018\n",
      "dist=0.0 at coordination 2917, 2920\n",
      "dist=0.0 at coordination 2918, 2921\n",
      "dist=0.0 at coordination 2919, 2922\n",
      "dist=0.0 at coordination 2920, 2923\n",
      "dist=0.0 at coordination 2921, 2924\n",
      "dist=0.0 at coordination 2922, 3078\n",
      "dist=0.0 at coordination 2923, 3019\n",
      "dist=0.0 at coordination 2924, 3200\n",
      "dist=0.0 at coordination 2925, 3201\n",
      "dist=0.0 at coordination 2926, 2989\n",
      "dist=0.0 at coordination 2927, 3007\n",
      "dist=0.0 at coordination 2928, 3008\n",
      "dist=0.0 at coordination 2929, 3048\n",
      "dist=0.0 at coordination 2930, 3042\n",
      "dist=0.0 at coordination 2931, 3002\n",
      "dist=0.0 at coordination 2932, 3306\n",
      "dist=0.0 at coordination 2933, 3307\n",
      "dist=0.0 at coordination 2934, 3308\n",
      "dist=0.0 at coordination 2935, 3309\n",
      "dist=0.0 at coordination 2936, 4570\n",
      "dist=0.0 at coordination 2937, 3600\n",
      "dist=0.0 at coordination 2938, 3622\n",
      "dist=0.0 at coordination 2939, 5802\n",
      "dist=0.0 at coordination 2940, 10492\n",
      "dist=0.0 at coordination 2941, 11487\n"
     ]
    },
    {
     "name": "stderr",
     "output_type": "stream",
     "text": [
      "  1%|          | 2939/584281 [01:32<2:31:23, 64.00it/s] "
     ]
    },
    {
     "name": "stdout",
     "output_type": "stream",
     "text": [
      "dist=0.0 at coordination 2942, 9720\n",
      "dist=0.0 at coordination 2943, 3908\n",
      "dist=0.0 at coordination 2944, 3760\n",
      "dist=0.0 at coordination 2945, 3910\n",
      "dist=0.0 at coordination 2946, 2991\n",
      "dist=0.0 at coordination 2947, 3395\n",
      "dist=0.0 at coordination 2948, 6821\n",
      "dist=0.0 at coordination 2949, 4745\n"
     ]
    },
    {
     "name": "stderr",
     "output_type": "stream",
     "text": [
      "  1%|          | 2953/584281 [01:32<3:14:51, 49.72it/s]"
     ]
    },
    {
     "name": "stdout",
     "output_type": "stream",
     "text": [
      "dist=0.0 at coordination 2950, 8782\n",
      "dist=0.0 at coordination 2951, 4638\n",
      "dist=0.0 at coordination 2952, 3034\n",
      "dist=0.0 at coordination 2953, 3786\n",
      "dist=0.0 at coordination 2954, 3122\n",
      "dist=0.0 at coordination 2955, 3123\n",
      "dist=0.0 at coordination 2956, 3441\n",
      "dist=0.0 at coordination 2957, 5656\n",
      "dist=0.0 at coordination 2958, 13167\n",
      "dist=0.0 at coordination 2959, 26732\n"
     ]
    },
    {
     "name": "stderr",
     "output_type": "stream",
     "text": [
      "  1%|          | 2976/584281 [01:33<4:56:47, 32.64it/s]"
     ]
    },
    {
     "name": "stdout",
     "output_type": "stream",
     "text": [
      "dist=0.0 at coordination 2960, 14590\n",
      "dist=0.0 at coordination 2961, 3942\n",
      "dist=0.0 at coordination 2962, 2971\n",
      "dist=0.0 at coordination 2963, 4844\n",
      "dist=0.0 at coordination 2964, 3318\n",
      "dist=0.0 at coordination 2965, 3219\n",
      "dist=0.0 at coordination 2966, 3210\n",
      "dist=0.0 at coordination 2967, 3373\n",
      "dist=0.0 at coordination 2968, 3021\n",
      "dist=0.0 at coordination 2969, 3022\n",
      "dist=0.0 at coordination 2970, 3691\n",
      "dist=0.0 at coordination 2971, 3943\n",
      "dist=0.0 at coordination 2972, 3944\n",
      "dist=0.0 at coordination 2973, 3009\n",
      "dist=0.0 at coordination 2974, 3010\n",
      "dist=0.0 at coordination 2975, 3011\n",
      "dist=0.0 at coordination 2976, 3069\n",
      "dist=0.0 at coordination 2977, 3070\n",
      "dist=0.0 at coordination 2978, 3142\n",
      "dist=0.0 at coordination 2979, 3301\n",
      "dist=0.0 at coordination 2980, 3478\n",
      "dist=0.0 at coordination 2981, 3057\n",
      "dist=0.0 at coordination 2982, 3040\n",
      "dist=0.0 at coordination 2983, 4532\n",
      "dist=0.0 at coordination 2984, 3155\n"
     ]
    },
    {
     "name": "stderr",
     "output_type": "stream",
     "text": [
      "  1%|          | 2989/584281 [01:34<4:15:15, 37.96it/s]"
     ]
    },
    {
     "name": "stdout",
     "output_type": "stream",
     "text": [
      "dist=0.0 at coordination 2985, 3156\n",
      "dist=0.0 at coordination 2986, 3157\n",
      "dist=0.0 at coordination 2987, 3158\n",
      "dist=0.0 at coordination 2988, 2992\n",
      "dist=0.0 at coordination 2989, 3015\n",
      "dist=0.0 at coordination 2990, 3016\n",
      "dist=0.0 at coordination 2991, 3017\n",
      "dist=0.0 at coordination 2992, 2999\n",
      "dist=0.0 at coordination 2993, 8485\n",
      "dist=0.0 at coordination 2994, 7737\n"
     ]
    },
    {
     "name": "stderr",
     "output_type": "stream",
     "text": [
      "  1%|          | 3019/584281 [01:34<2:47:50, 57.72it/s]"
     ]
    },
    {
     "name": "stdout",
     "output_type": "stream",
     "text": [
      "dist=0.0 at coordination 2995, 4694\n",
      "dist=0.0 at coordination 2996, 4695\n",
      "dist=0.0 at coordination 2997, 3190\n",
      "dist=0.0 at coordination 2998, 3013\n",
      "dist=0.0 at coordination 2999, 3014\n",
      "dist=0.0 at coordination 3000, 3107\n",
      "dist=0.0 at coordination 3001, 3003\n",
      "dist=0.0 at coordination 3002, 3004\n",
      "dist=0.0 at coordination 3003, 3005\n",
      "dist=0.0 at coordination 3004, 3043\n",
      "dist=0.0 at coordination 3005, 3044\n",
      "dist=0.0 at coordination 3006, 3045\n",
      "dist=0.0 at coordination 3007, 3046\n",
      "dist=0.0 at coordination 3008, 3047\n",
      "dist=0.0 at coordination 3009, 3112\n",
      "dist=0.0 at coordination 3010, 3060\n",
      "dist=0.0 at coordination 3011, 3061\n",
      "dist=0.0 at coordination 3012, 3029\n",
      "dist=0.0 at coordination 3013, 3030\n",
      "dist=0.0 at coordination 3014, 3106\n",
      "dist=0.0 at coordination 3015, 3177\n",
      "dist=0.0 at coordination 3016, 3104\n",
      "dist=0.0 at coordination 3017, 3105\n",
      "dist=0.0 at coordination 3018, 3031\n",
      "dist=0.0 at coordination 3019, 3065\n",
      "dist=0.0 at coordination 3020, 3026\n",
      "dist=0.0 at coordination 3021, 3689\n",
      "dist=0.0 at coordination 3022, 3690\n",
      "dist=0.0 at coordination 3023, 5203\n",
      "dist=0.0 at coordination 3024, 3808\n",
      "dist=0.0 at coordination 3025, 4372\n",
      "dist=0.0 at coordination 3026, 3066\n",
      "dist=0.0 at coordination 3027, 3067\n",
      "dist=0.0 at coordination 3028, 3068\n",
      "dist=0.0 at coordination 3029, 3062\n",
      "dist=0.0 at coordination 3030, 3063\n",
      "dist=0.0 at coordination 3031, 3064\n",
      "dist=0.0 at coordination 3032, 3039\n",
      "dist=0.0 at coordination 3033, 3209\n",
      "dist=0.0 at coordination 3034, 3584\n",
      "dist=0.0 at coordination 3035, 3529\n",
      "dist=0.0 at coordination 3036, 3586\n"
     ]
    },
    {
     "name": "stderr",
     "output_type": "stream",
     "text": [
      "  1%|          | 3049/584281 [01:34<1:59:24, 81.13it/s]"
     ]
    },
    {
     "name": "stdout",
     "output_type": "stream",
     "text": [
      "dist=0.0 at coordination 3037, 3745\n",
      "dist=0.0 at coordination 3038, 3746\n",
      "dist=0.0 at coordination 3039, 3079\n",
      "dist=0.0 at coordination 3040, 3058\n",
      "dist=0.0 at coordination 3041, 3206\n",
      "dist=0.0 at coordination 3042, 3049\n",
      "dist=0.0 at coordination 3043, 3097\n",
      "dist=0.0 at coordination 3044, 3098\n",
      "dist=0.0 at coordination 3045, 3050\n",
      "dist=0.0 at coordination 3046, 3051\n",
      "dist=0.0 at coordination 3047, 3094\n",
      "dist=0.0 at coordination 3048, 3095\n",
      "dist=0.0 at coordination 3049, 3096\n",
      "dist=0.0 at coordination 3050, 3103\n",
      "dist=0.0 at coordination 3051, 3110\n",
      "dist=0.0 at coordination 3052, 3799\n",
      "dist=0.0 at coordination 3053, 5488\n",
      "dist=0.0 at coordination 3054, 5489\n",
      "dist=0.0 at coordination 3055, 5490\n",
      "dist=0.0 at coordination 3056, 3119\n",
      "dist=0.0 at coordination 3057, 3204\n",
      "dist=0.0 at coordination 3058, 3080\n",
      "dist=0.0 at coordination 3059, 3081\n",
      "dist=0.0 at coordination 3060, 3082\n",
      "dist=0.0 at coordination 3061, 3083\n",
      "dist=0.0 at coordination 3062, 3192\n",
      "dist=0.0 at coordination 3063, 3197\n",
      "dist=0.0 at coordination 3064, 3166\n",
      "dist=0.0 at coordination 3065, 3199\n",
      "dist=0.0 at coordination 3066, 3227\n"
     ]
    },
    {
     "name": "stderr",
     "output_type": "stream",
     "text": [
      "  1%|          | 3062/584281 [01:34<1:56:32, 83.12it/s]"
     ]
    },
    {
     "name": "stdout",
     "output_type": "stream",
     "text": [
      "dist=0.0 at coordination 3067, 3228\n",
      "dist=0.0 at coordination 3068, 3191\n",
      "dist=0.0 at coordination 3069, 3084\n",
      "dist=0.0 at coordination 3070, 3085\n",
      "dist=0.0 at coordination 3071, 3136\n",
      "dist=0.0 at coordination 3072, 16057\n"
     ]
    },
    {
     "name": "stderr",
     "output_type": "stream",
     "text": [
      "  1%|          | 3111/584281 [01:35<2:04:11, 77.99it/s]"
     ]
    },
    {
     "name": "stdout",
     "output_type": "stream",
     "text": [
      "dist=0.0 at coordination 3073, 15076\n",
      "dist=0.0 at coordination 3074, 4251\n",
      "dist=0.0 at coordination 3075, 3635\n",
      "dist=0.0 at coordination 3076, 3636\n",
      "dist=0.0 at coordination 3077, 3088\n",
      "dist=0.0 at coordination 3078, 3089\n",
      "dist=0.0 at coordination 3079, 3090\n",
      "dist=0.0 at coordination 3080, 3091\n",
      "dist=0.0 at coordination 3081, 3092\n",
      "dist=0.0 at coordination 3082, 3113\n",
      "dist=0.0 at coordination 3083, 3130\n",
      "dist=0.0 at coordination 3084, 3298\n",
      "dist=0.0 at coordination 3085, 3299\n",
      "dist=0.0 at coordination 3086, 3459\n",
      "dist=0.0 at coordination 3087, 3460\n",
      "dist=0.0 at coordination 3088, 3461\n",
      "dist=0.0 at coordination 3089, 3212\n",
      "dist=0.0 at coordination 3090, 3216\n",
      "dist=0.0 at coordination 3091, 3205\n",
      "dist=0.0 at coordination 3092, 3125\n",
      "dist=0.0 at coordination 3093, 3126\n",
      "dist=0.0 at coordination 3094, 3111\n",
      "dist=0.0 at coordination 3095, 3276\n",
      "dist=0.0 at coordination 3096, 3262\n",
      "dist=0.0 at coordination 3097, 3099\n",
      "dist=0.0 at coordination 3098, 3100\n",
      "dist=0.0 at coordination 3099, 3101\n",
      "dist=0.0 at coordination 3100, 3102\n",
      "dist=0.0 at coordination 3101, 3263\n",
      "dist=0.0 at coordination 3102, 3108\n",
      "dist=0.0 at coordination 3103, 3109\n",
      "dist=0.0 at coordination 3104, 3164\n",
      "dist=0.0 at coordination 3105, 3165\n",
      "dist=0.0 at coordination 3106, 3176\n",
      "dist=0.0 at coordination 3107, 3202\n",
      "dist=0.0 at coordination 3108, 3252\n",
      "dist=0.0 at coordination 3109, 3253\n",
      "dist=0.0 at coordination 3110, 3355\n",
      "dist=0.0 at coordination 3111, 3127\n",
      "dist=0.0 at coordination 3112, 3128\n",
      "dist=0.0 at coordination 3113, 3129\n",
      "dist=0.0 at coordination 3114, 3704\n",
      "dist=0.0 at coordination 3115, 5442\n",
      "dist=0.0 at coordination 3116, 22356\n",
      "dist=0.0 at coordination 3117, 17778\n"
     ]
    },
    {
     "name": "stderr",
     "output_type": "stream",
     "text": [
      "  1%|          | 3125/584281 [01:36<4:52:12, 33.15it/s]"
     ]
    },
    {
     "name": "stdout",
     "output_type": "stream",
     "text": [
      "dist=0.0 at coordination 3118, 16721\n",
      "dist=0.0 at coordination 3119, 4599\n",
      "dist=0.0 at coordination 3120, 4614\n",
      "dist=0.0 at coordination 3121, 3168\n",
      "dist=0.0 at coordination 3122, 3730\n",
      "dist=0.0 at coordination 3123, 3557\n",
      "dist=0.0 at coordination 3124, 3558\n",
      "dist=0.0 at coordination 3125, 3222\n",
      "dist=0.0 at coordination 3126, 3293\n",
      "dist=0.0 at coordination 3127, 3294\n",
      "dist=0.0 at coordination 3128, 3133\n",
      "dist=0.0 at coordination 3129, 3223\n",
      "dist=0.0 at coordination 3130, 3179\n",
      "dist=0.0 at coordination 3131, 3180\n",
      "dist=0.0 at coordination 3132, 3400\n",
      "dist=0.0 at coordination 3133, 3295\n",
      "dist=0.0 at coordination 3134, 3457\n",
      "dist=0.0 at coordination 3135, 3141\n",
      "dist=0.0 at coordination 3136, 3925\n"
     ]
    },
    {
     "name": "stderr",
     "output_type": "stream",
     "text": [
      "  1%|          | 3135/584281 [01:37<5:27:47, 29.55it/s]"
     ]
    },
    {
     "name": "stdout",
     "output_type": "stream",
     "text": [
      "dist=0.0 at coordination 3137, 15031\n",
      "dist=0.0 at coordination 3138, 8977\n",
      "dist=0.0 at coordination 3139, 5725\n",
      "dist=0.0 at coordination 3140, 4332\n",
      "dist=0.0 at coordination 3141, 3458\n",
      "dist=0.0 at coordination 3142, 3300\n",
      "dist=0.0 at coordination 3143, 3170\n",
      "dist=0.0 at coordination 3144, 6502\n",
      "dist=0.0 at coordination 3145, 3931\n",
      "dist=0.0 at coordination 3146, 157695\n"
     ]
    },
    {
     "name": "stderr",
     "output_type": "stream",
     "text": [
      "  1%|          | 3143/584281 [01:42<24:35:30,  6.56it/s]"
     ]
    },
    {
     "name": "stdout",
     "output_type": "stream",
     "text": [
      "dist=0.0 at coordination 3147, 99316\n",
      "dist=0.0 at coordination 3148, 37890\n",
      "dist=0.0 at coordination 3149, 20625\n",
      "dist=0.0 at coordination 3150, 17282\n"
     ]
    },
    {
     "name": "stderr",
     "output_type": "stream",
     "text": [
      "  1%|          | 3149/584281 [01:45<30:12:28,  5.34it/s]"
     ]
    },
    {
     "name": "stdout",
     "output_type": "stream",
     "text": [
      "dist=0.0 at coordination 3151, 21021\n",
      "dist=0.0 at coordination 3152, 15359\n",
      "dist=0.0 at coordination 3153, 3506\n",
      "dist=0.0 at coordination 3154, 3929\n",
      "dist=0.0 at coordination 3155, 3930\n",
      "dist=0.0 at coordination 3156, 5249\n",
      "dist=0.0 at coordination 3157, 3707\n"
     ]
    },
    {
     "name": "stderr",
     "output_type": "stream",
     "text": [
      "  1%|          | 3166/584281 [01:45<16:21:56,  9.86it/s]"
     ]
    },
    {
     "name": "stdout",
     "output_type": "stream",
     "text": [
      "dist=0.0 at coordination 3158, 3897\n",
      "dist=0.0 at coordination 3159, 3893\n",
      "dist=0.0 at coordination 3160, 3894\n",
      "dist=0.0 at coordination 3161, 4166\n",
      "dist=0.0 at coordination 3162, 4167\n",
      "dist=0.0 at coordination 3163, 3873\n",
      "dist=0.0 at coordination 3164, 3178\n",
      "dist=0.0 at coordination 3165, 3175\n",
      "dist=0.0 at coordination 3166, 3198\n",
      "dist=0.0 at coordination 3167, 3503\n",
      "dist=0.0 at coordination 3168, 3380\n",
      "dist=0.0 at coordination 3169, 3381\n",
      "dist=0.0 at coordination 3170, 6501\n",
      "dist=0.0 at coordination 3171, 3235\n",
      "dist=0.0 at coordination 3172, 3236\n",
      "dist=0.0 at coordination 3173, 3237\n",
      "dist=0.0 at coordination 3174, 3328\n",
      "dist=0.0 at coordination 3175, 3224\n",
      "dist=0.0 at coordination 3176, 3250\n",
      "dist=0.0 at coordination 3177, 3354\n",
      "dist=0.0 at coordination 3178, 3254\n",
      "dist=0.0 at coordination 3179, 3297\n",
      "dist=0.0 at coordination 3180, 3432\n",
      "dist=0.0 at coordination 3181, 3375\n",
      "dist=0.0 at coordination 3182, 4476\n",
      "dist=0.0 at coordination 3183, 3290\n",
      "dist=0.0 at coordination 3184, 3291\n",
      "dist=0.0 at coordination 3185, 3292\n",
      "dist=0.0 at coordination 3186, 5422\n"
     ]
    },
    {
     "name": "stderr",
     "output_type": "stream",
     "text": [
      "  1%|          | 3182/584281 [01:45<9:22:09, 17.23it/s] "
     ]
    },
    {
     "name": "stdout",
     "output_type": "stream",
     "text": [
      "dist=0.0 at coordination 3187, 5558\n",
      "dist=0.0 at coordination 3188, 4568\n",
      "dist=0.0 at coordination 3189, 11070\n",
      "dist=0.0 at coordination 3190, 4401\n",
      "dist=0.0 at coordination 3191, 3193\n",
      "dist=0.0 at coordination 3192, 3194\n",
      "dist=0.0 at coordination 3193, 3195\n",
      "dist=0.0 at coordination 3194, 3196\n"
     ]
    },
    {
     "name": "stderr",
     "output_type": "stream",
     "text": [
      "  1%|          | 3228/584281 [01:46<3:42:02, 43.61it/s]"
     ]
    },
    {
     "name": "stdout",
     "output_type": "stream",
     "text": [
      "dist=0.0 at coordination 3195, 3229\n",
      "dist=0.0 at coordination 3196, 3230\n",
      "dist=0.0 at coordination 3197, 3394\n",
      "dist=0.0 at coordination 3198, 3225\n",
      "dist=0.0 at coordination 3199, 3213\n",
      "dist=0.0 at coordination 3200, 3214\n",
      "dist=0.0 at coordination 3201, 3267\n",
      "dist=0.0 at coordination 3202, 3251\n",
      "dist=0.0 at coordination 3203, 3264\n",
      "dist=0.0 at coordination 3204, 3208\n",
      "dist=0.0 at coordination 3205, 3349\n",
      "dist=0.0 at coordination 3206, 3261\n",
      "dist=0.0 at coordination 3207, 3448\n",
      "dist=0.0 at coordination 3208, 3287\n",
      "dist=0.0 at coordination 3209, 3217\n",
      "dist=0.0 at coordination 3210, 3342\n",
      "dist=0.0 at coordination 3211, 3241\n",
      "dist=0.0 at coordination 3212, 3215\n",
      "dist=0.0 at coordination 3213, 3226\n",
      "dist=0.0 at coordination 3214, 3266\n",
      "dist=0.0 at coordination 3215, 3242\n",
      "dist=0.0 at coordination 3216, 3243\n",
      "dist=0.0 at coordination 3217, 3244\n",
      "dist=0.0 at coordination 3218, 3220\n",
      "dist=0.0 at coordination 3219, 3319\n",
      "dist=0.0 at coordination 3220, 3245\n",
      "dist=0.0 at coordination 3221, 3246\n",
      "dist=0.0 at coordination 3222, 3247\n",
      "dist=0.0 at coordination 3223, 3248\n",
      "dist=0.0 at coordination 3224, 3249\n",
      "dist=0.0 at coordination 3225, 3256\n",
      "dist=0.0 at coordination 3226, 3345\n",
      "dist=0.0 at coordination 3227, 3392\n",
      "dist=0.0 at coordination 3228, 3393\n",
      "dist=0.0 at coordination 3229, 3547\n",
      "dist=0.0 at coordination 3230, 3500\n",
      "dist=0.0 at coordination 3231, 3949\n",
      "dist=0.0 at coordination 3232, 8233\n",
      "dist=0.0 at coordination 3233, 4143\n",
      "dist=0.0 at coordination 3234, 7190\n",
      "dist=0.0 at coordination 3235, 7191\n",
      "dist=0.0 at coordination 3236, 3326\n",
      "dist=0.0 at coordination 3237, 3327\n"
     ]
    },
    {
     "name": "stderr",
     "output_type": "stream",
     "text": [
      "  1%|          | 3270/584281 [01:46<2:23:10, 67.63it/s]"
     ]
    },
    {
     "name": "stdout",
     "output_type": "stream",
     "text": [
      "dist=0.0 at coordination 3238, 4005\n",
      "dist=0.0 at coordination 3239, 3317\n",
      "dist=0.0 at coordination 3240, 3357\n",
      "dist=0.0 at coordination 3241, 3343\n",
      "dist=0.0 at coordination 3242, 3344\n",
      "dist=0.0 at coordination 3243, 3257\n",
      "dist=0.0 at coordination 3244, 3258\n",
      "dist=0.0 at coordination 3245, 3259\n",
      "dist=0.0 at coordination 3246, 3260\n",
      "dist=0.0 at coordination 3247, 3315\n",
      "dist=0.0 at coordination 3248, 3296\n",
      "dist=0.0 at coordination 3249, 3255\n",
      "dist=0.0 at coordination 3250, 3330\n",
      "dist=0.0 at coordination 3251, 3268\n",
      "dist=0.0 at coordination 3252, 3269\n",
      "dist=0.0 at coordination 3253, 3369\n",
      "dist=0.0 at coordination 3254, 3430\n",
      "dist=0.0 at coordination 3255, 3329\n",
      "dist=0.0 at coordination 3256, 3390\n",
      "dist=0.0 at coordination 3257, 3311\n",
      "dist=0.0 at coordination 3258, 3312\n",
      "dist=0.0 at coordination 3259, 3313\n",
      "dist=0.0 at coordination 3260, 3314\n",
      "dist=0.0 at coordination 3261, 3322\n",
      "dist=0.0 at coordination 3262, 3277\n",
      "dist=0.0 at coordination 3263, 3270\n",
      "dist=0.0 at coordination 3264, 3279\n",
      "dist=0.0 at coordination 3265, 3280\n",
      "dist=0.0 at coordination 3266, 3281\n",
      "dist=0.0 at coordination 3267, 3282\n",
      "dist=0.0 at coordination 3268, 3283\n",
      "dist=0.0 at coordination 3269, 3284\n",
      "dist=0.0 at coordination 3270, 3278\n",
      "dist=0.0 at coordination 3271, 3535\n",
      "dist=0.0 at coordination 3272, 4165\n",
      "dist=0.0 at coordination 3273, 3895\n",
      "dist=0.0 at coordination 3274, 7322\n",
      "dist=0.0 at coordination 3275, 3935\n",
      "dist=0.0 at coordination 3276, 3434\n",
      "dist=0.0 at coordination 3277, 3323\n",
      "dist=0.0 at coordination 3278, 3285\n",
      "dist=0.0 at coordination 3279, 3286\n",
      "dist=0.0 at coordination 3280, 3516\n",
      "dist=0.0 at coordination 3281, 3346\n",
      "dist=0.0 at coordination 3282, 3359\n",
      "dist=0.0 at coordination 3283, 3331\n",
      "dist=0.0 at coordination 3284, 3304\n",
      "dist=0.0 at coordination 3285, 3303\n",
      "dist=0.0 at coordination 3286, 3332\n",
      "dist=0.0 at coordination 3287, 3333\n",
      "dist=0.0 at coordination 3288, 3480\n",
      "dist=0.0 at coordination 3289, 3442\n",
      "dist=0.0 at coordination 3290, 3443\n",
      "dist=0.0 at coordination 3291, 3928\n",
      "dist=0.0 at coordination 3292, 3507\n",
      "dist=0.0 at coordination 3293, 3316\n",
      "dist=0.0 at coordination 3294, 3386\n",
      "dist=0.0 at coordination 3295, 3387\n",
      "dist=0.0 at coordination 3296, 3351\n",
      "dist=0.0 at coordination 3297, 3431\n",
      "dist=0.0 at coordination 3298, 3548\n"
     ]
    },
    {
     "name": "stderr",
     "output_type": "stream",
     "text": [
      "  1%|          | 3309/584281 [01:46<1:45:33, 91.73it/s]"
     ]
    },
    {
     "name": "stdout",
     "output_type": "stream",
     "text": [
      "dist=0.0 at coordination 3299, 5151\n",
      "dist=0.0 at coordination 3300, 3496\n",
      "dist=0.0 at coordination 3301, 3382\n",
      "dist=0.0 at coordination 3302, 3368\n",
      "dist=0.0 at coordination 3303, 3305\n",
      "dist=0.0 at coordination 3304, 3361\n",
      "dist=0.0 at coordination 3305, 3362\n",
      "dist=0.0 at coordination 3306, 3777\n",
      "dist=0.0 at coordination 3307, 4942\n",
      "dist=0.0 at coordination 3308, 3397\n",
      "dist=0.0 at coordination 3309, 4830\n",
      "dist=0.0 at coordination 3310, 3813\n",
      "dist=0.0 at coordination 3311, 3348\n",
      "dist=0.0 at coordination 3312, 3334\n",
      "dist=0.0 at coordination 3313, 3320\n",
      "dist=0.0 at coordination 3314, 3321\n",
      "dist=0.0 at coordination 3315, 3350\n",
      "dist=0.0 at coordination 3316, 3402\n",
      "dist=0.0 at coordination 3317, 3356\n",
      "dist=0.0 at coordination 3318, 3454\n",
      "dist=0.0 at coordination 3319, 3341\n",
      "dist=0.0 at coordination 3320, 3335\n",
      "dist=0.0 at coordination 3321, 3446\n",
      "dist=0.0 at coordination 3322, 3447\n",
      "dist=0.0 at coordination 3323, 3511\n",
      "dist=0.0 at coordination 3324, 3364\n",
      "dist=0.0 at coordination 3325, 3365\n",
      "dist=0.0 at coordination 3326, 3366\n",
      "dist=0.0 at coordination 3327, 5805\n",
      "dist=0.0 at coordination 3328, 3498\n",
      "dist=0.0 at coordination 3329, 3352\n",
      "dist=0.0 at coordination 3330, 3353\n",
      "dist=0.0 at coordination 3331, 3360\n",
      "dist=0.0 at coordination 3332, 3515\n",
      "dist=0.0 at coordination 3333, 3449\n",
      "dist=0.0 at coordination 3334, 3425\n",
      "dist=0.0 at coordination 3335, 3465\n"
     ]
    },
    {
     "name": "stderr",
     "output_type": "stream",
     "text": [
      "  1%|          | 3332/584281 [01:46<1:31:29, 105.83it/s]"
     ]
    },
    {
     "name": "stdout",
     "output_type": "stream",
     "text": [
      "dist=0.0 at coordination 3336, 5585\n",
      "dist=0.0 at coordination 3337, 5578\n",
      "dist=0.0 at coordination 3338, 4724\n",
      "dist=0.0 at coordination 3339, 5936\n",
      "dist=0.0 at coordination 3340, 4916\n",
      "dist=0.0 at coordination 3341, 3466\n",
      "dist=0.0 at coordination 3342, 3426\n",
      "dist=0.0 at coordination 3343, 3358\n",
      "dist=0.0 at coordination 3344, 3347\n"
     ]
    },
    {
     "name": "stderr",
     "output_type": "stream",
     "text": [
      "  1%|          | 3364/584281 [01:47<1:29:56, 107.64it/s]"
     ]
    },
    {
     "name": "stdout",
     "output_type": "stream",
     "text": [
      "dist=0.0 at coordination 3345, 3391\n",
      "dist=0.0 at coordination 3346, 3517\n",
      "dist=0.0 at coordination 3347, 3423\n",
      "dist=0.0 at coordination 3348, 3424\n",
      "dist=0.0 at coordination 3349, 3450\n",
      "dist=0.0 at coordination 3350, 3451\n",
      "dist=0.0 at coordination 3351, 3388\n",
      "dist=0.0 at coordination 3352, 3389\n",
      "dist=0.0 at coordination 3353, 3490\n",
      "dist=0.0 at coordination 3354, 3429\n",
      "dist=0.0 at coordination 3355, 3370\n",
      "dist=0.0 at coordination 3356, 3371\n",
      "dist=0.0 at coordination 3357, 3372\n",
      "dist=0.0 at coordination 3358, 3422\n",
      "dist=0.0 at coordination 3359, 3428\n",
      "dist=0.0 at coordination 3360, 3491\n",
      "dist=0.0 at coordination 3361, 3363\n",
      "dist=0.0 at coordination 3362, 3512\n",
      "dist=0.0 at coordination 3363, 3492\n",
      "dist=0.0 at coordination 3364, 4454\n",
      "dist=0.0 at coordination 3365, 4455\n",
      "dist=0.0 at coordination 3366, 4100\n",
      "dist=0.0 at coordination 3367, 4101\n",
      "dist=0.0 at coordination 3368, 3383\n",
      "dist=0.0 at coordination 3369, 3384\n",
      "dist=0.0 at coordination 3370, 3385\n",
      "dist=0.0 at coordination 3371, 3409\n",
      "dist=0.0 at coordination 3372, 3410\n",
      "dist=0.0 at coordination 3373, 3411\n",
      "dist=0.0 at coordination 3374, 3526\n",
      "dist=0.0 at coordination 3375, 4475\n",
      "dist=0.0 at coordination 3376, 4301\n",
      "dist=0.0 at coordination 3377, 4756\n"
     ]
    },
    {
     "name": "stderr",
     "output_type": "stream",
     "text": [
      "  1%|          | 3394/584281 [01:47<1:40:54, 95.94it/s] "
     ]
    },
    {
     "name": "stdout",
     "output_type": "stream",
     "text": [
      "dist=0.0 at coordination 3378, 4879\n",
      "dist=0.0 at coordination 3379, 6019\n",
      "dist=0.0 at coordination 3380, 4502\n",
      "dist=0.0 at coordination 3381, 4389\n",
      "dist=0.0 at coordination 3382, 4335\n",
      "dist=0.0 at coordination 3383, 4102\n",
      "dist=0.0 at coordination 3384, 3493\n",
      "dist=0.0 at coordination 3385, 3419\n",
      "dist=0.0 at coordination 3386, 3403\n",
      "dist=0.0 at coordination 3387, 3401\n",
      "dist=0.0 at coordination 3388, 3615\n",
      "dist=0.0 at coordination 3389, 3616\n",
      "dist=0.0 at coordination 3390, 3502\n",
      "dist=0.0 at coordination 3391, 3486\n",
      "dist=0.0 at coordination 3392, 3487\n",
      "dist=0.0 at coordination 3393, 3412\n",
      "dist=0.0 at coordination 3394, 3413\n",
      "dist=0.0 at coordination 3395, 3414\n",
      "dist=0.0 at coordination 3396, 4398\n",
      "dist=0.0 at coordination 3397, 4399\n",
      "dist=0.0 at coordination 3398, 4400\n",
      "dist=0.0 at coordination 3399, 4945\n",
      "dist=0.0 at coordination 3400, 3433\n",
      "dist=0.0 at coordination 3401, 3404\n",
      "dist=0.0 at coordination 3402, 3405\n",
      "dist=0.0 at coordination 3403, 3406\n",
      "dist=0.0 at coordination 3404, 3407\n",
      "dist=0.0 at coordination 3405, 3408\n",
      "dist=0.0 at coordination 3406, 3509\n",
      "dist=0.0 at coordination 3407, 3647\n",
      "dist=0.0 at coordination 3408, 3452\n",
      "dist=0.0 at coordination 3409, 3420\n",
      "dist=0.0 at coordination 3410, 3421\n",
      "dist=0.0 at coordination 3411, 3567\n",
      "dist=0.0 at coordination 3412, 3488\n",
      "dist=0.0 at coordination 3413, 3489\n",
      "dist=0.0 at coordination 3414, 4156\n",
      "dist=0.0 at coordination 3415, 4157\n"
     ]
    },
    {
     "name": "stderr",
     "output_type": "stream",
     "text": [
      "  1%|          | 3433/584281 [01:47<1:19:23, 121.94it/s]"
     ]
    },
    {
     "name": "stdout",
     "output_type": "stream",
     "text": [
      "dist=0.0 at coordination 3416, 4158\n",
      "dist=0.0 at coordination 3417, 4159\n",
      "dist=0.0 at coordination 3418, 3797\n",
      "dist=0.0 at coordination 3419, 3735\n",
      "dist=0.0 at coordination 3420, 3453\n",
      "dist=0.0 at coordination 3421, 3752\n",
      "dist=0.0 at coordination 3422, 3427\n",
      "dist=0.0 at coordination 3423, 3462\n",
      "dist=0.0 at coordination 3424, 3463\n",
      "dist=0.0 at coordination 3425, 3464\n",
      "dist=0.0 at coordination 3426, 3643\n",
      "dist=0.0 at coordination 3427, 3718\n",
      "dist=0.0 at coordination 3428, 3518\n",
      "dist=0.0 at coordination 3429, 3571\n",
      "dist=0.0 at coordination 3430, 3703\n",
      "dist=0.0 at coordination 3431, 3499\n",
      "dist=0.0 at coordination 3432, 3709\n",
      "dist=0.0 at coordination 3433, 3646\n",
      "dist=0.0 at coordination 3434, 3510\n",
      "dist=0.0 at coordination 3435, 3474\n",
      "dist=0.0 at coordination 3436, 3475\n",
      "dist=0.0 at coordination 3437, 5731\n",
      "dist=0.0 at coordination 3438, 5732\n"
     ]
    },
    {
     "name": "stderr",
     "output_type": "stream",
     "text": [
      "  1%|          | 3472/584281 [01:48<1:51:06, 87.13it/s] "
     ]
    },
    {
     "name": "stdout",
     "output_type": "stream",
     "text": [
      "dist=0.0 at coordination 3439, 5733\n",
      "dist=0.0 at coordination 3440, 4418\n",
      "dist=0.0 at coordination 3441, 15713\n",
      "dist=0.0 at coordination 3442, 4492\n",
      "dist=0.0 at coordination 3443, 4493\n",
      "dist=0.0 at coordination 3444, 4494\n",
      "dist=0.0 at coordination 3445, 4177\n",
      "dist=0.0 at coordination 3446, 3455\n",
      "dist=0.0 at coordination 3447, 3473\n",
      "dist=0.0 at coordination 3448, 3666\n",
      "dist=0.0 at coordination 3449, 3479\n",
      "dist=0.0 at coordination 3450, 3748\n",
      "dist=0.0 at coordination 3451, 3456\n",
      "dist=0.0 at coordination 3452, 3508\n",
      "dist=0.0 at coordination 3453, 3561\n",
      "dist=0.0 at coordination 3454, 3590\n",
      "dist=0.0 at coordination 3455, 3472\n",
      "dist=0.0 at coordination 3456, 3559\n",
      "dist=0.0 at coordination 3457, 3904\n",
      "dist=0.0 at coordination 3458, 3495\n",
      "dist=0.0 at coordination 3459, 3574\n",
      "dist=0.0 at coordination 3460, 3575\n",
      "dist=0.0 at coordination 3461, 3484\n",
      "dist=0.0 at coordination 3462, 3485\n",
      "dist=0.0 at coordination 3463, 3578\n",
      "dist=0.0 at coordination 3464, 3579\n",
      "dist=0.0 at coordination 3465, 3467\n",
      "dist=0.0 at coordination 3466, 3468\n",
      "dist=0.0 at coordination 3467, 3469\n",
      "dist=0.0 at coordination 3468, 3470\n",
      "dist=0.0 at coordination 3469, 3471\n",
      "dist=0.0 at coordination 3470, 3581\n",
      "dist=0.0 at coordination 3471, 3580\n",
      "dist=0.0 at coordination 3472, 3712\n",
      "dist=0.0 at coordination 3473, 3713\n",
      "dist=0.0 at coordination 3474, 3651\n",
      "dist=0.0 at coordination 3475, 4740\n",
      "dist=0.0 at coordination 3476, 4741\n"
     ]
    },
    {
     "name": "stderr",
     "output_type": "stream",
     "text": [
      "  1%|          | 3486/584281 [01:48<2:03:45, 78.21it/s]"
     ]
    },
    {
     "name": "stdout",
     "output_type": "stream",
     "text": [
      "dist=0.0 at coordination 3477, 4742\n",
      "dist=0.0 at coordination 3478, 4145\n",
      "dist=0.0 at coordination 3479, 3715\n",
      "dist=0.0 at coordination 3480, 4491\n",
      "dist=0.0 at coordination 3481, 5340\n",
      "dist=0.0 at coordination 3482, 5341\n",
      "dist=0.0 at coordination 3483, 6269\n",
      "dist=0.0 at coordination 3484, 3576\n",
      "dist=0.0 at coordination 3485, 3523\n",
      "dist=0.0 at coordination 3486, 3524\n",
      "dist=0.0 at coordination 3487, 3525\n",
      "dist=0.0 at coordination 3488, 3568\n",
      "dist=0.0 at coordination 3489, 3501\n",
      "dist=0.0 at coordination 3490, 3570\n",
      "dist=0.0 at coordination 3491, 3519\n",
      "dist=0.0 at coordination 3492, 3513\n",
      "dist=0.0 at coordination 3493, 3630\n",
      "dist=0.0 at coordination 3494, 3572\n",
      "dist=0.0 at coordination 3495, 3573\n",
      "dist=0.0 at coordination 3496, 4003\n",
      "dist=0.0 at coordination 3497, 4004\n"
     ]
    },
    {
     "name": "stderr",
     "output_type": "stream",
     "text": [
      "  1%|          | 3530/584281 [01:49<1:17:29, 124.91it/s]"
     ]
    },
    {
     "name": "stdout",
     "output_type": "stream",
     "text": [
      "dist=0.0 at coordination 3498, 4391\n",
      "dist=0.0 at coordination 3499, 3947\n",
      "dist=0.0 at coordination 3500, 3546\n",
      "dist=0.0 at coordination 3501, 3569\n",
      "dist=0.0 at coordination 3502, 3617\n",
      "dist=0.0 at coordination 3503, 4127\n",
      "dist=0.0 at coordination 3504, 4434\n",
      "dist=0.0 at coordination 3505, 3530\n",
      "dist=0.0 at coordination 3506, 3531\n",
      "dist=0.0 at coordination 3507, 3782\n",
      "dist=0.0 at coordination 3508, 3560\n",
      "dist=0.0 at coordination 3509, 3649\n",
      "dist=0.0 at coordination 3510, 3650\n",
      "dist=0.0 at coordination 3511, 3533\n",
      "dist=0.0 at coordination 3512, 3514\n",
      "dist=0.0 at coordination 3513, 3629\n",
      "dist=0.0 at coordination 3514, 3534\n",
      "dist=0.0 at coordination 3515, 3520\n",
      "dist=0.0 at coordination 3516, 3521\n",
      "dist=0.0 at coordination 3517, 3522\n",
      "dist=0.0 at coordination 3518, 3719\n",
      "dist=0.0 at coordination 3519, 3656\n",
      "dist=0.0 at coordination 3520, 3657\n",
      "dist=0.0 at coordination 3521, 3658\n",
      "dist=0.0 at coordination 3522, 3619\n",
      "dist=0.0 at coordination 3523, 3577\n",
      "dist=0.0 at coordination 3524, 3618\n",
      "dist=0.0 at coordination 3525, 3659\n",
      "dist=0.0 at coordination 3526, 3645\n",
      "dist=0.0 at coordination 3527, 3589\n",
      "dist=0.0 at coordination 3528, 3562\n",
      "dist=0.0 at coordination 3529, 3563\n",
      "dist=0.0 at coordination 3530, 3564\n",
      "dist=0.0 at coordination 3531, 4617\n",
      "dist=0.0 at coordination 3532, 4574\n",
      "dist=0.0 at coordination 3533, 3738\n",
      "dist=0.0 at coordination 3534, 3823\n",
      "dist=0.0 at coordination 3535, 4562\n",
      "dist=0.0 at coordination 3536, 3652\n",
      "dist=0.0 at coordination 3537, 3601\n",
      "dist=0.0 at coordination 3538, 20924\n",
      "dist=0.0 at coordination 3539, 49613\n",
      "dist=0.0 at coordination 3540, 24159\n"
     ]
    },
    {
     "name": "stderr",
     "output_type": "stream",
     "text": [
      "  1%|          | 3536/584281 [01:53<5:09:22, 31.29it/s] \n"
     ]
    },
    {
     "ename": "KeyboardInterrupt",
     "evalue": "",
     "output_type": "error",
     "traceback": [
      "\u001b[0;31m---------------------------------------------------------------------------\u001b[0m",
      "\u001b[0;31mKeyboardInterrupt\u001b[0m                         Traceback (most recent call last)",
      "Cell \u001b[0;32mIn[13], line 1\u001b[0m\n\u001b[0;32m----> 1\u001b[0m \u001b[43msegment_generator\u001b[49m\u001b[38;5;241;43m.\u001b[39;49m\u001b[43mcalculate_recurrent_plot_points\u001b[49m\u001b[43m(\u001b[49m\u001b[43mmicrostate_segments\u001b[49m\u001b[43m)\u001b[49m\n",
      "File \u001b[0;32m~/research/snn-seizure-prediction-research/scripts/rp_segmentation.py:61\u001b[0m, in \u001b[0;36mFiniteTimeDelaySegmentGenerator.calculate_recurrent_plot_points\u001b[0;34m(self, D, epsilon)\u001b[0m\n\u001b[1;32m     59\u001b[0m \u001b[38;5;28;01mfor\u001b[39;00m i \u001b[38;5;129;01min\u001b[39;00m tqdm(\u001b[38;5;28mrange\u001b[39m(\u001b[38;5;28mself\u001b[39m\u001b[38;5;241m.\u001b[39mtime_delay, length)):\n\u001b[1;32m     60\u001b[0m     \u001b[38;5;28;01mfor\u001b[39;00m j \u001b[38;5;129;01min\u001b[39;00m \u001b[38;5;28mrange\u001b[39m(i \u001b[38;5;241m+\u001b[39m \u001b[38;5;241m1\u001b[39m, length):\n\u001b[0;32m---> 61\u001b[0m         dist \u001b[38;5;241m=\u001b[39m \u001b[38;5;28;43mself\u001b[39;49m\u001b[38;5;241;43m.\u001b[39;49m\u001b[43mdistance\u001b[49m\u001b[43m(\u001b[49m\u001b[43mi\u001b[49m\u001b[43m,\u001b[49m\u001b[43m \u001b[49m\u001b[43mj\u001b[49m\u001b[43m)\u001b[49m\n\u001b[1;32m     62\u001b[0m         \u001b[38;5;28;01mif\u001b[39;00m dist \u001b[38;5;241m<\u001b[39m epsilon:\n\u001b[1;32m     63\u001b[0m             \u001b[38;5;28mprint\u001b[39m(\u001b[38;5;124mf\u001b[39m\u001b[38;5;124m'\u001b[39m\u001b[38;5;124mdist=\u001b[39m\u001b[38;5;132;01m{\u001b[39;00mdist\u001b[38;5;132;01m}\u001b[39;00m\u001b[38;5;124m at coordination \u001b[39m\u001b[38;5;132;01m{\u001b[39;00mi\u001b[38;5;132;01m}\u001b[39;00m\u001b[38;5;124m, \u001b[39m\u001b[38;5;132;01m{\u001b[39;00mj\u001b[38;5;132;01m}\u001b[39;00m\u001b[38;5;124m'\u001b[39m)\n",
      "File \u001b[0;32m~/research/snn-seizure-prediction-research/scripts/rp_segmentation.py:51\u001b[0m, in \u001b[0;36mFiniteTimeDelaySegmentGenerator.distance\u001b[0;34m(self, t_i, t_j)\u001b[0m\n\u001b[1;32m     49\u001b[0m time_delay \u001b[38;5;241m=\u001b[39m \u001b[38;5;28mmin\u001b[39m(t_i, t_j, \u001b[38;5;28mself\u001b[39m\u001b[38;5;241m.\u001b[39mtime_delay)\n\u001b[1;32m     50\u001b[0m time_delay_vector1 \u001b[38;5;241m=\u001b[39m \u001b[38;5;28mself\u001b[39m\u001b[38;5;241m.\u001b[39m_time_delay_vector(t_i, time_delay)\n\u001b[0;32m---> 51\u001b[0m time_delay_vector2 \u001b[38;5;241m=\u001b[39m \u001b[38;5;28;43mself\u001b[39;49m\u001b[38;5;241;43m.\u001b[39;49m\u001b[43m_time_delay_vector\u001b[49m\u001b[43m(\u001b[49m\u001b[43mt_j\u001b[49m\u001b[43m,\u001b[49m\u001b[43m \u001b[49m\u001b[43mtime_delay\u001b[49m\u001b[43m)\u001b[49m           \n\u001b[1;32m     53\u001b[0m \u001b[38;5;28;01mreturn\u001b[39;00m np\u001b[38;5;241m.\u001b[39msqrt(np\u001b[38;5;241m.\u001b[39msum((time_delay_vector1 \u001b[38;5;241m-\u001b[39m time_delay_vector2) \u001b[38;5;241m*\u001b[39m\u001b[38;5;241m*\u001b[39m \u001b[38;5;241m2\u001b[39m))\n",
      "File \u001b[0;32m~/research/snn-seizure-prediction-research/scripts/rp_segmentation.py:46\u001b[0m, in \u001b[0;36mFiniteTimeDelaySegmentGenerator._time_delay_vector\u001b[0;34m(self, t, time_delay)\u001b[0m\n\u001b[1;32m     44\u001b[0m vec \u001b[38;5;241m=\u001b[39m \u001b[38;5;28mself\u001b[39m\u001b[38;5;241m.\u001b[39mdata[\u001b[38;5;28mmax\u001b[39m(t \u001b[38;5;241m-\u001b[39m time_delay \u001b[38;5;241m+\u001b[39m \u001b[38;5;241m1\u001b[39m, \u001b[38;5;241m0\u001b[39m): t \u001b[38;5;241m+\u001b[39m \u001b[38;5;241m1\u001b[39m]\n\u001b[1;32m     45\u001b[0m one_hot_vec \u001b[38;5;241m=\u001b[39m np\u001b[38;5;241m.\u001b[39meye(\u001b[38;5;28mself\u001b[39m\u001b[38;5;241m.\u001b[39mn_states)[vec]\n\u001b[0;32m---> 46\u001b[0m \u001b[38;5;28;01mreturn\u001b[39;00m one_hot_vec \u001b[38;5;241m/\u001b[39m \u001b[43mnp\u001b[49m\u001b[38;5;241;43m.\u001b[39;49m\u001b[43mlinalg\u001b[49m\u001b[38;5;241;43m.\u001b[39;49m\u001b[43mnorm\u001b[49m\u001b[43m(\u001b[49m\u001b[43mone_hot_vec\u001b[49m\u001b[43m)\u001b[49m\n",
      "File \u001b[0;32m~/anaconda3/envs/py39/lib/python3.9/site-packages/numpy/linalg/_linalg.py:2736\u001b[0m, in \u001b[0;36mnorm\u001b[0;34m(x, ord, axis, keepdims)\u001b[0m\n\u001b[1;32m   2734\u001b[0m     sqnorm \u001b[38;5;241m=\u001b[39m x_real\u001b[38;5;241m.\u001b[39mdot(x_real) \u001b[38;5;241m+\u001b[39m x_imag\u001b[38;5;241m.\u001b[39mdot(x_imag)\n\u001b[1;32m   2735\u001b[0m \u001b[38;5;28;01melse\u001b[39;00m:\n\u001b[0;32m-> 2736\u001b[0m     sqnorm \u001b[38;5;241m=\u001b[39m \u001b[43mx\u001b[49m\u001b[38;5;241;43m.\u001b[39;49m\u001b[43mdot\u001b[49m\u001b[43m(\u001b[49m\u001b[43mx\u001b[49m\u001b[43m)\u001b[49m\n\u001b[1;32m   2737\u001b[0m ret \u001b[38;5;241m=\u001b[39m sqrt(sqnorm)\n\u001b[1;32m   2738\u001b[0m \u001b[38;5;28;01mif\u001b[39;00m keepdims:\n",
      "\u001b[0;31mKeyboardInterrupt\u001b[0m: "
     ]
    }
   ],
   "source": [
    "segment_generator.calculate_recurrent_plot_points(microstate_segments)"
   ]
  },
  {
   "cell_type": "code",
   "execution_count": null,
   "metadata": {},
   "outputs": [],
   "source": []
  },
  {
   "cell_type": "markdown",
   "metadata": {},
   "source": []
  },
  {
   "cell_type": "markdown",
   "metadata": {},
   "source": []
  },
  {
   "cell_type": "code",
   "execution_count": null,
   "metadata": {},
   "outputs": [],
   "source": []
  },
  {
   "cell_type": "code",
   "execution_count": null,
   "metadata": {},
   "outputs": [],
   "source": []
  }
 ],
 "metadata": {
  "kernelspec": {
   "display_name": "sakuyui39",
   "language": "python",
   "name": "python3"
  },
  "language_info": {
   "codemirror_mode": {
    "name": "ipython",
    "version": 3
   },
   "file_extension": ".py",
   "mimetype": "text/x-python",
   "name": "python",
   "nbconvert_exporter": "python",
   "pygments_lexer": "ipython3",
   "version": "3.9.18"
  }
 },
 "nbformat": 4,
 "nbformat_minor": 2
}
