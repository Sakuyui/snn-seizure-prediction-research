{
 "cells": [
  {
   "cell_type": "code",
   "execution_count": 8,
   "metadata": {},
   "outputs": [],
   "source": [
    "# grammars (trained by neural network) \n",
    "# --> input\n",
    "# --> CKY \n",
    "# --> CKY Table (Parsing Result) \n",
    "# --> Tree Representation\n",
    "# --> Statistical Analysis "
   ]
  },
  {
   "cell_type": "code",
   "execution_count": 1,
   "metadata": {},
   "outputs": [],
   "source": [
    "import numpy as np\n",
    "from parsing_statistics import ParseTreeStatistics\n",
    "from parsing_statistics.backtracker import to_parse_tree, to_grammar_derivation_sequence\n",
    "import sys\n",
    "sys.path.append(\"parsing_statistics\")\n",
    "from eeg_lang.cky_parser_dev.pcfgs.cnf_pcfg import MatrixAndBitmapBasedExplicitPreterminateCNFPCFG"
   ]
  },
  {
   "cell_type": "code",
   "execution_count": 3,
   "metadata": {},
   "outputs": [],
   "source": [
    "N = 128\n",
    "P = 64\n",
    "T = 4\n",
    "grammar = MatrixAndBitmapBasedExplicitPreterminateCNFPCFG(N=N, P=P, T=T)"
   ]
  },
  {
   "cell_type": "code",
   "execution_count": null,
   "metadata": {},
   "outputs": [],
   "source": []
  }
 ],
 "metadata": {
  "kernelspec": {
   "display_name": "py39",
   "language": "python",
   "name": "python3"
  },
  "language_info": {
   "codemirror_mode": {
    "name": "ipython",
    "version": 3
   },
   "file_extension": ".py",
   "mimetype": "text/x-python",
   "name": "python",
   "nbconvert_exporter": "python",
   "pygments_lexer": "ipython3",
   "version": "3.9.18"
  }
 },
 "nbformat": 4,
 "nbformat_minor": 2
}
