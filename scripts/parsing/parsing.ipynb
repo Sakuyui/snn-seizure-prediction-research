{
 "cells": [
  {
   "cell_type": "code",
   "execution_count": 1,
   "metadata": {},
   "outputs": [],
   "source": [
    "# grammars (trained by neural network) \n",
    "# --> input\n",
    "# --> CKY \n",
    "# --> CKY Table (Parsing Result) \n",
    "# --> Tree Representation\n",
    "# --> Statistical Analysis "
   ]
  },
  {
   "cell_type": "code",
   "execution_count": 1,
   "metadata": {},
   "outputs": [],
   "source": [
    "import numpy as np\n",
    "from parse_statistics.parsing_statistics import ParseTreeStatistics\n",
    "from backtracker import to_parse_tree, to_grammar_derivation_sequence\n",
    "import sys\n",
    "sys.path.append(\"parsing_statistics\")\n",
    "from eeg_lang import MatrixAndBitmapBasedExplicitPreterminateCNFPCFG\n",
    "\n",
    "import tvm\n",
    "import tvm.testing\n",
    "from tvm import te # tensor expression\n",
    "import numpy as np\n",
    "\n",
    "from tvm.script import tir as T\n",
    "from tvm import meta_schedule as ms\n",
    "from tvm.script.parser.tir import evaluate"
   ]
  },
  {
   "cell_type": "markdown",
   "metadata": {},
   "source": [
    "## Prepare grammars"
   ]
  },
  {
   "cell_type": "code",
   "execution_count": 2,
   "metadata": {},
   "outputs": [
    {
     "data": {
      "text/plain": [
       "[(1, 100), (100, 70), (145, 70), (145, 70), (45, 4)]"
      ]
     },
     "execution_count": 2,
     "metadata": {},
     "output_type": "execute_result"
    }
   ],
   "source": [
    "cnt_N = 145\n",
    "cnt_P = 45\n",
    "cnt_T = 4\n",
    "cnt_NT = cnt_N - cnt_T\n",
    "r = 70\n",
    "grammar = MatrixAndBitmapBasedExplicitPreterminateCNFPCFG(N=cnt_N, P=cnt_P, T=cnt_T, low_rank_decomposition=70)\n",
    "[grammar.grammars[key].shape for key in grammar.grammars]"
   ]
  },
  {
   "cell_type": "code",
   "execution_count": 3,
   "metadata": {},
   "outputs": [],
   "source": [
    "n = 23\n",
    "class Module_FastCKY_PCFG:\n",
    "    @T.prim_func\n",
    "    def main(unary: T.Buffer((n, cnt_T), \"float32\"),\n",
    "             root:  T.Buffer((cnt_NT), \"float32\"),\n",
    "             H:  T.Buffer((cnt_NT, r), \"float32\"),\n",
    "             L:  T.Buffer((cnt_N, r), \"float32\"),\n",
    "             R:  T.Buffer((cnt_N, r), \"float32\"),\n",
    "\n",
    "             ):\n",
    "        \n",
    "        "
   ]
  },
  {
   "cell_type": "code",
   "execution_count": null,
   "metadata": {},
   "outputs": [],
   "source": [
    "@tvm.script.ir_module\n",
    "class CKYModule_SimplePCFG:\n",
    "  @T.prim_func\n",
    "  def main(sequence: T.Buffer((SequenceSize), \"int8\"),\n",
    "           L: T.buffer((N, N)),\n",
    "           R: T.buffer((N, N)),\n",
    "           P: T.buffer((N, Te)),\n",
    "           len: T.int16,\n",
    "           out_cky_table: T.buffer((SequenceSize, SequenceSize, N)),\n",
    "           aux_beta: T.buffer((SequenceSize, SequenceSize, N)),\n",
    "           aux_zeta: T.buffer((SequenceSize, SequenceSize, N))\n",
    "    ):\n",
    "    T.func_attr({\"global_symbol\": \"main\", \"tir.noalias\": True})\n",
    "    \n",
    "    for i in T.grid(len):\n",
    "      with T.block(\"block_init_cky\"):\n",
    "        with T.init():\n",
    "          for j in range(0, N):\n",
    "            out_cky_table[i, i, j] = P[j, sequence[i]]\n",
    "    \n",
    "    for i in T.grid(len):\n",
    "      for axis_left_symbol in T.grid(N):\n",
    "        for axis_right_symbol in T.grid(N):\n",
    "          with T.block(\"block_init_aux_array\"):\n",
    "            with T.init():\n",
    "              aux_beta[i, i, axis_left_symbol] += L[axis_left_symbol, axis_right_symbol] * out_cky_table[i, i, axis_right_symbol]\n",
    "              aux_zeta[i, i, axis_left_symbol] += R[axis_left_symbol, axis_right_symbol] * out_cky_table[i, i, axis_right_symbol]\n",
    "            \n",
    "    for t in range(1, len):\n",
    "      for i in range(0, len - t):\n",
    "        cell_cor_i = i + t\n",
    "        cell_cor_j = i\n",
    "        for symbol_A in T.grid(N):\n",
    "          for k in range(cell_cor_i, cell_cor_j):\n",
    "            for symbol_B, symbol_C in T.grid(N, N):\n",
    "              with T.block(\"block_cky_main\"):\n",
    "                with T.init():\n",
    "                  out_cky_table[cell_cor_i, cell_cor_j, symbol_A] += aux_beta[cell_cor_i, k, symbol_B] * aux_beta[k, cell_cor_j, symbol_C]\n"
   ]
  },
  {
   "cell_type": "code",
   "execution_count": null,
   "metadata": {},
   "outputs": [],
   "source": []
  }
 ],
 "metadata": {
  "kernelspec": {
   "display_name": "py39",
   "language": "python",
   "name": "python3"
  },
  "language_info": {
   "codemirror_mode": {
    "name": "ipython",
    "version": 3
   },
   "file_extension": ".py",
   "mimetype": "text/x-python",
   "name": "python",
   "nbconvert_exporter": "python",
   "pygments_lexer": "ipython3",
   "version": "3.9.18"
  }
 },
 "nbformat": 4,
 "nbformat_minor": 2
}
