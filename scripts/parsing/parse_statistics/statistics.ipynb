{
 "cells": [
  {
   "cell_type": "code",
   "execution_count": 13,
   "metadata": {},
   "outputs": [],
   "source": [
    "import numpy as np\n",
    "from parsing_statistics import ParseTreeStatistics\n",
    "from backtracker import to_parse_tree, to_grammar_derivation_sequence\n",
    "import sys\n",
    "sys.path.append(\"../..\")\n",
    "from eeg_lang.cky_parser_dev.pcfgs.cnf_pcfg import MatrixAndBitmapBasedExplicitPreterminateCNFPCFG"
   ]
  },
  {
   "cell_type": "code",
   "execution_count": 14,
   "metadata": {},
   "outputs": [
    {
     "data": {
      "text/plain": [
       "('1', 1)"
      ]
     },
     "execution_count": 14,
     "metadata": {},
     "output_type": "execute_result"
    }
   ],
   "source": [
    "def _create_masks(offset, length):\n",
    "            return ((~0) << offset) & ~((~0) << (offset + length))\n",
    "def _encode_length(length):\n",
    "            return 1 + int(np.ceil(np.log2(length)))\n",
    "'{0:b}'.format(_create_masks(0, 1)), _encode_length(1)"
   ]
  },
  {
   "cell_type": "code",
   "execution_count": 15,
   "metadata": {},
   "outputs": [],
   "source": [
    "parse_tree_statistics = ParseTreeStatistics()"
   ]
  },
  {
   "cell_type": "code",
   "execution_count": 16,
   "metadata": {},
   "outputs": [],
   "source": [
    "N = 512\n",
    "P = 256\n",
    "T = 4\n",
    "grammar = MatrixAndBitmapBasedExplicitPreterminateCNFPCFG(N=N, P=P, T=T)"
   ]
  },
  {
   "cell_type": "code",
   "execution_count": null,
   "metadata": {},
   "outputs": [],
   "source": []
  },
  {
   "cell_type": "code",
   "execution_count": 17,
   "metadata": {},
   "outputs": [],
   "source": [
    "sequence_length = 50\n",
    "parse = np.random.random(size=(sequence_length, sequence_length, N))"
   ]
  },
  {
   "cell_type": "code",
   "execution_count": 18,
   "metadata": {},
   "outputs": [
    {
     "name": "stdout",
     "output_type": "stream",
     "text": [
      "Warning: encounter unexpected symbol in backtracking. This may cause incomplete back tracking.\n",
      "Warning: encounter unexpected symbol in backtracking. This may cause incomplete back tracking.\n",
      "Warning: encounter unexpected symbol in backtracking. This may cause incomplete back tracking.\n",
      "Warning: encounter unexpected symbol in backtracking. This may cause incomplete back tracking.\n",
      "Warning: encounter unexpected symbol in backtracking. This may cause incomplete back tracking.\n",
      "Warning: encounter unexpected symbol in backtracking. This may cause incomplete back tracking.\n",
      "Warning: encounter unexpected symbol in backtracking. This may cause incomplete back tracking.\n"
     ]
    },
    {
     "data": {
      "text/plain": [
       "{'root': 1,\n",
       " 'suc': [{'root': 238,\n",
       "   'suc': [{'root': 738,\n",
       "     'suc': [{'root': 66,\n",
       "       'suc': [],\n",
       "       'gid': '000000000000000100001000100010111100000000000011110001010000000000'},\n",
       "      {'root': 950,\n",
       "       'suc': [{'root': 358,\n",
       "         'suc': [{'root': 146,\n",
       "           'suc': [{'root': 541696, 'suc': [], 'gid': -1},\n",
       "            {'root': 826368, 'suc': [], 'gid': -1}],\n",
       "           'gid': '000000000000001001001000100001000100000000000011001001110000000000'},\n",
       "          {'root': 930,\n",
       "           'suc': [{'root': 22,\n",
       "             'suc': [{'root': 246,\n",
       "               'suc': [{'root': 723968, 'suc': [], 'gid': -1}],\n",
       "               'gid': '000000000000001111011000000000000000001001100010110000110000000000'}],\n",
       "             'gid': '000000000000000001011000000000000000111101100000000000000010011110'}],\n",
       "           'gid': '000000000000111010001000000000000000000101100010110001110000000000'}],\n",
       "         'gid': '000000000000010110011000000000000000100100100000000000001110100010'}],\n",
       "       'gid': '000000000000111011011000000000000001011001100010010100010000000000'}],\n",
       "     'gid': '000000000000101110001000000000000000010000100000000000001110110110'}],\n",
       "   'gid': '000000000000001110111000100100010100000000000000000000001011100010'}],\n",
       " 'gid': '000000000000000000000100000000000000111011100000000000000000000000'}"
      ]
     },
     "execution_count": 18,
     "metadata": {},
     "output_type": "execute_result"
    }
   ],
   "source": [
    "to_parse_tree(grammar=grammar, parse=parse, embed_grammar_id=True)"
   ]
  },
  {
   "cell_type": "code",
   "execution_count": null,
   "metadata": {},
   "outputs": [],
   "source": []
  },
  {
   "cell_type": "code",
   "execution_count": null,
   "metadata": {},
   "outputs": [],
   "source": []
  },
  {
   "cell_type": "code",
   "execution_count": null,
   "metadata": {},
   "outputs": [],
   "source": []
  }
 ],
 "metadata": {
  "kernelspec": {
   "display_name": "py39",
   "language": "python",
   "name": "python3"
  },
  "language_info": {
   "codemirror_mode": {
    "name": "ipython",
    "version": 3
   },
   "file_extension": ".py",
   "mimetype": "text/x-python",
   "name": "python",
   "nbconvert_exporter": "python",
   "pygments_lexer": "ipython3",
   "version": "3.9.18"
  }
 },
 "nbformat": 4,
 "nbformat_minor": 2
}
